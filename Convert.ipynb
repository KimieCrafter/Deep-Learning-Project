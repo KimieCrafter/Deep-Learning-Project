{
 "cells": [
  {
   "cell_type": "code",
   "execution_count": 1,
   "id": "d9093a42",
   "metadata": {},
   "outputs": [],
   "source": [
    "import pandas as pd"
   ]
  },
  {
   "cell_type": "code",
   "execution_count": 4,
   "id": "17119da2",
   "metadata": {},
   "outputs": [
    {
     "name": "stdout",
     "output_type": "stream",
     "text": [
      "               id      label\n",
      "0  sample1957.npy  36.861890\n",
      "1  sample1369.npy  69.503390\n",
      "2   sample782.npy  20.532703\n",
      "3  sample2255.npy  65.994330\n",
      "4  sample2160.npy  41.945030\n"
     ]
    }
   ],
   "source": [
    "import pandas as pd\n",
    "\n",
    "df = pd.read_csv('C:/IIUM/AI Note IIUM/Deep_Learning/Project/Kaggle.csv')\n",
    "\n",
    "# Convert label column from string list to float\n",
    "df['label'] = df['label'].str.strip('[]').astype(float)\n",
    "\n",
    "# Show first 5 rows to verify\n",
    "print(df.head())"
   ]
  },
  {
   "cell_type": "code",
   "execution_count": 5,
   "id": "48c8a8aa",
   "metadata": {},
   "outputs": [],
   "source": [
    "df.to_csv('C:/IIUM/AI Note IIUM/Deep_Learning/Project/Kaggle_cleaned.csv', index=False)\n"
   ]
  }
 ],
 "metadata": {
  "kernelspec": {
   "display_name": "venv",
   "language": "python",
   "name": "python3"
  },
  "language_info": {
   "codemirror_mode": {
    "name": "ipython",
    "version": 3
   },
   "file_extension": ".py",
   "mimetype": "text/x-python",
   "name": "python",
   "nbconvert_exporter": "python",
   "pygments_lexer": "ipython3",
   "version": "3.10.0"
  }
 },
 "nbformat": 4,
 "nbformat_minor": 5
}
