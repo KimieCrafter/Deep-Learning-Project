{
 "cells": [
  {
   "cell_type": "code",
   "execution_count": null,
   "metadata": {},
   "outputs": [],
   "source": [
    "import os\n",
    "import torch\n",
    "import torch.nn as nn\n",
    "import torch.nn.functional as F\n",
    "import torch.optim as optim\n",
    "import torchvision.transforms as T\n",
    "from torch.utils.data import Dataset, DataLoader\n",
    "import kornia.augmentation as K\n",
    "import pandas as pd\n",
    "import numpy as np\n",
    "import matplotlib.pyplot as plt\n",
    "from pathlib import Path"
   ]
  },
  {
   "cell_type": "code",
   "execution_count": null,
   "metadata": {},
   "outputs": [],
   "source": [
    "\n",
    "DEVICE = torch.device('cuda' if torch.cuda.is_available() else 'cpu')\n",
    "\n",
    "data_dir = \"C:/IIUM/AI Note IIUM/Deep_Learning/Project/Data/ot\"\n",
    "train_csv = pd.read_csv(\"C:/IIUM/AI Note IIUM/Deep_Learning/Project/Data/train.csv\")\n",
    "test_csv = pd.read_csv(\"C:/IIUM/AI Note IIUM/Deep_Learning/Project/Data/test.csv\")"
   ]
  },
  {
   "cell_type": "code",
   "execution_count": null,
   "metadata": {},
   "outputs": [],
   "source": [
    "def load_sample(sample_path):\n",
    "    \"\"\"Load a single hyperspectral sample.\"\"\"\n",
    "    return np.load(sample_path)\n",
    "\n",
    "def analyze_sample(sample):\n",
    "    \"\"\"Analyze basic properties of a hyperspectral sample.\"\"\"\n",
    "    print(f\"Sample shape: {sample.shape}\")\n",
    "    print(f\"Data type: {sample.dtype}\")\n",
    "    print(f\"Value range: [{sample.min():.2f}, {sample.max():.2f}]\")\n",
    "    print(f\"Mean: {sample.mean():.2f}\")\n",
    "    print(f\"Std: {sample.std():.2f}\")\n",
    "    \n",
    "def visualize_spectral_bands(sample, num_bands=5):\n",
    "    \"\"\"Visualize a subset of spectral bands.\"\"\"\n",
    "    if len(sample.shape) == 3:  # If sample is (height, width, bands)\n",
    "        height, width, bands = sample.shape\n",
    "        # Select evenly spaced bands\n",
    "        selected_bands = np.linspace(0, bands-1, num_bands, dtype=int)\n",
    "        \n",
    "        plt.figure(figsize=(15, 3))\n",
    "        for i, band in enumerate(selected_bands):\n",
    "            plt.subplot(1, num_bands, i+1)\n",
    "            plt.imshow(sample[:, :, band], cmap='gray')\n",
    "            plt.title(f'Band {band}')\n",
    "            plt.axis('off')\n",
    "        plt.tight_layout()\n",
    "        plt.show()\n",
    "    else:\n",
    "        print(\"Sample shape not compatible for visualization\")\n",
    "\n",
    "def plot_spectral_signature(sample, pixel_coords=None):\n",
    "    \"\"\"Plot spectral signature for a specific pixel or mean signature.\"\"\"\n",
    "    if len(sample.shape) == 3:\n",
    "        if pixel_coords is None:\n",
    "            # Plot mean signature across all pixels\n",
    "            mean_signature = sample.mean(axis=(0, 1))\n",
    "            plt.figure(figsize=(10, 4))\n",
    "            plt.plot(mean_signature)\n",
    "            plt.title('Mean Spectral Signature')\n",
    "            plt.xlabel('Band')\n",
    "            plt.ylabel('Intensity')\n",
    "            plt.show()\n",
    "        else:\n",
    "            # Plot signature for specific pixel\n",
    "            x, y = pixel_coords\n",
    "            signature = sample[x, y, :]\n",
    "            plt.figure(figsize=(10, 4))\n",
    "            plt.plot(signature)\n",
    "            plt.title(f'Spectral Signature at pixel ({x}, {y})')\n",
    "            plt.xlabel('Band')\n",
    "            plt.ylabel('Intensity')\n",
    "            plt.show()"
   ]
  },
  {
   "cell_type": "code",
   "execution_count": null,
   "metadata": {},
   "outputs": [],
   "source": [
    "# Example usage\n",
    "if __name__ == \"__main__\":\n",
    "    # Load and analyze first sample\n",
    "    sample_path = os.path.join(data_dir, \"sample904.npy\")\n",
    "    sample = load_sample(sample_path)\n",
    "    \n",
    "    print(\"Basic Analysis:\")\n",
    "    analyze_sample(sample)\n",
    "    \n",
    "    print(\"\\nVisualizing spectral bands:\")\n",
    "    visualize_spectral_bands(sample)\n",
    "    \n",
    "    print(\"\\nPlotting spectral signature:\")\n",
    "    plot_spectral_signature(sample)"
   ]
  }
 ],
 "metadata": {
  "kernelspec": {
   "display_name": "venv",
   "language": "python",
   "name": "python3"
  },
  "language_info": {
   "name": "python",
   "version": "3.10.0"
  }
 },
 "nbformat": 4,
 "nbformat_minor": 2
}
