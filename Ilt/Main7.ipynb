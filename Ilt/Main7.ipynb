{
 "cells": [
  {
   "cell_type": "markdown",
   "id": "646eaedb",
   "metadata": {},
   "source": [
    "## library\n"
   ]
  },
  {
   "cell_type": "code",
   "execution_count": 2,
   "id": "d098b049",
   "metadata": {},
   "outputs": [],
   "source": [
    "import torch\n",
    "import torch.nn as nn\n",
    "import torch.optim as optim\n",
    "from torch.utils.data import Dataset, DataLoader\n",
    "import numpy as np\n",
    "import pandas as pd\n",
    "import matplotlib.pyplot as plt\n",
    "from tqdm import tqdm\n",
    "import torch.nn.functional as F"
   ]
  },
  {
   "cell_type": "markdown",
   "id": "558bfd7a",
   "metadata": {},
   "source": [
    "## Constant"
   ]
  },
  {
   "cell_type": "code",
   "execution_count": 8,
   "id": "812d5316",
   "metadata": {},
   "outputs": [],
   "source": [
    "BATCH_SIZE = 32\n",
    "EPOCHS = 250\n",
    "LEARNING_RATE = 0.0001\n",
    "NUM_BANDS = 100  \n",
    "DEVICE = torch.device('cuda' if torch.cuda.is_available() else 'cpu')\n",
    "PATIENCE = 20  "
   ]
  },
  {
   "cell_type": "code",
   "execution_count": 4,
   "id": "5c927458",
   "metadata": {},
   "outputs": [],
   "source": [
    "# Load training and test data\n",
    "train_df = pd.read_csv('C:/IIUM/AI Note IIUM/Deep_Learning/Project/Data/train.csv')\n",
    "test_df = pd.read_csv('C:/IIUM/AI Note IIUM/Deep_Learning/Project/Data/test.csv')\n",
    "base_path = 'C:/IIUM/AI Note IIUM/Deep_Learning/Project/Data/ot'"
   ]
  },
  {
   "cell_type": "markdown",
   "id": "83a7ccf0",
   "metadata": {},
   "source": [
    "## Data Explore"
   ]
  },
  {
   "cell_type": "markdown",
   "id": "da0ca2d2",
   "metadata": {},
   "source": [
    " Removing: 2451, 47 (Too Noisy)"
   ]
  },
  {
   "cell_type": "markdown",
   "id": "6f30564b",
   "metadata": {},
   "source": [
    "## CNN"
   ]
  },
  {
   "cell_type": "code",
   "execution_count": 5,
   "id": "4cfb92cd",
   "metadata": {},
   "outputs": [],
   "source": [
    "class SpatialAttention(nn.Module):\n",
    "    def __init__(self, kernel_size=7):\n",
    "        super(SpatialAttention, self).__init__()\n",
    "        self.conv = nn.Sequential(\n",
    "            nn.Conv2d(2, 8, kernel_size, padding=kernel_size//2),\n",
    "            nn.ReLU(),\n",
    "            nn.Conv2d(8, 1, kernel_size=1)\n",
    "        )\n",
    "        self.sigmoid = nn.Sigmoid()\n",
    "    \n",
    "    def forward(self, x):\n",
    "        avg_out = torch.mean(x, dim=1, keepdim=True)\n",
    "        max_out, _ = torch.max(x, dim=1, keepdim=True)\n",
    "        concat = torch.cat([avg_out, max_out], dim=1)\n",
    "        attention = self.sigmoid(self.conv(concat))\n",
    "        return x * attention\n",
    "\n",
    "class ChannelAttention(nn.Module):\n",
    "    def __init__(self, in_channels, reduction_ratio=16):\n",
    "        super(ChannelAttention, self).__init__()\n",
    "        self.avg_pool = nn.AdaptiveAvgPool2d(1)\n",
    "        self.max_pool = nn.AdaptiveMaxPool2d(1)\n",
    "        \n",
    "        self.fc = nn.Sequential(\n",
    "            nn.Linear(in_channels, in_channels // reduction_ratio),\n",
    "            nn.ReLU(inplace=True),\n",
    "            nn.Linear(in_channels // reduction_ratio, in_channels),\n",
    "            nn.Sigmoid()\n",
    "        )\n",
    "\n",
    "    def forward(self, x):\n",
    "        b, c, _, _ = x.size()\n",
    "        avg_out = self.fc(self.avg_pool(x).view(b, c))\n",
    "        max_out = self.fc(self.max_pool(x).view(b, c))\n",
    "        out = avg_out + max_out\n",
    "        return out.view(b, c, 1, 1)\n",
    "\n",
    "class HyperspectralCNN(nn.Module):\n",
    "    def __init__(self, in_channels=NUM_BANDS):\n",
    "        super().__init__()\n",
    "        \n",
    "        self.conv1 = nn.Sequential(\n",
    "            nn.Conv2d(in_channels, 64, kernel_size=3, padding=1),\n",
    "            nn.BatchNorm2d(64),\n",
    "            nn.LeakyReLU(0.1, inplace=True),\n",
    "            nn.MaxPool2d(2)\n",
    "        )\n",
    "        \n",
    "        self.ca1 = ChannelAttention(64)\n",
    "        self.sa1 = SpatialAttention()\n",
    "        \n",
    "        self.conv2 = nn.Sequential(\n",
    "            nn.Conv2d(64, 128, kernel_size=3, padding=1),\n",
    "            nn.BatchNorm2d(128),\n",
    "            nn.LeakyReLU(0.1, inplace=True),\n",
    "            nn.MaxPool2d(2)\n",
    "        )\n",
    "        \n",
    "        self.ca2 = ChannelAttention(128)\n",
    "        self.sa2 = SpatialAttention()\n",
    "        \n",
    "        self.conv3 = nn.Sequential(\n",
    "            nn.Conv2d(128, 256, kernel_size=3, padding=1),\n",
    "            nn.BatchNorm2d(256),\n",
    "            nn.LeakyReLU(0.1, inplace=True),\n",
    "            nn.AdaptiveAvgPool2d(1)\n",
    "        )\n",
    "        \n",
    "        # Regression head to predict the score\n",
    "        self.regressor = nn.Sequential(\n",
    "            nn.Linear(256, 128),\n",
    "            nn.SiLU(),\n",
    "            nn.Dropout(0.5),\n",
    "            nn.Linear(128, 64),\n",
    "            nn.SiLU(),\n",
    "            nn.Linear(64, 1),\n",
    "            nn.Sigmoid()  # Sigmoid to output between 0 and 1\n",
    "        )\n",
    "        \n",
    "    def forward(self, x):\n",
    "        x = self.conv1(x)\n",
    "        x = self.ca1(x) * x\n",
    "        x = self.sa1(x) * x\n",
    "        \n",
    "        x = self.conv2(x)\n",
    "        x = self.ca2(x) * x\n",
    "        x = self.sa2(x) * x\n",
    "        \n",
    "        x = self.conv3(x)\n",
    "        x = x.view(x.size(0), -1)\n",
    "        x = self.regressor(x)\n",
    "        return x * 100  # Scale to 0-100 range\n"
   ]
  },
  {
   "cell_type": "markdown",
   "id": "7a902d6a",
   "metadata": {},
   "source": [
    "## Data set\n"
   ]
  },
  {
   "cell_type": "code",
   "execution_count": 6,
   "id": "aa386aae",
   "metadata": {},
   "outputs": [],
   "source": [
    "class HyperspectralDataset(Dataset):\n",
    "    def __init__(self, df, base_path, patch_size=64, augment=False, is_test=False):\n",
    "        self.df = df\n",
    "        self.base_path = base_path\n",
    "        self.patch_size = patch_size\n",
    "        self.augment = augment\n",
    "        self.is_test = is_test\n",
    "        \n",
    "    def __len__(self):\n",
    "        return len(self.df)\n",
    "    \n",
    "    def __getitem__(self, idx):\n",
    "        # Get the NPY file path from the dataframe\n",
    "        npy_file = self.df.iloc[idx]['id']  # Using 'id' column for both train and test\n",
    "        \n",
    "        # Load the NPY file\n",
    "        data = np.load(f\"{self.base_path}/{npy_file}\")\n",
    "        data = torch.from_numpy(data).float()\n",
    "        \n",
    "        # Reshape data to (channels, height, width)\n",
    "        # Assuming input is (height, width, channels)\n",
    "        if len(data.shape) == 3:\n",
    "            data = data.permute(2, 0, 1)  # Change from (H, W, C) to (C, H, W)\n",
    "        \n",
    "        # Ensure we have exactly NUM_BANDS channels\n",
    "        if data.shape[0] != NUM_BANDS:\n",
    "            # If we have more channels, take the first NUM_BANDS\n",
    "            # If we have fewer channels, pad with zeros\n",
    "            if data.shape[0] > NUM_BANDS:\n",
    "                data = data[:NUM_BANDS]\n",
    "            else:\n",
    "                padding = torch.zeros((NUM_BANDS - data.shape[0], data.shape[1], data.shape[2]))\n",
    "                data = torch.cat([data, padding], dim=0)\n",
    "        \n",
    "        # Resize to fixed size using interpolation\n",
    "        if data.shape[1] != self.patch_size or data.shape[2] != self.patch_size:\n",
    "            data = F.interpolate(data.unsqueeze(0), size=(self.patch_size, self.patch_size), \n",
    "                               mode='bilinear', align_corners=False).squeeze(0)\n",
    "        \n",
    "        # Normalize data\n",
    "        data = (data - data.mean()) / (data.std() + 1e-8)\n",
    "        \n",
    "        if self.is_test:\n",
    "            # For test data, return only the data\n",
    "            return data\n",
    "        else:\n",
    "            # For training data, return data and label\n",
    "            disease_percentage = torch.tensor(self.df.iloc[idx]['label'], dtype=torch.float32)\n",
    "            return data, disease_percentage"
   ]
  },
  {
   "cell_type": "markdown",
   "id": "fd563dd6",
   "metadata": {},
   "source": [
    "## Epoch Loop"
   ]
  },
  {
   "cell_type": "code",
   "execution_count": 7,
   "id": "f2a72c57",
   "metadata": {},
   "outputs": [],
   "source": [
    "class EarlyStopping:\n",
    "    def __init__(self, patience=20, min_delta=0):\n",
    "        self.patience = patience\n",
    "        self.min_delta = min_delta\n",
    "        self.counter = 0\n",
    "        self.best_loss = None\n",
    "        self.early_stop = False\n",
    "        \n",
    "    def __call__(self, val_loss):\n",
    "        if self.best_loss is None:\n",
    "            self.best_loss = val_loss\n",
    "        elif val_loss > self.best_loss - self.min_delta:\n",
    "            self.counter += 1\n",
    "            if self.counter >= self.patience:\n",
    "                self.early_stop = True\n",
    "        else:\n",
    "            self.best_loss = val_loss\n",
    "            self.counter = 0\n",
    "\n",
    "def train_model(model, train_loader, val_loader, epochs, criterion, optimizer):\n",
    "    train_losses = []\n",
    "    train_maes = []  # Mean Absolute Error\n",
    "    val_losses = []\n",
    "    val_maes = []\n",
    "    \n",
    "    early_stopping = EarlyStopping(patience=PATIENCE)\n",
    "    \n",
    "    for epoch in range(epochs):\n",
    "        model.train()\n",
    "        train_loss = 0.0\n",
    "        train_mae = 0.0\n",
    "        valid_samples = 0\n",
    "        \n",
    "        for inputs, labels in tqdm(train_loader, desc=f\"Epoch {epoch+1}/{epochs}\"):\n",
    "            inputs, labels = inputs.to(DEVICE), labels.to(DEVICE)\n",
    "            \n",
    "            if torch.isnan(inputs).any() or torch.isnan(labels).any():\n",
    "                continue\n",
    "                \n",
    "            optimizer.zero_grad()\n",
    "            outputs = model(inputs)\n",
    "            \n",
    "            if torch.isnan(outputs).any():\n",
    "                continue\n",
    "                \n",
    "            # Reshape outputs to match labels\n",
    "            outputs = outputs.squeeze(-1)  # Remove last dimension if it's 1\n",
    "            labels = labels.float()  # Ensure labels are float\n",
    "            \n",
    "            loss = criterion(outputs, labels) \n",
    "            \n",
    "            if not torch.isnan(loss):\n",
    "                loss.backward()\n",
    "                optimizer.step()\n",
    "                train_loss += loss.item() * inputs.size(0)\n",
    "                train_mae += torch.abs(outputs - labels).sum().item()\n",
    "                valid_samples += inputs.size(0)\n",
    "        \n",
    "        # Validation phase\n",
    "        model.eval()\n",
    "        val_loss = 0.0\n",
    "        val_mae = 0.0\n",
    "        val_samples = 0\n",
    "        \n",
    "        with torch.no_grad():\n",
    "            for inputs, labels in val_loader:\n",
    "                inputs, labels = inputs.to(DEVICE), labels.to(DEVICE)\n",
    "                outputs = model(inputs)\n",
    "                outputs = outputs.squeeze(-1)\n",
    "                \n",
    "                loss = criterion(outputs, labels)\n",
    "                val_loss += loss.item() * inputs.size(0)\n",
    "                val_mae += torch.abs(outputs - labels).sum().item()\n",
    "                val_samples += inputs.size(0)\n",
    "        \n",
    "        if valid_samples > 0 and val_samples > 0:\n",
    "            train_loss /= valid_samples\n",
    "            train_mae /= valid_samples\n",
    "            val_loss /= val_samples\n",
    "            val_mae /= val_samples\n",
    "            \n",
    "            train_losses.append(train_loss)\n",
    "            train_maes.append(train_mae)\n",
    "            val_losses.append(val_loss)\n",
    "            val_maes.append(val_mae)\n",
    "            \n",
    "            print(f\"Epoch {epoch+1}:\")\n",
    "            print(f\"Train Loss: {train_loss:.4f}, Train MAE: {train_mae:.2f}%\")\n",
    "            print(f\"Val Loss: {val_loss:.4f}, Val MAE: {val_mae:.2f}%\")\n",
    "            \n",
    "            # Save model after each epoch\n",
    "            torch.save(model.state_dict(), 'disease_regression_model.pth')\n",
    "            \n",
    "            # Early stopping check\n",
    "            early_stopping(val_loss)\n",
    "            if early_stopping.early_stop:\n",
    "                print(f\"Early stopping triggered at epoch {epoch+1}\")\n",
    "                break\n",
    "        else:\n",
    "            print(f\"Epoch {epoch+1}: No valid training/validation samples\")\n",
    "    \n",
    "    # Plot training curves\n",
    "    fig, ((ax1, ax2), (ax3, ax4)) = plt.subplots(2, 2, figsize=(15, 10))\n",
    "    \n",
    "    # Plot losses\n",
    "    ax1.plot(train_losses, label='Train Loss', marker='o')\n",
    "    ax1.plot(val_losses, label='Val Loss', marker='o')\n",
    "    ax1.set_xlabel('Epoch')\n",
    "    ax1.set_ylabel('Loss')\n",
    "    ax1.set_title('Training and Validation Loss')\n",
    "    ax1.legend()\n",
    "    ax1.grid(True)\n",
    "    \n",
    "    # Plot MAE\n",
    "    ax2.plot(train_maes, label='Train MAE', marker='o')\n",
    "    ax2.plot(val_maes, label='Val MAE', marker='o')\n",
    "    ax2.set_xlabel('Epoch')\n",
    "    ax2.set_ylabel('MAE (%)')\n",
    "    ax2.set_title('Training and Validation Mean Absolute Error')\n",
    "    ax2.legend()\n",
    "    ax2.grid(True)\n",
    "    \n",
    "    plt.tight_layout()\n",
    "    plt.show()\n",
    "    \n",
    "    return model\n",
    "\n",
    "def evaluate_model(model, loader, criterion, device=DEVICE):\n",
    "    model.eval()\n",
    "    total_loss = 0.0\n",
    "    total_mae = 0.0\n",
    "    all_preds = []\n",
    "    all_labels = []\n",
    "    \n",
    "    with torch.no_grad():\n",
    "        for inputs, labels in loader:\n",
    "            inputs, labels = inputs.to(device), labels.to(device)\n",
    "            outputs = model(inputs)\n",
    "            \n",
    "            loss = criterion(outputs, labels)\n",
    "            total_loss += loss.item() * inputs.size(0)\n",
    "            total_mae += torch.abs(outputs - labels).sum().item()\n",
    "            \n",
    "            all_preds.extend(outputs.cpu().numpy())\n",
    "            all_labels.extend(labels.cpu().numpy())\n",
    "    \n",
    "    avg_loss = total_loss / len(loader.dataset)\n",
    "    avg_mae = total_mae / len(loader.dataset)\n",
    "    \n",
    "    print(f\"Test Loss: {avg_loss:.4f}\")\n",
    "    print(f\"Test MAE: {avg_mae:.2f}%\")\n",
    "    \n",
    "    # Plot predictions vs actual\n",
    "    plt.figure(figsize=(10, 6))\n",
    "    plt.scatter(all_labels, all_preds, alpha=0.5)\n",
    "    plt.plot([0, 100], [0, 100], 'r--')  # Perfect prediction line\n",
    "    plt.xlabel('Actual Disease Percentage')\n",
    "    plt.ylabel('Predicted Disease Percentage')\n",
    "    plt.title('Predicted vs Actual Disease Percentage')\n",
    "    plt.grid(True)\n",
    "    plt.show()\n",
    "    \n",
    "    return avg_loss, np.array(all_preds), np.array(all_labels)"
   ]
  },
  {
   "cell_type": "markdown",
   "id": "5838be5a",
   "metadata": {},
   "source": [
    "## Main"
   ]
  },
  {
   "cell_type": "code",
   "execution_count": 9,
   "id": "eaefdf03",
   "metadata": {},
   "outputs": [
    {
     "name": "stderr",
     "output_type": "stream",
     "text": [
      "Epoch 1/250: 100%|██████████| 68/68 [00:41<00:00,  1.65it/s]\n"
     ]
    },
    {
     "name": "stdout",
     "output_type": "stream",
     "text": [
      "Epoch 1:\n",
      "Train Loss: 865.6071, Train MAE: 25.55%\n",
      "Val Loss: 865.2531, Val MAE: 25.54%\n"
     ]
    },
    {
     "name": "stderr",
     "output_type": "stream",
     "text": [
      "Epoch 2/250: 100%|██████████| 68/68 [00:43<00:00,  1.57it/s]\n"
     ]
    },
    {
     "name": "stdout",
     "output_type": "stream",
     "text": [
      "Epoch 2:\n",
      "Train Loss: 866.3973, Train MAE: 25.55%\n",
      "Val Loss: 864.9741, Val MAE: 25.54%\n"
     ]
    },
    {
     "name": "stderr",
     "output_type": "stream",
     "text": [
      "Epoch 3/250: 100%|██████████| 68/68 [00:41<00:00,  1.66it/s]\n"
     ]
    },
    {
     "name": "stdout",
     "output_type": "stream",
     "text": [
      "Epoch 3:\n",
      "Train Loss: 866.7595, Train MAE: 25.56%\n",
      "Val Loss: 864.7408, Val MAE: 25.53%\n"
     ]
    },
    {
     "name": "stderr",
     "output_type": "stream",
     "text": [
      "Epoch 4/250: 100%|██████████| 68/68 [00:42<00:00,  1.60it/s]\n"
     ]
    },
    {
     "name": "stdout",
     "output_type": "stream",
     "text": [
      "Epoch 4:\n",
      "Train Loss: 865.1678, Train MAE: 25.55%\n",
      "Val Loss: 863.4683, Val MAE: 25.51%\n"
     ]
    },
    {
     "name": "stderr",
     "output_type": "stream",
     "text": [
      "Epoch 5/250: 100%|██████████| 68/68 [00:40<00:00,  1.68it/s]\n"
     ]
    },
    {
     "name": "stdout",
     "output_type": "stream",
     "text": [
      "Epoch 5:\n",
      "Train Loss: 864.5799, Train MAE: 25.54%\n",
      "Val Loss: 862.1580, Val MAE: 25.50%\n"
     ]
    },
    {
     "name": "stderr",
     "output_type": "stream",
     "text": [
      "Epoch 6/250: 100%|██████████| 68/68 [00:37<00:00,  1.79it/s]\n"
     ]
    },
    {
     "name": "stdout",
     "output_type": "stream",
     "text": [
      "Epoch 6:\n",
      "Train Loss: 863.8632, Train MAE: 25.52%\n",
      "Val Loss: 861.6215, Val MAE: 25.48%\n"
     ]
    },
    {
     "name": "stderr",
     "output_type": "stream",
     "text": [
      "Epoch 7/250: 100%|██████████| 68/68 [00:35<00:00,  1.90it/s]\n"
     ]
    },
    {
     "name": "stdout",
     "output_type": "stream",
     "text": [
      "Epoch 7:\n",
      "Train Loss: 864.4557, Train MAE: 25.54%\n",
      "Val Loss: 861.7877, Val MAE: 25.47%\n"
     ]
    },
    {
     "name": "stderr",
     "output_type": "stream",
     "text": [
      "Epoch 8/250: 100%|██████████| 68/68 [00:36<00:00,  1.87it/s]\n"
     ]
    },
    {
     "name": "stdout",
     "output_type": "stream",
     "text": [
      "Epoch 8:\n",
      "Train Loss: 863.8976, Train MAE: 25.52%\n",
      "Val Loss: 859.2750, Val MAE: 25.45%\n"
     ]
    },
    {
     "name": "stderr",
     "output_type": "stream",
     "text": [
      "Epoch 9/250: 100%|██████████| 68/68 [00:36<00:00,  1.87it/s]\n"
     ]
    },
    {
     "name": "stdout",
     "output_type": "stream",
     "text": [
      "Epoch 9:\n",
      "Train Loss: 859.0907, Train MAE: 25.46%\n",
      "Val Loss: 862.3303, Val MAE: 25.50%\n"
     ]
    },
    {
     "name": "stderr",
     "output_type": "stream",
     "text": [
      "Epoch 10/250: 100%|██████████| 68/68 [00:36<00:00,  1.85it/s]\n"
     ]
    },
    {
     "name": "stdout",
     "output_type": "stream",
     "text": [
      "Epoch 10:\n",
      "Train Loss: 864.4855, Train MAE: 25.51%\n",
      "Val Loss: 858.7029, Val MAE: 25.45%\n"
     ]
    },
    {
     "name": "stderr",
     "output_type": "stream",
     "text": [
      "Epoch 11/250: 100%|██████████| 68/68 [00:38<00:00,  1.78it/s]\n"
     ]
    },
    {
     "name": "stdout",
     "output_type": "stream",
     "text": [
      "Epoch 11:\n",
      "Train Loss: 862.9210, Train MAE: 25.49%\n",
      "Val Loss: 858.1217, Val MAE: 25.41%\n"
     ]
    },
    {
     "name": "stderr",
     "output_type": "stream",
     "text": [
      "Epoch 12/250: 100%|██████████| 68/68 [00:36<00:00,  1.84it/s]\n"
     ]
    },
    {
     "name": "stdout",
     "output_type": "stream",
     "text": [
      "Epoch 12:\n",
      "Train Loss: 859.1620, Train MAE: 25.44%\n",
      "Val Loss: 858.3652, Val MAE: 25.41%\n"
     ]
    },
    {
     "name": "stderr",
     "output_type": "stream",
     "text": [
      "Epoch 13/250: 100%|██████████| 68/68 [00:36<00:00,  1.88it/s]\n"
     ]
    },
    {
     "name": "stdout",
     "output_type": "stream",
     "text": [
      "Epoch 13:\n",
      "Train Loss: 858.1358, Train MAE: 25.41%\n",
      "Val Loss: 857.9665, Val MAE: 25.38%\n"
     ]
    },
    {
     "name": "stderr",
     "output_type": "stream",
     "text": [
      "Epoch 14/250: 100%|██████████| 68/68 [00:36<00:00,  1.87it/s]\n"
     ]
    },
    {
     "name": "stdout",
     "output_type": "stream",
     "text": [
      "Epoch 14:\n",
      "Train Loss: 856.6488, Train MAE: 25.37%\n",
      "Val Loss: 852.3247, Val MAE: 25.34%\n"
     ]
    },
    {
     "name": "stderr",
     "output_type": "stream",
     "text": [
      "Epoch 15/250: 100%|██████████| 68/68 [00:36<00:00,  1.85it/s]\n"
     ]
    },
    {
     "name": "stdout",
     "output_type": "stream",
     "text": [
      "Epoch 15:\n",
      "Train Loss: 855.4975, Train MAE: 25.35%\n",
      "Val Loss: 851.4578, Val MAE: 25.28%\n"
     ]
    },
    {
     "name": "stderr",
     "output_type": "stream",
     "text": [
      "Epoch 16/250: 100%|██████████| 68/68 [00:36<00:00,  1.87it/s]\n"
     ]
    },
    {
     "name": "stdout",
     "output_type": "stream",
     "text": [
      "Epoch 16:\n",
      "Train Loss: 852.4451, Train MAE: 25.32%\n",
      "Val Loss: 845.3312, Val MAE: 25.13%\n"
     ]
    },
    {
     "name": "stderr",
     "output_type": "stream",
     "text": [
      "Epoch 17/250: 100%|██████████| 68/68 [00:36<00:00,  1.89it/s]\n"
     ]
    },
    {
     "name": "stdout",
     "output_type": "stream",
     "text": [
      "Epoch 17:\n",
      "Train Loss: 849.9594, Train MAE: 25.29%\n",
      "Val Loss: 848.3595, Val MAE: 25.24%\n"
     ]
    },
    {
     "name": "stderr",
     "output_type": "stream",
     "text": [
      "Epoch 18/250: 100%|██████████| 68/68 [00:36<00:00,  1.87it/s]\n"
     ]
    },
    {
     "name": "stdout",
     "output_type": "stream",
     "text": [
      "Epoch 18:\n",
      "Train Loss: 850.1118, Train MAE: 25.30%\n",
      "Val Loss: 844.6910, Val MAE: 25.12%\n"
     ]
    },
    {
     "name": "stderr",
     "output_type": "stream",
     "text": [
      "Epoch 19/250: 100%|██████████| 68/68 [00:34<00:00,  1.97it/s]\n"
     ]
    },
    {
     "name": "stdout",
     "output_type": "stream",
     "text": [
      "Epoch 19:\n",
      "Train Loss: 844.9543, Train MAE: 25.14%\n",
      "Val Loss: 837.7595, Val MAE: 25.01%\n"
     ]
    },
    {
     "name": "stderr",
     "output_type": "stream",
     "text": [
      "Epoch 20/250: 100%|██████████| 68/68 [00:35<00:00,  1.94it/s]\n"
     ]
    },
    {
     "name": "stdout",
     "output_type": "stream",
     "text": [
      "Epoch 20:\n",
      "Train Loss: 833.1423, Train MAE: 24.93%\n",
      "Val Loss: 828.9545, Val MAE: 24.89%\n"
     ]
    },
    {
     "name": "stderr",
     "output_type": "stream",
     "text": [
      "Epoch 21/250: 100%|██████████| 68/68 [00:35<00:00,  1.93it/s]\n"
     ]
    },
    {
     "name": "stdout",
     "output_type": "stream",
     "text": [
      "Epoch 21:\n",
      "Train Loss: 835.3972, Train MAE: 24.96%\n",
      "Val Loss: 829.8201, Val MAE: 24.81%\n"
     ]
    },
    {
     "name": "stderr",
     "output_type": "stream",
     "text": [
      "Epoch 22/250: 100%|██████████| 68/68 [00:35<00:00,  1.94it/s]\n"
     ]
    },
    {
     "name": "stdout",
     "output_type": "stream",
     "text": [
      "Epoch 22:\n",
      "Train Loss: 827.7115, Train MAE: 24.80%\n",
      "Val Loss: 825.9269, Val MAE: 24.82%\n"
     ]
    },
    {
     "name": "stderr",
     "output_type": "stream",
     "text": [
      "Epoch 23/250: 100%|██████████| 68/68 [00:35<00:00,  1.92it/s]\n"
     ]
    },
    {
     "name": "stdout",
     "output_type": "stream",
     "text": [
      "Epoch 23:\n",
      "Train Loss: 824.2139, Train MAE: 24.76%\n",
      "Val Loss: 828.9895, Val MAE: 24.89%\n"
     ]
    },
    {
     "name": "stderr",
     "output_type": "stream",
     "text": [
      "Epoch 24/250: 100%|██████████| 68/68 [00:36<00:00,  1.85it/s]\n"
     ]
    },
    {
     "name": "stdout",
     "output_type": "stream",
     "text": [
      "Epoch 24:\n",
      "Train Loss: 817.9630, Train MAE: 24.65%\n",
      "Val Loss: 814.7396, Val MAE: 24.64%\n"
     ]
    },
    {
     "name": "stderr",
     "output_type": "stream",
     "text": [
      "Epoch 25/250: 100%|██████████| 68/68 [00:36<00:00,  1.89it/s]\n"
     ]
    },
    {
     "name": "stdout",
     "output_type": "stream",
     "text": [
      "Epoch 25:\n",
      "Train Loss: 821.7467, Train MAE: 24.63%\n",
      "Val Loss: 801.7176, Val MAE: 24.36%\n"
     ]
    },
    {
     "name": "stderr",
     "output_type": "stream",
     "text": [
      "Epoch 26/250: 100%|██████████| 68/68 [00:36<00:00,  1.87it/s]\n"
     ]
    },
    {
     "name": "stdout",
     "output_type": "stream",
     "text": [
      "Epoch 26:\n",
      "Train Loss: 812.2792, Train MAE: 24.51%\n",
      "Val Loss: 821.3254, Val MAE: 24.71%\n"
     ]
    },
    {
     "name": "stderr",
     "output_type": "stream",
     "text": [
      "Epoch 27/250: 100%|██████████| 68/68 [00:36<00:00,  1.87it/s]\n"
     ]
    },
    {
     "name": "stdout",
     "output_type": "stream",
     "text": [
      "Epoch 27:\n",
      "Train Loss: 803.7576, Train MAE: 24.32%\n",
      "Val Loss: 806.5876, Val MAE: 24.47%\n"
     ]
    },
    {
     "name": "stderr",
     "output_type": "stream",
     "text": [
      "Epoch 28/250: 100%|██████████| 68/68 [00:36<00:00,  1.87it/s]\n"
     ]
    },
    {
     "name": "stdout",
     "output_type": "stream",
     "text": [
      "Epoch 28:\n",
      "Train Loss: 802.0788, Train MAE: 24.23%\n",
      "Val Loss: 789.5254, Val MAE: 24.06%\n"
     ]
    },
    {
     "name": "stderr",
     "output_type": "stream",
     "text": [
      "Epoch 29/250: 100%|██████████| 68/68 [00:36<00:00,  1.87it/s]\n"
     ]
    },
    {
     "name": "stdout",
     "output_type": "stream",
     "text": [
      "Epoch 29:\n",
      "Train Loss: 798.8426, Train MAE: 24.21%\n",
      "Val Loss: 794.2989, Val MAE: 24.24%\n"
     ]
    },
    {
     "name": "stderr",
     "output_type": "stream",
     "text": [
      "Epoch 30/250: 100%|██████████| 68/68 [00:36<00:00,  1.88it/s]\n"
     ]
    },
    {
     "name": "stdout",
     "output_type": "stream",
     "text": [
      "Epoch 30:\n",
      "Train Loss: 787.4680, Train MAE: 23.97%\n",
      "Val Loss: 797.6123, Val MAE: 24.33%\n"
     ]
    },
    {
     "name": "stderr",
     "output_type": "stream",
     "text": [
      "Epoch 31/250: 100%|██████████| 68/68 [00:35<00:00,  1.94it/s]\n"
     ]
    },
    {
     "name": "stdout",
     "output_type": "stream",
     "text": [
      "Epoch 31:\n",
      "Train Loss: 788.4708, Train MAE: 24.01%\n",
      "Val Loss: 790.0569, Val MAE: 24.11%\n"
     ]
    },
    {
     "name": "stderr",
     "output_type": "stream",
     "text": [
      "Epoch 32/250: 100%|██████████| 68/68 [00:35<00:00,  1.93it/s]\n"
     ]
    },
    {
     "name": "stdout",
     "output_type": "stream",
     "text": [
      "Epoch 32:\n",
      "Train Loss: 785.3160, Train MAE: 23.93%\n",
      "Val Loss: 777.0705, Val MAE: 23.90%\n"
     ]
    },
    {
     "name": "stderr",
     "output_type": "stream",
     "text": [
      "Epoch 33/250: 100%|██████████| 68/68 [00:35<00:00,  1.94it/s]\n"
     ]
    },
    {
     "name": "stdout",
     "output_type": "stream",
     "text": [
      "Epoch 33:\n",
      "Train Loss: 774.0950, Train MAE: 23.66%\n",
      "Val Loss: 769.5158, Val MAE: 23.70%\n"
     ]
    },
    {
     "name": "stderr",
     "output_type": "stream",
     "text": [
      "Epoch 34/250: 100%|██████████| 68/68 [00:36<00:00,  1.86it/s]\n"
     ]
    },
    {
     "name": "stdout",
     "output_type": "stream",
     "text": [
      "Epoch 34:\n",
      "Train Loss: 773.1887, Train MAE: 23.67%\n",
      "Val Loss: 760.8306, Val MAE: 23.42%\n"
     ]
    },
    {
     "name": "stderr",
     "output_type": "stream",
     "text": [
      "Epoch 35/250: 100%|██████████| 68/68 [00:35<00:00,  1.90it/s]\n"
     ]
    },
    {
     "name": "stdout",
     "output_type": "stream",
     "text": [
      "Epoch 35:\n",
      "Train Loss: 769.8729, Train MAE: 23.58%\n",
      "Val Loss: 750.3530, Val MAE: 23.08%\n"
     ]
    },
    {
     "name": "stderr",
     "output_type": "stream",
     "text": [
      "Epoch 36/250: 100%|██████████| 68/68 [00:35<00:00,  1.91it/s]\n"
     ]
    },
    {
     "name": "stdout",
     "output_type": "stream",
     "text": [
      "Epoch 36:\n",
      "Train Loss: 773.2994, Train MAE: 23.62%\n",
      "Val Loss: 749.2688, Val MAE: 23.12%\n"
     ]
    },
    {
     "name": "stderr",
     "output_type": "stream",
     "text": [
      "Epoch 37/250: 100%|██████████| 68/68 [00:36<00:00,  1.88it/s]\n"
     ]
    },
    {
     "name": "stdout",
     "output_type": "stream",
     "text": [
      "Epoch 37:\n",
      "Train Loss: 761.5693, Train MAE: 23.39%\n",
      "Val Loss: 751.3060, Val MAE: 23.20%\n"
     ]
    },
    {
     "name": "stderr",
     "output_type": "stream",
     "text": [
      "Epoch 38/250: 100%|██████████| 68/68 [00:35<00:00,  1.91it/s]\n"
     ]
    },
    {
     "name": "stdout",
     "output_type": "stream",
     "text": [
      "Epoch 38:\n",
      "Train Loss: 768.2211, Train MAE: 23.51%\n",
      "Val Loss: 757.0260, Val MAE: 23.37%\n"
     ]
    },
    {
     "name": "stderr",
     "output_type": "stream",
     "text": [
      "Epoch 39/250: 100%|██████████| 68/68 [00:36<00:00,  1.84it/s]\n"
     ]
    },
    {
     "name": "stdout",
     "output_type": "stream",
     "text": [
      "Epoch 39:\n",
      "Train Loss: 763.3890, Train MAE: 23.47%\n",
      "Val Loss: 740.5496, Val MAE: 22.94%\n"
     ]
    },
    {
     "name": "stderr",
     "output_type": "stream",
     "text": [
      "Epoch 40/250: 100%|██████████| 68/68 [00:35<00:00,  1.90it/s]\n"
     ]
    },
    {
     "name": "stdout",
     "output_type": "stream",
     "text": [
      "Epoch 40:\n",
      "Train Loss: 756.8586, Train MAE: 23.19%\n",
      "Val Loss: 741.5875, Val MAE: 22.95%\n"
     ]
    },
    {
     "name": "stderr",
     "output_type": "stream",
     "text": [
      "Epoch 41/250: 100%|██████████| 68/68 [00:36<00:00,  1.85it/s]\n"
     ]
    },
    {
     "name": "stdout",
     "output_type": "stream",
     "text": [
      "Epoch 41:\n",
      "Train Loss: 751.5015, Train MAE: 23.14%\n",
      "Val Loss: 764.6769, Val MAE: 23.67%\n"
     ]
    },
    {
     "name": "stderr",
     "output_type": "stream",
     "text": [
      "Epoch 42/250: 100%|██████████| 68/68 [00:37<00:00,  1.83it/s]\n"
     ]
    },
    {
     "name": "stdout",
     "output_type": "stream",
     "text": [
      "Epoch 42:\n",
      "Train Loss: 754.9182, Train MAE: 23.25%\n",
      "Val Loss: 741.1491, Val MAE: 22.89%\n"
     ]
    },
    {
     "name": "stderr",
     "output_type": "stream",
     "text": [
      "Epoch 43/250: 100%|██████████| 68/68 [00:37<00:00,  1.83it/s]\n"
     ]
    },
    {
     "name": "stdout",
     "output_type": "stream",
     "text": [
      "Epoch 43:\n",
      "Train Loss: 742.3400, Train MAE: 22.89%\n",
      "Val Loss: 740.9680, Val MAE: 23.01%\n"
     ]
    },
    {
     "name": "stderr",
     "output_type": "stream",
     "text": [
      "Epoch 44/250: 100%|██████████| 68/68 [00:35<00:00,  1.93it/s]\n"
     ]
    },
    {
     "name": "stdout",
     "output_type": "stream",
     "text": [
      "Epoch 44:\n",
      "Train Loss: 743.3251, Train MAE: 23.04%\n",
      "Val Loss: 720.5465, Val MAE: 22.41%\n"
     ]
    },
    {
     "name": "stderr",
     "output_type": "stream",
     "text": [
      "Epoch 45/250: 100%|██████████| 68/68 [00:36<00:00,  1.88it/s]\n"
     ]
    },
    {
     "name": "stdout",
     "output_type": "stream",
     "text": [
      "Epoch 45:\n",
      "Train Loss: 754.2819, Train MAE: 23.21%\n",
      "Val Loss: 736.6438, Val MAE: 23.03%\n"
     ]
    },
    {
     "name": "stderr",
     "output_type": "stream",
     "text": [
      "Epoch 46/250: 100%|██████████| 68/68 [00:35<00:00,  1.94it/s]\n"
     ]
    },
    {
     "name": "stdout",
     "output_type": "stream",
     "text": [
      "Epoch 46:\n",
      "Train Loss: 729.1397, Train MAE: 22.60%\n",
      "Val Loss: 727.8677, Val MAE: 22.46%\n"
     ]
    },
    {
     "name": "stderr",
     "output_type": "stream",
     "text": [
      "Epoch 47/250: 100%|██████████| 68/68 [00:35<00:00,  1.90it/s]\n"
     ]
    },
    {
     "name": "stdout",
     "output_type": "stream",
     "text": [
      "Epoch 47:\n",
      "Train Loss: 725.0774, Train MAE: 22.47%\n",
      "Val Loss: 732.0694, Val MAE: 22.85%\n"
     ]
    },
    {
     "name": "stderr",
     "output_type": "stream",
     "text": [
      "Epoch 48/250: 100%|██████████| 68/68 [00:35<00:00,  1.91it/s]\n"
     ]
    },
    {
     "name": "stdout",
     "output_type": "stream",
     "text": [
      "Epoch 48:\n",
      "Train Loss: 740.3699, Train MAE: 22.83%\n",
      "Val Loss: 720.4738, Val MAE: 22.62%\n"
     ]
    },
    {
     "name": "stderr",
     "output_type": "stream",
     "text": [
      "Epoch 49/250: 100%|██████████| 68/68 [00:36<00:00,  1.86it/s]\n"
     ]
    },
    {
     "name": "stdout",
     "output_type": "stream",
     "text": [
      "Epoch 49:\n",
      "Train Loss: 738.3272, Train MAE: 22.83%\n",
      "Val Loss: 715.2670, Val MAE: 22.44%\n"
     ]
    },
    {
     "name": "stderr",
     "output_type": "stream",
     "text": [
      "Epoch 50/250: 100%|██████████| 68/68 [00:37<00:00,  1.82it/s]\n"
     ]
    },
    {
     "name": "stdout",
     "output_type": "stream",
     "text": [
      "Epoch 50:\n",
      "Train Loss: 731.7997, Train MAE: 22.67%\n",
      "Val Loss: 699.2512, Val MAE: 21.98%\n"
     ]
    },
    {
     "name": "stderr",
     "output_type": "stream",
     "text": [
      "Epoch 51/250: 100%|██████████| 68/68 [00:36<00:00,  1.88it/s]\n"
     ]
    },
    {
     "name": "stdout",
     "output_type": "stream",
     "text": [
      "Epoch 51:\n",
      "Train Loss: 725.0434, Train MAE: 22.52%\n",
      "Val Loss: 705.8614, Val MAE: 22.29%\n"
     ]
    },
    {
     "name": "stderr",
     "output_type": "stream",
     "text": [
      "Epoch 52/250: 100%|██████████| 68/68 [00:36<00:00,  1.89it/s]\n"
     ]
    },
    {
     "name": "stdout",
     "output_type": "stream",
     "text": [
      "Epoch 52:\n",
      "Train Loss: 713.7913, Train MAE: 22.26%\n",
      "Val Loss: 745.2948, Val MAE: 23.25%\n"
     ]
    },
    {
     "name": "stderr",
     "output_type": "stream",
     "text": [
      "Epoch 53/250: 100%|██████████| 68/68 [00:36<00:00,  1.88it/s]\n"
     ]
    },
    {
     "name": "stdout",
     "output_type": "stream",
     "text": [
      "Epoch 53:\n",
      "Train Loss: 710.5612, Train MAE: 22.19%\n",
      "Val Loss: 695.8196, Val MAE: 21.95%\n"
     ]
    },
    {
     "name": "stderr",
     "output_type": "stream",
     "text": [
      "Epoch 54/250: 100%|██████████| 68/68 [00:37<00:00,  1.84it/s]\n"
     ]
    },
    {
     "name": "stdout",
     "output_type": "stream",
     "text": [
      "Epoch 54:\n",
      "Train Loss: 716.5561, Train MAE: 22.31%\n",
      "Val Loss: 690.2586, Val MAE: 21.84%\n"
     ]
    },
    {
     "name": "stderr",
     "output_type": "stream",
     "text": [
      "Epoch 55/250: 100%|██████████| 68/68 [00:36<00:00,  1.87it/s]\n"
     ]
    },
    {
     "name": "stdout",
     "output_type": "stream",
     "text": [
      "Epoch 55:\n",
      "Train Loss: 705.4521, Train MAE: 22.13%\n",
      "Val Loss: 679.0063, Val MAE: 21.57%\n"
     ]
    },
    {
     "name": "stderr",
     "output_type": "stream",
     "text": [
      "Epoch 56/250: 100%|██████████| 68/68 [00:36<00:00,  1.86it/s]\n"
     ]
    },
    {
     "name": "stdout",
     "output_type": "stream",
     "text": [
      "Epoch 56:\n",
      "Train Loss: 706.9938, Train MAE: 22.11%\n",
      "Val Loss: 682.5444, Val MAE: 21.65%\n"
     ]
    },
    {
     "name": "stderr",
     "output_type": "stream",
     "text": [
      "Epoch 57/250: 100%|██████████| 68/68 [00:34<00:00,  1.95it/s]\n"
     ]
    },
    {
     "name": "stdout",
     "output_type": "stream",
     "text": [
      "Epoch 57:\n",
      "Train Loss: 700.6595, Train MAE: 22.16%\n",
      "Val Loss: 666.8244, Val MAE: 21.27%\n"
     ]
    },
    {
     "name": "stderr",
     "output_type": "stream",
     "text": [
      "Epoch 58/250: 100%|██████████| 68/68 [00:35<00:00,  1.92it/s]\n"
     ]
    },
    {
     "name": "stdout",
     "output_type": "stream",
     "text": [
      "Epoch 58:\n",
      "Train Loss: 695.4224, Train MAE: 21.84%\n",
      "Val Loss: 660.9223, Val MAE: 21.12%\n"
     ]
    },
    {
     "name": "stderr",
     "output_type": "stream",
     "text": [
      "Epoch 59/250: 100%|██████████| 68/68 [00:36<00:00,  1.88it/s]\n"
     ]
    },
    {
     "name": "stdout",
     "output_type": "stream",
     "text": [
      "Epoch 59:\n",
      "Train Loss: 691.4894, Train MAE: 21.88%\n",
      "Val Loss: 661.1824, Val MAE: 21.23%\n"
     ]
    },
    {
     "name": "stderr",
     "output_type": "stream",
     "text": [
      "Epoch 60/250: 100%|██████████| 68/68 [00:36<00:00,  1.88it/s]\n"
     ]
    },
    {
     "name": "stdout",
     "output_type": "stream",
     "text": [
      "Epoch 60:\n",
      "Train Loss: 688.2754, Train MAE: 21.61%\n",
      "Val Loss: 664.9629, Val MAE: 21.37%\n"
     ]
    },
    {
     "name": "stderr",
     "output_type": "stream",
     "text": [
      "Epoch 61/250: 100%|██████████| 68/68 [00:36<00:00,  1.88it/s]\n"
     ]
    },
    {
     "name": "stdout",
     "output_type": "stream",
     "text": [
      "Epoch 61:\n",
      "Train Loss: 680.3691, Train MAE: 21.47%\n",
      "Val Loss: 638.6538, Val MAE: 20.66%\n"
     ]
    },
    {
     "name": "stderr",
     "output_type": "stream",
     "text": [
      "Epoch 62/250: 100%|██████████| 68/68 [00:35<00:00,  1.89it/s]\n"
     ]
    },
    {
     "name": "stdout",
     "output_type": "stream",
     "text": [
      "Epoch 62:\n",
      "Train Loss: 668.4238, Train MAE: 21.38%\n",
      "Val Loss: 653.4005, Val MAE: 21.21%\n"
     ]
    },
    {
     "name": "stderr",
     "output_type": "stream",
     "text": [
      "Epoch 63/250: 100%|██████████| 68/68 [00:36<00:00,  1.89it/s]\n"
     ]
    },
    {
     "name": "stdout",
     "output_type": "stream",
     "text": [
      "Epoch 63:\n",
      "Train Loss: 673.9021, Train MAE: 21.53%\n",
      "Val Loss: 650.4773, Val MAE: 20.87%\n"
     ]
    },
    {
     "name": "stderr",
     "output_type": "stream",
     "text": [
      "Epoch 64/250: 100%|██████████| 68/68 [00:36<00:00,  1.88it/s]\n"
     ]
    },
    {
     "name": "stdout",
     "output_type": "stream",
     "text": [
      "Epoch 64:\n",
      "Train Loss: 658.8974, Train MAE: 21.11%\n",
      "Val Loss: 629.9625, Val MAE: 20.53%\n"
     ]
    },
    {
     "name": "stderr",
     "output_type": "stream",
     "text": [
      "Epoch 65/250: 100%|██████████| 68/68 [00:36<00:00,  1.87it/s]\n"
     ]
    },
    {
     "name": "stdout",
     "output_type": "stream",
     "text": [
      "Epoch 65:\n",
      "Train Loss: 640.9348, Train MAE: 20.73%\n",
      "Val Loss: 620.4344, Val MAE: 20.09%\n"
     ]
    },
    {
     "name": "stderr",
     "output_type": "stream",
     "text": [
      "Epoch 66/250: 100%|██████████| 68/68 [00:36<00:00,  1.87it/s]\n"
     ]
    },
    {
     "name": "stdout",
     "output_type": "stream",
     "text": [
      "Epoch 66:\n",
      "Train Loss: 654.1530, Train MAE: 20.99%\n",
      "Val Loss: 633.1714, Val MAE: 20.33%\n"
     ]
    },
    {
     "name": "stderr",
     "output_type": "stream",
     "text": [
      "Epoch 67/250: 100%|██████████| 68/68 [00:36<00:00,  1.85it/s]\n"
     ]
    },
    {
     "name": "stdout",
     "output_type": "stream",
     "text": [
      "Epoch 67:\n",
      "Train Loss: 644.9453, Train MAE: 20.80%\n",
      "Val Loss: 611.5176, Val MAE: 20.12%\n"
     ]
    },
    {
     "name": "stderr",
     "output_type": "stream",
     "text": [
      "Epoch 68/250: 100%|██████████| 68/68 [00:36<00:00,  1.86it/s]\n"
     ]
    },
    {
     "name": "stdout",
     "output_type": "stream",
     "text": [
      "Epoch 68:\n",
      "Train Loss: 624.8594, Train MAE: 20.35%\n",
      "Val Loss: 591.5992, Val MAE: 19.53%\n"
     ]
    },
    {
     "name": "stderr",
     "output_type": "stream",
     "text": [
      "Epoch 69/250: 100%|██████████| 68/68 [00:35<00:00,  1.93it/s]\n"
     ]
    },
    {
     "name": "stdout",
     "output_type": "stream",
     "text": [
      "Epoch 69:\n",
      "Train Loss: 636.2311, Train MAE: 20.54%\n",
      "Val Loss: 613.9556, Val MAE: 20.20%\n"
     ]
    },
    {
     "name": "stderr",
     "output_type": "stream",
     "text": [
      "Epoch 70/250: 100%|██████████| 68/68 [00:35<00:00,  1.92it/s]\n"
     ]
    },
    {
     "name": "stdout",
     "output_type": "stream",
     "text": [
      "Epoch 70:\n",
      "Train Loss: 636.4043, Train MAE: 20.64%\n",
      "Val Loss: 594.1348, Val MAE: 19.84%\n"
     ]
    },
    {
     "name": "stderr",
     "output_type": "stream",
     "text": [
      "Epoch 71/250: 100%|██████████| 68/68 [00:37<00:00,  1.83it/s]\n"
     ]
    },
    {
     "name": "stdout",
     "output_type": "stream",
     "text": [
      "Epoch 71:\n",
      "Train Loss: 629.2149, Train MAE: 20.44%\n",
      "Val Loss: 589.8549, Val MAE: 19.73%\n"
     ]
    },
    {
     "name": "stderr",
     "output_type": "stream",
     "text": [
      "Epoch 72/250: 100%|██████████| 68/68 [00:36<00:00,  1.88it/s]\n"
     ]
    },
    {
     "name": "stdout",
     "output_type": "stream",
     "text": [
      "Epoch 72:\n",
      "Train Loss: 618.0386, Train MAE: 20.19%\n",
      "Val Loss: 580.7465, Val MAE: 19.39%\n"
     ]
    },
    {
     "name": "stderr",
     "output_type": "stream",
     "text": [
      "Epoch 73/250: 100%|██████████| 68/68 [00:35<00:00,  1.90it/s]\n"
     ]
    },
    {
     "name": "stdout",
     "output_type": "stream",
     "text": [
      "Epoch 73:\n",
      "Train Loss: 603.4060, Train MAE: 19.86%\n",
      "Val Loss: 618.3666, Val MAE: 20.39%\n"
     ]
    },
    {
     "name": "stderr",
     "output_type": "stream",
     "text": [
      "Epoch 74/250: 100%|██████████| 68/68 [00:36<00:00,  1.89it/s]\n"
     ]
    },
    {
     "name": "stdout",
     "output_type": "stream",
     "text": [
      "Epoch 74:\n",
      "Train Loss: 611.9978, Train MAE: 20.06%\n",
      "Val Loss: 548.2498, Val MAE: 18.62%\n"
     ]
    },
    {
     "name": "stderr",
     "output_type": "stream",
     "text": [
      "Epoch 75/250: 100%|██████████| 68/68 [00:37<00:00,  1.83it/s]\n"
     ]
    },
    {
     "name": "stdout",
     "output_type": "stream",
     "text": [
      "Epoch 75:\n",
      "Train Loss: 588.1854, Train MAE: 19.51%\n",
      "Val Loss: 545.5554, Val MAE: 18.71%\n"
     ]
    },
    {
     "name": "stderr",
     "output_type": "stream",
     "text": [
      "Epoch 76/250: 100%|██████████| 68/68 [00:37<00:00,  1.82it/s]\n"
     ]
    },
    {
     "name": "stdout",
     "output_type": "stream",
     "text": [
      "Epoch 76:\n",
      "Train Loss: 592.1032, Train MAE: 19.69%\n",
      "Val Loss: 620.1335, Val MAE: 19.72%\n"
     ]
    },
    {
     "name": "stderr",
     "output_type": "stream",
     "text": [
      "Epoch 77/250: 100%|██████████| 68/68 [00:36<00:00,  1.86it/s]\n"
     ]
    },
    {
     "name": "stdout",
     "output_type": "stream",
     "text": [
      "Epoch 77:\n",
      "Train Loss: 587.1994, Train MAE: 19.66%\n",
      "Val Loss: 593.2554, Val MAE: 19.82%\n"
     ]
    },
    {
     "name": "stderr",
     "output_type": "stream",
     "text": [
      "Epoch 78/250: 100%|██████████| 68/68 [00:36<00:00,  1.85it/s]\n"
     ]
    },
    {
     "name": "stdout",
     "output_type": "stream",
     "text": [
      "Epoch 78:\n",
      "Train Loss: 585.7177, Train MAE: 19.62%\n",
      "Val Loss: 558.7021, Val MAE: 18.67%\n"
     ]
    },
    {
     "name": "stderr",
     "output_type": "stream",
     "text": [
      "Epoch 79/250: 100%|██████████| 68/68 [00:36<00:00,  1.85it/s]\n"
     ]
    },
    {
     "name": "stdout",
     "output_type": "stream",
     "text": [
      "Epoch 79:\n",
      "Train Loss: 574.7277, Train MAE: 19.34%\n",
      "Val Loss: 538.3026, Val MAE: 18.38%\n"
     ]
    },
    {
     "name": "stderr",
     "output_type": "stream",
     "text": [
      "Epoch 80/250: 100%|██████████| 68/68 [00:36<00:00,  1.85it/s]\n"
     ]
    },
    {
     "name": "stdout",
     "output_type": "stream",
     "text": [
      "Epoch 80:\n",
      "Train Loss: 558.2445, Train MAE: 18.90%\n",
      "Val Loss: 543.7197, Val MAE: 18.59%\n"
     ]
    },
    {
     "name": "stderr",
     "output_type": "stream",
     "text": [
      "Epoch 81/250: 100%|██████████| 68/68 [00:37<00:00,  1.82it/s]\n"
     ]
    },
    {
     "name": "stdout",
     "output_type": "stream",
     "text": [
      "Epoch 81:\n",
      "Train Loss: 554.2061, Train MAE: 18.91%\n",
      "Val Loss: 510.5949, Val MAE: 17.94%\n"
     ]
    },
    {
     "name": "stderr",
     "output_type": "stream",
     "text": [
      "Epoch 82/250: 100%|██████████| 68/68 [00:35<00:00,  1.94it/s]\n"
     ]
    },
    {
     "name": "stdout",
     "output_type": "stream",
     "text": [
      "Epoch 82:\n",
      "Train Loss: 555.5137, Train MAE: 18.82%\n",
      "Val Loss: 513.9505, Val MAE: 17.95%\n"
     ]
    },
    {
     "name": "stderr",
     "output_type": "stream",
     "text": [
      "Epoch 83/250: 100%|██████████| 68/68 [00:35<00:00,  1.90it/s]\n"
     ]
    },
    {
     "name": "stdout",
     "output_type": "stream",
     "text": [
      "Epoch 83:\n",
      "Train Loss: 523.8110, Train MAE: 18.21%\n",
      "Val Loss: 468.0058, Val MAE: 16.96%\n"
     ]
    },
    {
     "name": "stderr",
     "output_type": "stream",
     "text": [
      "Epoch 84/250: 100%|██████████| 68/68 [00:35<00:00,  1.90it/s]\n"
     ]
    },
    {
     "name": "stdout",
     "output_type": "stream",
     "text": [
      "Epoch 84:\n",
      "Train Loss: 533.2075, Train MAE: 18.31%\n",
      "Val Loss: 475.3628, Val MAE: 17.23%\n"
     ]
    },
    {
     "name": "stderr",
     "output_type": "stream",
     "text": [
      "Epoch 85/250: 100%|██████████| 68/68 [00:36<00:00,  1.88it/s]\n"
     ]
    },
    {
     "name": "stdout",
     "output_type": "stream",
     "text": [
      "Epoch 85:\n",
      "Train Loss: 536.0214, Train MAE: 18.48%\n",
      "Val Loss: 505.8026, Val MAE: 17.59%\n"
     ]
    },
    {
     "name": "stderr",
     "output_type": "stream",
     "text": [
      "Epoch 86/250: 100%|██████████| 68/68 [00:36<00:00,  1.88it/s]\n"
     ]
    },
    {
     "name": "stdout",
     "output_type": "stream",
     "text": [
      "Epoch 86:\n",
      "Train Loss: 513.8537, Train MAE: 18.02%\n",
      "Val Loss: 490.4283, Val MAE: 17.50%\n"
     ]
    },
    {
     "name": "stderr",
     "output_type": "stream",
     "text": [
      "Epoch 87/250: 100%|██████████| 68/68 [00:36<00:00,  1.87it/s]\n"
     ]
    },
    {
     "name": "stdout",
     "output_type": "stream",
     "text": [
      "Epoch 87:\n",
      "Train Loss: 511.8659, Train MAE: 18.07%\n",
      "Val Loss: 468.4535, Val MAE: 17.23%\n"
     ]
    },
    {
     "name": "stderr",
     "output_type": "stream",
     "text": [
      "Epoch 88/250: 100%|██████████| 68/68 [00:36<00:00,  1.87it/s]\n"
     ]
    },
    {
     "name": "stdout",
     "output_type": "stream",
     "text": [
      "Epoch 88:\n",
      "Train Loss: 492.8577, Train MAE: 17.47%\n",
      "Val Loss: 438.9907, Val MAE: 16.34%\n"
     ]
    },
    {
     "name": "stderr",
     "output_type": "stream",
     "text": [
      "Epoch 89/250: 100%|██████████| 68/68 [00:36<00:00,  1.88it/s]\n"
     ]
    },
    {
     "name": "stdout",
     "output_type": "stream",
     "text": [
      "Epoch 89:\n",
      "Train Loss: 506.2620, Train MAE: 17.79%\n",
      "Val Loss: 463.4538, Val MAE: 17.32%\n"
     ]
    },
    {
     "name": "stderr",
     "output_type": "stream",
     "text": [
      "Epoch 90/250: 100%|██████████| 68/68 [00:36<00:00,  1.86it/s]\n"
     ]
    },
    {
     "name": "stdout",
     "output_type": "stream",
     "text": [
      "Epoch 90:\n",
      "Train Loss: 505.2779, Train MAE: 17.84%\n",
      "Val Loss: 516.6449, Val MAE: 17.44%\n"
     ]
    },
    {
     "name": "stderr",
     "output_type": "stream",
     "text": [
      "Epoch 91/250: 100%|██████████| 68/68 [00:37<00:00,  1.81it/s]\n"
     ]
    },
    {
     "name": "stdout",
     "output_type": "stream",
     "text": [
      "Epoch 91:\n",
      "Train Loss: 470.0110, Train MAE: 17.04%\n",
      "Val Loss: 412.9235, Val MAE: 15.71%\n"
     ]
    },
    {
     "name": "stderr",
     "output_type": "stream",
     "text": [
      "Epoch 92/250: 100%|██████████| 68/68 [00:35<00:00,  1.89it/s]\n"
     ]
    },
    {
     "name": "stdout",
     "output_type": "stream",
     "text": [
      "Epoch 92:\n",
      "Train Loss: 443.9365, Train MAE: 16.31%\n",
      "Val Loss: 410.0488, Val MAE: 15.88%\n"
     ]
    },
    {
     "name": "stderr",
     "output_type": "stream",
     "text": [
      "Epoch 93/250: 100%|██████████| 68/68 [00:36<00:00,  1.87it/s]\n"
     ]
    },
    {
     "name": "stdout",
     "output_type": "stream",
     "text": [
      "Epoch 93:\n",
      "Train Loss: 476.4085, Train MAE: 17.14%\n",
      "Val Loss: 464.2206, Val MAE: 17.55%\n"
     ]
    },
    {
     "name": "stderr",
     "output_type": "stream",
     "text": [
      "Epoch 94/250: 100%|██████████| 68/68 [00:36<00:00,  1.89it/s]\n"
     ]
    },
    {
     "name": "stdout",
     "output_type": "stream",
     "text": [
      "Epoch 94:\n",
      "Train Loss: 431.6910, Train MAE: 16.24%\n",
      "Val Loss: 391.1554, Val MAE: 15.19%\n"
     ]
    },
    {
     "name": "stderr",
     "output_type": "stream",
     "text": [
      "Epoch 95/250: 100%|██████████| 68/68 [00:38<00:00,  1.77it/s]\n"
     ]
    },
    {
     "name": "stdout",
     "output_type": "stream",
     "text": [
      "Epoch 95:\n",
      "Train Loss: 428.3093, Train MAE: 15.95%\n",
      "Val Loss: 433.4095, Val MAE: 16.56%\n"
     ]
    },
    {
     "name": "stderr",
     "output_type": "stream",
     "text": [
      "Epoch 96/250: 100%|██████████| 68/68 [00:36<00:00,  1.85it/s]\n"
     ]
    },
    {
     "name": "stdout",
     "output_type": "stream",
     "text": [
      "Epoch 96:\n",
      "Train Loss: 420.0448, Train MAE: 15.89%\n",
      "Val Loss: 395.5520, Val MAE: 15.40%\n"
     ]
    },
    {
     "name": "stderr",
     "output_type": "stream",
     "text": [
      "Epoch 97/250: 100%|██████████| 68/68 [00:37<00:00,  1.83it/s]\n"
     ]
    },
    {
     "name": "stdout",
     "output_type": "stream",
     "text": [
      "Epoch 97:\n",
      "Train Loss: 403.9850, Train MAE: 15.34%\n",
      "Val Loss: 348.1645, Val MAE: 14.27%\n"
     ]
    },
    {
     "name": "stderr",
     "output_type": "stream",
     "text": [
      "Epoch 98/250: 100%|██████████| 68/68 [00:37<00:00,  1.81it/s]\n"
     ]
    },
    {
     "name": "stdout",
     "output_type": "stream",
     "text": [
      "Epoch 98:\n",
      "Train Loss: 401.2625, Train MAE: 15.47%\n",
      "Val Loss: 485.0543, Val MAE: 17.61%\n"
     ]
    },
    {
     "name": "stderr",
     "output_type": "stream",
     "text": [
      "Epoch 99/250: 100%|██████████| 68/68 [00:38<00:00,  1.77it/s]\n"
     ]
    },
    {
     "name": "stdout",
     "output_type": "stream",
     "text": [
      "Epoch 99:\n",
      "Train Loss: 400.6225, Train MAE: 15.38%\n",
      "Val Loss: 316.3052, Val MAE: 13.32%\n"
     ]
    },
    {
     "name": "stderr",
     "output_type": "stream",
     "text": [
      "Epoch 100/250: 100%|██████████| 68/68 [00:38<00:00,  1.78it/s]\n"
     ]
    },
    {
     "name": "stdout",
     "output_type": "stream",
     "text": [
      "Epoch 100:\n",
      "Train Loss: 393.8157, Train MAE: 15.32%\n",
      "Val Loss: 316.1294, Val MAE: 13.35%\n"
     ]
    },
    {
     "name": "stderr",
     "output_type": "stream",
     "text": [
      "Epoch 101/250: 100%|██████████| 68/68 [00:37<00:00,  1.79it/s]\n"
     ]
    },
    {
     "name": "stdout",
     "output_type": "stream",
     "text": [
      "Epoch 101:\n",
      "Train Loss: 375.7583, Train MAE: 14.94%\n",
      "Val Loss: 304.2269, Val MAE: 13.18%\n"
     ]
    },
    {
     "name": "stderr",
     "output_type": "stream",
     "text": [
      "Epoch 102/250: 100%|██████████| 68/68 [00:37<00:00,  1.81it/s]\n"
     ]
    },
    {
     "name": "stdout",
     "output_type": "stream",
     "text": [
      "Epoch 102:\n",
      "Train Loss: 381.7836, Train MAE: 14.99%\n",
      "Val Loss: 336.6015, Val MAE: 14.49%\n"
     ]
    },
    {
     "name": "stderr",
     "output_type": "stream",
     "text": [
      "Epoch 103/250: 100%|██████████| 68/68 [00:38<00:00,  1.77it/s]\n"
     ]
    },
    {
     "name": "stdout",
     "output_type": "stream",
     "text": [
      "Epoch 103:\n",
      "Train Loss: 349.7381, Train MAE: 14.15%\n",
      "Val Loss: 290.5994, Val MAE: 12.79%\n"
     ]
    },
    {
     "name": "stderr",
     "output_type": "stream",
     "text": [
      "Epoch 104/250: 100%|██████████| 68/68 [00:37<00:00,  1.80it/s]\n"
     ]
    },
    {
     "name": "stdout",
     "output_type": "stream",
     "text": [
      "Epoch 104:\n",
      "Train Loss: 359.0781, Train MAE: 14.52%\n",
      "Val Loss: 303.8013, Val MAE: 13.27%\n"
     ]
    },
    {
     "name": "stderr",
     "output_type": "stream",
     "text": [
      "Epoch 105/250: 100%|██████████| 68/68 [00:37<00:00,  1.81it/s]\n"
     ]
    },
    {
     "name": "stdout",
     "output_type": "stream",
     "text": [
      "Epoch 105:\n",
      "Train Loss: 359.8512, Train MAE: 14.58%\n",
      "Val Loss: 301.5990, Val MAE: 13.13%\n"
     ]
    },
    {
     "name": "stderr",
     "output_type": "stream",
     "text": [
      "Epoch 106/250: 100%|██████████| 68/68 [00:36<00:00,  1.86it/s]\n"
     ]
    },
    {
     "name": "stdout",
     "output_type": "stream",
     "text": [
      "Epoch 106:\n",
      "Train Loss: 348.6372, Train MAE: 14.29%\n",
      "Val Loss: 290.4833, Val MAE: 12.63%\n"
     ]
    },
    {
     "name": "stderr",
     "output_type": "stream",
     "text": [
      "Epoch 107/250: 100%|██████████| 68/68 [00:37<00:00,  1.82it/s]\n"
     ]
    },
    {
     "name": "stdout",
     "output_type": "stream",
     "text": [
      "Epoch 107:\n",
      "Train Loss: 321.9910, Train MAE: 13.73%\n",
      "Val Loss: 275.1893, Val MAE: 12.45%\n"
     ]
    },
    {
     "name": "stderr",
     "output_type": "stream",
     "text": [
      "Epoch 108/250: 100%|██████████| 68/68 [00:36<00:00,  1.86it/s]\n"
     ]
    },
    {
     "name": "stdout",
     "output_type": "stream",
     "text": [
      "Epoch 108:\n",
      "Train Loss: 306.6484, Train MAE: 13.35%\n",
      "Val Loss: 241.9310, Val MAE: 11.31%\n"
     ]
    },
    {
     "name": "stderr",
     "output_type": "stream",
     "text": [
      "Epoch 109/250: 100%|██████████| 68/68 [00:36<00:00,  1.84it/s]\n"
     ]
    },
    {
     "name": "stdout",
     "output_type": "stream",
     "text": [
      "Epoch 109:\n",
      "Train Loss: 304.3592, Train MAE: 13.17%\n",
      "Val Loss: 280.2892, Val MAE: 12.83%\n"
     ]
    },
    {
     "name": "stderr",
     "output_type": "stream",
     "text": [
      "Epoch 110/250: 100%|██████████| 68/68 [00:36<00:00,  1.86it/s]\n"
     ]
    },
    {
     "name": "stdout",
     "output_type": "stream",
     "text": [
      "Epoch 110:\n",
      "Train Loss: 291.5813, Train MAE: 12.75%\n",
      "Val Loss: 264.7931, Val MAE: 12.35%\n"
     ]
    },
    {
     "name": "stderr",
     "output_type": "stream",
     "text": [
      "Epoch 111/250: 100%|██████████| 68/68 [00:36<00:00,  1.86it/s]\n"
     ]
    },
    {
     "name": "stdout",
     "output_type": "stream",
     "text": [
      "Epoch 111:\n",
      "Train Loss: 295.5470, Train MAE: 12.92%\n",
      "Val Loss: 247.9940, Val MAE: 11.33%\n"
     ]
    },
    {
     "name": "stderr",
     "output_type": "stream",
     "text": [
      "Epoch 112/250: 100%|██████████| 68/68 [00:36<00:00,  1.85it/s]\n"
     ]
    },
    {
     "name": "stdout",
     "output_type": "stream",
     "text": [
      "Epoch 112:\n",
      "Train Loss: 289.2902, Train MAE: 12.71%\n",
      "Val Loss: 332.2848, Val MAE: 13.95%\n"
     ]
    },
    {
     "name": "stderr",
     "output_type": "stream",
     "text": [
      "Epoch 113/250: 100%|██████████| 68/68 [00:37<00:00,  1.81it/s]\n"
     ]
    },
    {
     "name": "stdout",
     "output_type": "stream",
     "text": [
      "Epoch 113:\n",
      "Train Loss: 273.9607, Train MAE: 12.39%\n",
      "Val Loss: 220.0268, Val MAE: 10.76%\n"
     ]
    },
    {
     "name": "stderr",
     "output_type": "stream",
     "text": [
      "Epoch 114/250: 100%|██████████| 68/68 [00:37<00:00,  1.84it/s]\n"
     ]
    },
    {
     "name": "stdout",
     "output_type": "stream",
     "text": [
      "Epoch 114:\n",
      "Train Loss: 277.6063, Train MAE: 12.47%\n",
      "Val Loss: 261.7536, Val MAE: 12.49%\n"
     ]
    },
    {
     "name": "stderr",
     "output_type": "stream",
     "text": [
      "Epoch 115/250: 100%|██████████| 68/68 [00:37<00:00,  1.83it/s]\n"
     ]
    },
    {
     "name": "stdout",
     "output_type": "stream",
     "text": [
      "Epoch 115:\n",
      "Train Loss: 273.2957, Train MAE: 12.31%\n",
      "Val Loss: 232.4527, Val MAE: 11.43%\n"
     ]
    },
    {
     "name": "stderr",
     "output_type": "stream",
     "text": [
      "Epoch 116/250: 100%|██████████| 68/68 [00:37<00:00,  1.80it/s]\n"
     ]
    },
    {
     "name": "stdout",
     "output_type": "stream",
     "text": [
      "Epoch 116:\n",
      "Train Loss: 273.2983, Train MAE: 12.30%\n",
      "Val Loss: 207.4293, Val MAE: 10.48%\n"
     ]
    },
    {
     "name": "stderr",
     "output_type": "stream",
     "text": [
      "Epoch 117/250: 100%|██████████| 68/68 [00:37<00:00,  1.79it/s]\n"
     ]
    },
    {
     "name": "stdout",
     "output_type": "stream",
     "text": [
      "Epoch 117:\n",
      "Train Loss: 240.3929, Train MAE: 11.56%\n",
      "Val Loss: 230.9823, Val MAE: 11.25%\n"
     ]
    },
    {
     "name": "stderr",
     "output_type": "stream",
     "text": [
      "Epoch 118/250: 100%|██████████| 68/68 [00:37<00:00,  1.80it/s]\n"
     ]
    },
    {
     "name": "stdout",
     "output_type": "stream",
     "text": [
      "Epoch 118:\n",
      "Train Loss: 261.9986, Train MAE: 12.11%\n",
      "Val Loss: 204.4219, Val MAE: 10.48%\n"
     ]
    },
    {
     "name": "stderr",
     "output_type": "stream",
     "text": [
      "Epoch 119/250: 100%|██████████| 68/68 [00:35<00:00,  1.90it/s]\n"
     ]
    },
    {
     "name": "stdout",
     "output_type": "stream",
     "text": [
      "Epoch 119:\n",
      "Train Loss: 243.8834, Train MAE: 11.67%\n",
      "Val Loss: 244.4304, Val MAE: 11.74%\n"
     ]
    },
    {
     "name": "stderr",
     "output_type": "stream",
     "text": [
      "Epoch 120/250: 100%|██████████| 68/68 [00:35<00:00,  1.89it/s]\n"
     ]
    },
    {
     "name": "stdout",
     "output_type": "stream",
     "text": [
      "Epoch 120:\n",
      "Train Loss: 243.2320, Train MAE: 11.49%\n",
      "Val Loss: 212.0009, Val MAE: 10.55%\n"
     ]
    },
    {
     "name": "stderr",
     "output_type": "stream",
     "text": [
      "Epoch 121/250: 100%|██████████| 68/68 [00:36<00:00,  1.87it/s]\n"
     ]
    },
    {
     "name": "stdout",
     "output_type": "stream",
     "text": [
      "Epoch 121:\n",
      "Train Loss: 248.1859, Train MAE: 11.87%\n",
      "Val Loss: 263.1508, Val MAE: 12.70%\n"
     ]
    },
    {
     "name": "stderr",
     "output_type": "stream",
     "text": [
      "Epoch 122/250: 100%|██████████| 68/68 [00:36<00:00,  1.85it/s]\n"
     ]
    },
    {
     "name": "stdout",
     "output_type": "stream",
     "text": [
      "Epoch 122:\n",
      "Train Loss: 241.4491, Train MAE: 11.52%\n",
      "Val Loss: 188.5733, Val MAE: 10.05%\n"
     ]
    },
    {
     "name": "stderr",
     "output_type": "stream",
     "text": [
      "Epoch 123/250: 100%|██████████| 68/68 [00:36<00:00,  1.87it/s]\n"
     ]
    },
    {
     "name": "stdout",
     "output_type": "stream",
     "text": [
      "Epoch 123:\n",
      "Train Loss: 223.8764, Train MAE: 10.98%\n",
      "Val Loss: 322.5924, Val MAE: 14.06%\n"
     ]
    },
    {
     "name": "stderr",
     "output_type": "stream",
     "text": [
      "Epoch 124/250: 100%|██████████| 68/68 [00:37<00:00,  1.83it/s]\n"
     ]
    },
    {
     "name": "stdout",
     "output_type": "stream",
     "text": [
      "Epoch 124:\n",
      "Train Loss: 241.6213, Train MAE: 11.57%\n",
      "Val Loss: 161.3357, Val MAE: 8.64%\n"
     ]
    },
    {
     "name": "stderr",
     "output_type": "stream",
     "text": [
      "Epoch 125/250: 100%|██████████| 68/68 [00:37<00:00,  1.81it/s]\n"
     ]
    },
    {
     "name": "stdout",
     "output_type": "stream",
     "text": [
      "Epoch 125:\n",
      "Train Loss: 232.6152, Train MAE: 11.22%\n",
      "Val Loss: 164.2919, Val MAE: 8.97%\n"
     ]
    },
    {
     "name": "stderr",
     "output_type": "stream",
     "text": [
      "Epoch 126/250: 100%|██████████| 68/68 [00:37<00:00,  1.80it/s]\n"
     ]
    },
    {
     "name": "stdout",
     "output_type": "stream",
     "text": [
      "Epoch 126:\n",
      "Train Loss: 226.4474, Train MAE: 11.15%\n",
      "Val Loss: 190.1028, Val MAE: 10.00%\n"
     ]
    },
    {
     "name": "stderr",
     "output_type": "stream",
     "text": [
      "Epoch 127/250: 100%|██████████| 68/68 [00:37<00:00,  1.80it/s]\n"
     ]
    },
    {
     "name": "stdout",
     "output_type": "stream",
     "text": [
      "Epoch 127:\n",
      "Train Loss: 222.8238, Train MAE: 11.03%\n",
      "Val Loss: 185.1723, Val MAE: 9.88%\n"
     ]
    },
    {
     "name": "stderr",
     "output_type": "stream",
     "text": [
      "Epoch 128/250: 100%|██████████| 68/68 [00:37<00:00,  1.80it/s]\n"
     ]
    },
    {
     "name": "stdout",
     "output_type": "stream",
     "text": [
      "Epoch 128:\n",
      "Train Loss: 208.4857, Train MAE: 10.68%\n",
      "Val Loss: 141.0706, Val MAE: 7.95%\n"
     ]
    },
    {
     "name": "stderr",
     "output_type": "stream",
     "text": [
      "Epoch 129/250: 100%|██████████| 68/68 [00:37<00:00,  1.79it/s]\n"
     ]
    },
    {
     "name": "stdout",
     "output_type": "stream",
     "text": [
      "Epoch 129:\n",
      "Train Loss: 190.4503, Train MAE: 9.92%\n",
      "Val Loss: 166.5962, Val MAE: 8.89%\n"
     ]
    },
    {
     "name": "stderr",
     "output_type": "stream",
     "text": [
      "Epoch 130/250: 100%|██████████| 68/68 [00:37<00:00,  1.83it/s]\n"
     ]
    },
    {
     "name": "stdout",
     "output_type": "stream",
     "text": [
      "Epoch 130:\n",
      "Train Loss: 201.0927, Train MAE: 10.37%\n",
      "Val Loss: 154.1368, Val MAE: 8.76%\n"
     ]
    },
    {
     "name": "stderr",
     "output_type": "stream",
     "text": [
      "Epoch 131/250: 100%|██████████| 68/68 [00:35<00:00,  1.92it/s]\n"
     ]
    },
    {
     "name": "stdout",
     "output_type": "stream",
     "text": [
      "Epoch 131:\n",
      "Train Loss: 193.4565, Train MAE: 9.99%\n",
      "Val Loss: 144.3587, Val MAE: 8.34%\n"
     ]
    },
    {
     "name": "stderr",
     "output_type": "stream",
     "text": [
      "Epoch 132/250: 100%|██████████| 68/68 [00:35<00:00,  1.89it/s]\n"
     ]
    },
    {
     "name": "stdout",
     "output_type": "stream",
     "text": [
      "Epoch 132:\n",
      "Train Loss: 195.5683, Train MAE: 10.11%\n",
      "Val Loss: 209.9951, Val MAE: 11.05%\n"
     ]
    },
    {
     "name": "stderr",
     "output_type": "stream",
     "text": [
      "Epoch 133/250: 100%|██████████| 68/68 [00:36<00:00,  1.89it/s]\n"
     ]
    },
    {
     "name": "stdout",
     "output_type": "stream",
     "text": [
      "Epoch 133:\n",
      "Train Loss: 204.4299, Train MAE: 10.47%\n",
      "Val Loss: 150.6388, Val MAE: 8.52%\n"
     ]
    },
    {
     "name": "stderr",
     "output_type": "stream",
     "text": [
      "Epoch 134/250: 100%|██████████| 68/68 [00:36<00:00,  1.87it/s]\n"
     ]
    },
    {
     "name": "stdout",
     "output_type": "stream",
     "text": [
      "Epoch 134:\n",
      "Train Loss: 182.9852, Train MAE: 9.79%\n",
      "Val Loss: 256.3407, Val MAE: 12.92%\n"
     ]
    },
    {
     "name": "stderr",
     "output_type": "stream",
     "text": [
      "Epoch 135/250: 100%|██████████| 68/68 [00:36<00:00,  1.86it/s]\n"
     ]
    },
    {
     "name": "stdout",
     "output_type": "stream",
     "text": [
      "Epoch 135:\n",
      "Train Loss: 191.5660, Train MAE: 10.08%\n",
      "Val Loss: 143.1905, Val MAE: 8.22%\n"
     ]
    },
    {
     "name": "stderr",
     "output_type": "stream",
     "text": [
      "Epoch 136/250: 100%|██████████| 68/68 [00:37<00:00,  1.83it/s]\n"
     ]
    },
    {
     "name": "stdout",
     "output_type": "stream",
     "text": [
      "Epoch 136:\n",
      "Train Loss: 211.1750, Train MAE: 10.67%\n",
      "Val Loss: 141.1456, Val MAE: 8.11%\n"
     ]
    },
    {
     "name": "stderr",
     "output_type": "stream",
     "text": [
      "Epoch 137/250: 100%|██████████| 68/68 [00:36<00:00,  1.84it/s]\n"
     ]
    },
    {
     "name": "stdout",
     "output_type": "stream",
     "text": [
      "Epoch 137:\n",
      "Train Loss: 181.2016, Train MAE: 9.68%\n",
      "Val Loss: 131.4141, Val MAE: 7.66%\n"
     ]
    },
    {
     "name": "stderr",
     "output_type": "stream",
     "text": [
      "Epoch 138/250: 100%|██████████| 68/68 [00:36<00:00,  1.86it/s]\n"
     ]
    },
    {
     "name": "stdout",
     "output_type": "stream",
     "text": [
      "Epoch 138:\n",
      "Train Loss: 181.1048, Train MAE: 9.64%\n",
      "Val Loss: 149.8580, Val MAE: 8.54%\n"
     ]
    },
    {
     "name": "stderr",
     "output_type": "stream",
     "text": [
      "Epoch 139/250: 100%|██████████| 68/68 [00:36<00:00,  1.84it/s]\n"
     ]
    },
    {
     "name": "stdout",
     "output_type": "stream",
     "text": [
      "Epoch 139:\n",
      "Train Loss: 178.2973, Train MAE: 9.61%\n",
      "Val Loss: 123.6457, Val MAE: 7.24%\n"
     ]
    },
    {
     "name": "stderr",
     "output_type": "stream",
     "text": [
      "Epoch 140/250: 100%|██████████| 68/68 [00:36<00:00,  1.85it/s]\n"
     ]
    },
    {
     "name": "stdout",
     "output_type": "stream",
     "text": [
      "Epoch 140:\n",
      "Train Loss: 168.8307, Train MAE: 9.29%\n",
      "Val Loss: 125.4511, Val MAE: 7.33%\n"
     ]
    },
    {
     "name": "stderr",
     "output_type": "stream",
     "text": [
      "Epoch 141/250: 100%|██████████| 68/68 [00:37<00:00,  1.83it/s]\n"
     ]
    },
    {
     "name": "stdout",
     "output_type": "stream",
     "text": [
      "Epoch 141:\n",
      "Train Loss: 181.2453, Train MAE: 9.64%\n",
      "Val Loss: 172.5241, Val MAE: 9.66%\n"
     ]
    },
    {
     "name": "stderr",
     "output_type": "stream",
     "text": [
      "Epoch 142/250: 100%|██████████| 68/68 [00:36<00:00,  1.85it/s]\n"
     ]
    },
    {
     "name": "stdout",
     "output_type": "stream",
     "text": [
      "Epoch 142:\n",
      "Train Loss: 181.0888, Train MAE: 9.70%\n",
      "Val Loss: 175.9804, Val MAE: 9.61%\n"
     ]
    },
    {
     "name": "stderr",
     "output_type": "stream",
     "text": [
      "Epoch 143/250: 100%|██████████| 68/68 [00:36<00:00,  1.85it/s]\n"
     ]
    },
    {
     "name": "stdout",
     "output_type": "stream",
     "text": [
      "Epoch 143:\n",
      "Train Loss: 174.9352, Train MAE: 9.52%\n",
      "Val Loss: 148.0753, Val MAE: 8.45%\n"
     ]
    },
    {
     "name": "stderr",
     "output_type": "stream",
     "text": [
      "Epoch 144/250: 100%|██████████| 68/68 [00:36<00:00,  1.88it/s]\n"
     ]
    },
    {
     "name": "stdout",
     "output_type": "stream",
     "text": [
      "Epoch 144:\n",
      "Train Loss: 177.8998, Train MAE: 9.49%\n",
      "Val Loss: 172.4093, Val MAE: 9.43%\n"
     ]
    },
    {
     "name": "stderr",
     "output_type": "stream",
     "text": [
      "Epoch 145/250: 100%|██████████| 68/68 [00:36<00:00,  1.86it/s]\n"
     ]
    },
    {
     "name": "stdout",
     "output_type": "stream",
     "text": [
      "Epoch 145:\n",
      "Train Loss: 185.9013, Train MAE: 9.81%\n",
      "Val Loss: 124.2133, Val MAE: 7.23%\n"
     ]
    },
    {
     "name": "stderr",
     "output_type": "stream",
     "text": [
      "Epoch 146/250: 100%|██████████| 68/68 [00:37<00:00,  1.83it/s]\n"
     ]
    },
    {
     "name": "stdout",
     "output_type": "stream",
     "text": [
      "Epoch 146:\n",
      "Train Loss: 168.5010, Train MAE: 9.30%\n",
      "Val Loss: 123.9696, Val MAE: 7.21%\n"
     ]
    },
    {
     "name": "stderr",
     "output_type": "stream",
     "text": [
      "Epoch 147/250: 100%|██████████| 68/68 [00:36<00:00,  1.86it/s]\n"
     ]
    },
    {
     "name": "stdout",
     "output_type": "stream",
     "text": [
      "Epoch 147:\n",
      "Train Loss: 167.1446, Train MAE: 9.23%\n",
      "Val Loss: 196.9476, Val MAE: 11.11%\n"
     ]
    },
    {
     "name": "stderr",
     "output_type": "stream",
     "text": [
      "Epoch 148/250: 100%|██████████| 68/68 [00:36<00:00,  1.84it/s]\n"
     ]
    },
    {
     "name": "stdout",
     "output_type": "stream",
     "text": [
      "Epoch 148:\n",
      "Train Loss: 179.1117, Train MAE: 9.66%\n",
      "Val Loss: 130.0945, Val MAE: 7.65%\n"
     ]
    },
    {
     "name": "stderr",
     "output_type": "stream",
     "text": [
      "Epoch 149/250: 100%|██████████| 68/68 [00:37<00:00,  1.82it/s]\n"
     ]
    },
    {
     "name": "stdout",
     "output_type": "stream",
     "text": [
      "Epoch 149:\n",
      "Train Loss: 180.0126, Train MAE: 9.72%\n",
      "Val Loss: 135.5315, Val MAE: 7.97%\n"
     ]
    },
    {
     "name": "stderr",
     "output_type": "stream",
     "text": [
      "Epoch 150/250: 100%|██████████| 68/68 [00:38<00:00,  1.76it/s]\n"
     ]
    },
    {
     "name": "stdout",
     "output_type": "stream",
     "text": [
      "Epoch 150:\n",
      "Train Loss: 164.7567, Train MAE: 9.17%\n",
      "Val Loss: 250.5222, Val MAE: 12.00%\n"
     ]
    },
    {
     "name": "stderr",
     "output_type": "stream",
     "text": [
      "Epoch 151/250: 100%|██████████| 68/68 [00:37<00:00,  1.81it/s]\n"
     ]
    },
    {
     "name": "stdout",
     "output_type": "stream",
     "text": [
      "Epoch 151:\n",
      "Train Loss: 176.3012, Train MAE: 9.54%\n",
      "Val Loss: 121.6706, Val MAE: 7.15%\n"
     ]
    },
    {
     "name": "stderr",
     "output_type": "stream",
     "text": [
      "Epoch 152/250: 100%|██████████| 68/68 [00:38<00:00,  1.78it/s]\n"
     ]
    },
    {
     "name": "stdout",
     "output_type": "stream",
     "text": [
      "Epoch 152:\n",
      "Train Loss: 165.1493, Train MAE: 9.02%\n",
      "Val Loss: 134.5474, Val MAE: 7.83%\n"
     ]
    },
    {
     "name": "stderr",
     "output_type": "stream",
     "text": [
      "Epoch 153/250: 100%|██████████| 68/68 [00:37<00:00,  1.79it/s]\n"
     ]
    },
    {
     "name": "stdout",
     "output_type": "stream",
     "text": [
      "Epoch 153:\n",
      "Train Loss: 151.9698, Train MAE: 8.71%\n",
      "Val Loss: 133.1975, Val MAE: 7.88%\n"
     ]
    },
    {
     "name": "stderr",
     "output_type": "stream",
     "text": [
      "Epoch 154/250: 100%|██████████| 68/68 [00:37<00:00,  1.79it/s]\n"
     ]
    },
    {
     "name": "stdout",
     "output_type": "stream",
     "text": [
      "Epoch 154:\n",
      "Train Loss: 160.0100, Train MAE: 8.97%\n",
      "Val Loss: 128.9952, Val MAE: 7.42%\n"
     ]
    },
    {
     "name": "stderr",
     "output_type": "stream",
     "text": [
      "Epoch 155/250: 100%|██████████| 68/68 [00:38<00:00,  1.77it/s]\n"
     ]
    },
    {
     "name": "stdout",
     "output_type": "stream",
     "text": [
      "Epoch 155:\n",
      "Train Loss: 151.3822, Train MAE: 8.60%\n",
      "Val Loss: 115.4974, Val MAE: 6.80%\n"
     ]
    },
    {
     "name": "stderr",
     "output_type": "stream",
     "text": [
      "Epoch 156/250: 100%|██████████| 68/68 [00:35<00:00,  1.90it/s]\n"
     ]
    },
    {
     "name": "stdout",
     "output_type": "stream",
     "text": [
      "Epoch 156:\n",
      "Train Loss: 153.6557, Train MAE: 8.62%\n",
      "Val Loss: 119.0870, Val MAE: 6.96%\n"
     ]
    },
    {
     "name": "stderr",
     "output_type": "stream",
     "text": [
      "Epoch 157/250: 100%|██████████| 68/68 [00:36<00:00,  1.86it/s]\n"
     ]
    },
    {
     "name": "stdout",
     "output_type": "stream",
     "text": [
      "Epoch 157:\n",
      "Train Loss: 156.0118, Train MAE: 8.77%\n",
      "Val Loss: 122.0827, Val MAE: 7.28%\n"
     ]
    },
    {
     "name": "stderr",
     "output_type": "stream",
     "text": [
      "Epoch 158/250: 100%|██████████| 68/68 [00:37<00:00,  1.79it/s]\n"
     ]
    },
    {
     "name": "stdout",
     "output_type": "stream",
     "text": [
      "Epoch 158:\n",
      "Train Loss: 162.8428, Train MAE: 9.05%\n",
      "Val Loss: 176.7290, Val MAE: 9.90%\n"
     ]
    },
    {
     "name": "stderr",
     "output_type": "stream",
     "text": [
      "Epoch 159/250: 100%|██████████| 68/68 [00:36<00:00,  1.85it/s]\n"
     ]
    },
    {
     "name": "stdout",
     "output_type": "stream",
     "text": [
      "Epoch 159:\n",
      "Train Loss: 160.9746, Train MAE: 9.04%\n",
      "Val Loss: 119.8250, Val MAE: 7.09%\n"
     ]
    },
    {
     "name": "stderr",
     "output_type": "stream",
     "text": [
      "Epoch 160/250: 100%|██████████| 68/68 [00:37<00:00,  1.80it/s]\n"
     ]
    },
    {
     "name": "stdout",
     "output_type": "stream",
     "text": [
      "Epoch 160:\n",
      "Train Loss: 163.1204, Train MAE: 9.05%\n",
      "Val Loss: 134.3931, Val MAE: 8.00%\n"
     ]
    },
    {
     "name": "stderr",
     "output_type": "stream",
     "text": [
      "Epoch 161/250: 100%|██████████| 68/68 [00:37<00:00,  1.83it/s]\n"
     ]
    },
    {
     "name": "stdout",
     "output_type": "stream",
     "text": [
      "Epoch 161:\n",
      "Train Loss: 161.5940, Train MAE: 8.96%\n",
      "Val Loss: 116.5203, Val MAE: 6.87%\n"
     ]
    },
    {
     "name": "stderr",
     "output_type": "stream",
     "text": [
      "Epoch 162/250: 100%|██████████| 68/68 [00:37<00:00,  1.83it/s]\n"
     ]
    },
    {
     "name": "stdout",
     "output_type": "stream",
     "text": [
      "Epoch 162:\n",
      "Train Loss: 156.5426, Train MAE: 8.70%\n",
      "Val Loss: 126.8882, Val MAE: 7.52%\n"
     ]
    },
    {
     "name": "stderr",
     "output_type": "stream",
     "text": [
      "Epoch 163/250: 100%|██████████| 68/68 [00:37<00:00,  1.83it/s]\n"
     ]
    },
    {
     "name": "stdout",
     "output_type": "stream",
     "text": [
      "Epoch 163:\n",
      "Train Loss: 149.4672, Train MAE: 8.52%\n",
      "Val Loss: 117.3535, Val MAE: 6.88%\n"
     ]
    },
    {
     "name": "stderr",
     "output_type": "stream",
     "text": [
      "Epoch 164/250: 100%|██████████| 68/68 [00:38<00:00,  1.78it/s]\n"
     ]
    },
    {
     "name": "stdout",
     "output_type": "stream",
     "text": [
      "Epoch 164:\n",
      "Train Loss: 146.4038, Train MAE: 8.36%\n",
      "Val Loss: 124.4689, Val MAE: 7.39%\n"
     ]
    },
    {
     "name": "stderr",
     "output_type": "stream",
     "text": [
      "Epoch 165/250: 100%|██████████| 68/68 [00:38<00:00,  1.78it/s]\n"
     ]
    },
    {
     "name": "stdout",
     "output_type": "stream",
     "text": [
      "Epoch 165:\n",
      "Train Loss: 150.3116, Train MAE: 8.58%\n",
      "Val Loss: 134.9650, Val MAE: 7.95%\n"
     ]
    },
    {
     "name": "stderr",
     "output_type": "stream",
     "text": [
      "Epoch 166/250: 100%|██████████| 68/68 [00:38<00:00,  1.78it/s]\n"
     ]
    },
    {
     "name": "stdout",
     "output_type": "stream",
     "text": [
      "Epoch 166:\n",
      "Train Loss: 164.1353, Train MAE: 9.04%\n",
      "Val Loss: 150.6505, Val MAE: 8.70%\n"
     ]
    },
    {
     "name": "stderr",
     "output_type": "stream",
     "text": [
      "Epoch 167/250: 100%|██████████| 68/68 [00:38<00:00,  1.76it/s]\n"
     ]
    },
    {
     "name": "stdout",
     "output_type": "stream",
     "text": [
      "Epoch 167:\n",
      "Train Loss: 163.2160, Train MAE: 9.04%\n",
      "Val Loss: 192.0571, Val MAE: 10.23%\n"
     ]
    },
    {
     "name": "stderr",
     "output_type": "stream",
     "text": [
      "Epoch 168/250: 100%|██████████| 68/68 [00:36<00:00,  1.88it/s]\n"
     ]
    },
    {
     "name": "stdout",
     "output_type": "stream",
     "text": [
      "Epoch 168:\n",
      "Train Loss: 154.5003, Train MAE: 8.71%\n",
      "Val Loss: 116.6423, Val MAE: 6.92%\n"
     ]
    },
    {
     "name": "stderr",
     "output_type": "stream",
     "text": [
      "Epoch 169/250: 100%|██████████| 68/68 [00:36<00:00,  1.86it/s]\n"
     ]
    },
    {
     "name": "stdout",
     "output_type": "stream",
     "text": [
      "Epoch 169:\n",
      "Train Loss: 149.4662, Train MAE: 8.46%\n",
      "Val Loss: 119.4853, Val MAE: 6.97%\n"
     ]
    },
    {
     "name": "stderr",
     "output_type": "stream",
     "text": [
      "Epoch 170/250: 100%|██████████| 68/68 [00:36<00:00,  1.85it/s]\n"
     ]
    },
    {
     "name": "stdout",
     "output_type": "stream",
     "text": [
      "Epoch 170:\n",
      "Train Loss: 152.2062, Train MAE: 8.69%\n",
      "Val Loss: 118.8962, Val MAE: 7.05%\n"
     ]
    },
    {
     "name": "stderr",
     "output_type": "stream",
     "text": [
      "Epoch 171/250: 100%|██████████| 68/68 [00:36<00:00,  1.85it/s]\n"
     ]
    },
    {
     "name": "stdout",
     "output_type": "stream",
     "text": [
      "Epoch 171:\n",
      "Train Loss: 155.2795, Train MAE: 8.68%\n",
      "Val Loss: 118.0258, Val MAE: 6.96%\n"
     ]
    },
    {
     "name": "stderr",
     "output_type": "stream",
     "text": [
      "Epoch 172/250: 100%|██████████| 68/68 [00:41<00:00,  1.63it/s]\n"
     ]
    },
    {
     "name": "stdout",
     "output_type": "stream",
     "text": [
      "Epoch 172:\n",
      "Train Loss: 145.5580, Train MAE: 8.31%\n",
      "Val Loss: 121.6841, Val MAE: 7.35%\n"
     ]
    },
    {
     "name": "stderr",
     "output_type": "stream",
     "text": [
      "Epoch 173/250: 100%|██████████| 68/68 [00:36<00:00,  1.84it/s]\n"
     ]
    },
    {
     "name": "stdout",
     "output_type": "stream",
     "text": [
      "Epoch 173:\n",
      "Train Loss: 148.2717, Train MAE: 8.39%\n",
      "Val Loss: 147.4169, Val MAE: 8.74%\n"
     ]
    },
    {
     "name": "stderr",
     "output_type": "stream",
     "text": [
      "Epoch 174/250: 100%|██████████| 68/68 [00:37<00:00,  1.80it/s]\n"
     ]
    },
    {
     "name": "stdout",
     "output_type": "stream",
     "text": [
      "Epoch 174:\n",
      "Train Loss: 156.7253, Train MAE: 8.69%\n",
      "Val Loss: 117.4635, Val MAE: 6.89%\n"
     ]
    },
    {
     "name": "stderr",
     "output_type": "stream",
     "text": [
      "Epoch 175/250: 100%|██████████| 68/68 [00:38<00:00,  1.78it/s]\n"
     ]
    },
    {
     "name": "stdout",
     "output_type": "stream",
     "text": [
      "Epoch 175:\n",
      "Train Loss: 143.0566, Train MAE: 8.18%\n",
      "Val Loss: 125.7111, Val MAE: 7.51%\n",
      "Early stopping triggered at epoch 175\n"
     ]
    },
    {
     "data": {
      "image/png": "[encoded data removed]",
      "text/plain": [
       "<Figure size 1500x1000 with 4 Axes>"
      ]
     },
     "metadata": {},
     "output_type": "display_data"
    },
    {
     "name": "stderr",
     "output_type": "stream",
     "text": [
      "Making predictions: 100%|██████████| 18/18 [00:10<00:00,  1.78it/s]\n"
     ]
    }
   ],
   "source": [
    "# Create datasets\n",
    "train_dataset = HyperspectralDataset(train_df, base_path, augment=True, is_test=False)\n",
    "val_dataset = HyperspectralDataset(train_df, base_path, augment=False, is_test=False) \n",
    "test_dataset = HyperspectralDataset(test_df, base_path, augment=False, is_test=True)\n",
    "\n",
    "# Create data loaders with num_workers=0\n",
    "train_loader = DataLoader(train_dataset, batch_size=BATCH_SIZE, shuffle=True, num_workers=0)\n",
    "val_loader = DataLoader(val_dataset, batch_size=BATCH_SIZE, shuffle=False, num_workers=0)\n",
    "test_loader = DataLoader(test_dataset, batch_size=BATCH_SIZE, shuffle=False, num_workers=0)\n",
    "\n",
    "# Initialize model and training components\n",
    "model = HyperspectralCNN().to(DEVICE)\n",
    "criterion = nn.MSELoss()  # Mean Squared Error loss for regression\n",
    "optimizer = optim.AdamW(model.parameters(), lr=LEARNING_RATE, weight_decay=1e-4)\n",
    "scheduler = optim.lr_scheduler.ReduceLROnPlateau(optimizer, mode='min', factor=0.5, patience=5)\n",
    "\n",
    "# Train model\n",
    "model = train_model(model, train_loader, val_loader, EPOCHS, criterion, optimizer)\n",
    "\n",
    "# Make predictions on test set\n",
    "model.eval()\n",
    "all_preds = []\n",
    "all_files = []\n",
    "\n",
    "with torch.no_grad():\n",
    "    for inputs in tqdm(test_loader, desc=\"Making predictions\"):\n",
    "        inputs = inputs.to(DEVICE)\n",
    "        outputs = model(inputs)\n",
    "        all_preds.extend(outputs.cpu().numpy())\n",
    "        all_files.extend(test_df['id'].iloc[len(all_files):len(all_files)+len(inputs)].values)\n",
    "\n",
    "# Save predictions to CSV\n",
    "results_df = pd.DataFrame({\n",
    "    'id': all_files,\n",
    "    'predicted_percentage': all_preds\n",
    "})\n",
    "results_df.to_csv('test_predictions.csv', index=False)"
   ]
  },
  {
   "cell_type": "code",
   "execution_count": 15,
   "id": "24d68fdc",
   "metadata": {},
   "outputs": [
    {
     "data": {
      "image/png": "[encoded data removed]",
      "text/plain": [
       "<Figure size 640x480 with 1 Axes>"
      ]
     },
     "metadata": {},
     "output_type": "display_data"
    }
   ],
   "source": [
    "df_pred = pd.read_csv('C:/IIUM/AI Note IIUM/Deep_Learning/Project/Model/Main7.csv')\n",
    "df_pred['predicted_percentage'] = df_pred['predicted_percentage'].str.strip('[]').astype(float)\n",
    "\n",
    "plt.hist(df_pred['predicted_percentage'], bins=30)\n",
    "plt.xlabel('Predicted Disease Percentage')\n",
    "plt.ylabel('Count')\n",
    "plt.title('Distribution of Test Set Predictions')\n",
    "plt.show()"
   ]
  }
 ],
 "metadata": {
  "kernelspec": {
   "display_name": "venv",
   "language": "python",
   "name": "python3"
  },
  "language_info": {
   "codemirror_mode": {
    "name": "ipython",
    "version": 3
   },
   "file_extension": ".py",
   "mimetype": "text/x-python",
   "name": "python",
   "nbconvert_exporter": "python",
   "pygments_lexer": "ipython3",
   "version": "3.10.0"
  }
 },
 "nbformat": 4,
 "nbformat_minor": 5
}
