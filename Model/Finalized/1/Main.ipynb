{
 "cells": [
  {
   "cell_type": "markdown",
   "id": "07c5d792",
   "metadata": {},
   "source": [
    "### Project - Deep Learning"
   ]
  },
  {
   "cell_type": "markdown",
   "id": "5f85226f",
   "metadata": {},
   "source": [
    "# 🌾 Beyond Visible Spectrum - AI for Agriculture 2025\n",
    "\n",
    "![Agriculture AI Banner](https://i.imgur.com/ILVExxN.png)\n",
    "\n",
    "\n",
    "\n",
    "## 👤 Author\n",
    "**Muhamad Nurhakimie Thaqif Bin Abdullah**  \n",
    "**Student ID: 2213217**\n",
    "\n",
    "---\n",
    "\n",
    "## 📊 Dataset Access\n",
    "\n",
    "Click the link below to access the dataset used for this project:\n",
    "\n",
    "[👉 Beyond Visible Spectrum - AI for Agriculture 2025 Dataset on Kaggle](https://www.kaggle.com/competitions/beyond-visible-spectrum-ai-for-agriculture-2025/data)\n",
    "\n",
    "---\n",
    "\n",
    "## 🌱 Overview\n",
    "\n",
    "This dataset is part of a Kaggle competition focused on leveraging AI to analyze hyperspectral agricultural data beyond the visible light spectrum. The goal is to predict the test.csv and put the respective predicted % using regression to the test.csv\n",
    "\n",
    "---\n",
    "\n"
   ]
  },
  {
   "cell_type": "code",
   "execution_count": 44,
   "id": "693df534",
   "metadata": {},
   "outputs": [
    {
     "name": "stdout",
     "output_type": "stream",
     "text": [
      "Sat May 24 10:14:57 2025       \n",
      "+-----------------------------------------------------------------------------------------+\n",
      "| NVIDIA-SMI 572.42                 Driver Version: 572.42         CUDA Version: 12.8     |\n",
      "|-----------------------------------------+------------------------+----------------------+\n",
      "| GPU  Name                  Driver-Model | Bus-Id          Disp.A | Volatile Uncorr. ECC |\n",
      "| Fan  Temp   Perf          Pwr:Usage/Cap |           Memory-Usage | GPU-Util  Compute M. |\n",
      "|                                         |                        |               MIG M. |\n",
      "|=========================================+========================+======================|\n",
      "|   0  NVIDIA GeForce RTX 3060 ...  WDDM  |   00000000:01:00.0 Off |                  N/A |\n",
      "| N/A   49C    P8              9W /   40W |    2421MiB /   6144MiB |      0%      Default |\n",
      "|                                         |                        |                  N/A |\n",
      "+-----------------------------------------+------------------------+----------------------+\n",
      "                                                                                         \n",
      "+-----------------------------------------------------------------------------------------+\n",
      "| Processes:                                                                              |\n",
      "|  GPU   GI   CI              PID   Type   Process name                        GPU Memory |\n",
      "|        ID   ID                                                               Usage      |\n",
      "|=========================================================================================|\n",
      "|    0   N/A  N/A           31192      C   ...s\\Python\\Python310\\python.exe      N/A      |\n",
      "|    0   N/A  N/A           33712      C   ...s\\Python\\Python310\\python.exe      N/A      |\n",
      "|    0   N/A  N/A           35832      C   ...s\\Python\\Python310\\python.exe      N/A      |\n",
      "|    0   N/A  N/A           35936      C   ...s\\Python\\Python310\\python.exe      N/A      |\n",
      "|    0   N/A  N/A           36148      C   ...s\\Python\\Python310\\python.exe      N/A      |\n",
      "|    0   N/A  N/A           40168      C   ...cord\\app-1.0.9192\\Discord.exe      N/A      |\n",
      "+-----------------------------------------------------------------------------------------+\n"
     ]
    }
   ],
   "source": [
    "!nvidia-smi"
   ]
  },
  {
   "cell_type": "markdown",
   "id": "646eaedb",
   "metadata": {},
   "source": [
    "# library\n"
   ]
  },
  {
   "cell_type": "code",
   "execution_count": 22,
   "id": "d098b049",
   "metadata": {},
   "outputs": [],
   "source": [
    "import os\n",
    "import numpy as np\n",
    "import pandas as pd\n",
    "import matplotlib.pyplot as plt\n",
    "\n",
    "from collections import defaultdict\n",
    "from sklearn.decomposition import PCA\n",
    "\n",
    "import torch\n",
    "import torch.nn as nn\n",
    "import torch.optim as optim\n",
    "import torch.nn.functional as F\n",
    "from torch.utils.data import Dataset, DataLoader\n",
    "from torch.amp.autocast_mode import autocast\n",
    "from torch.amp.grad_scaler import GradScaler\n",
    "\n",
    "from tqdm.notebook import tqdm\n",
    "from torchsummary import summary\n"
   ]
  },
  {
   "cell_type": "markdown",
   "id": "558bfd7a",
   "metadata": {},
   "source": [
    "# Constant"
   ]
  },
  {
   "cell_type": "code",
   "execution_count": 23,
   "id": "812d5316",
   "metadata": {},
   "outputs": [],
   "source": [
    "BATCH_SIZE = 32\n",
    "EPOCHS = 200\n",
    "LEARNING_RATE = 0.0001 \n",
    "NUM_BANDS = 100  \n",
    "PATIENCE = 20 \n",
    "DEVICE = torch.device('cuda' if torch.cuda.is_available() else 'cpu')"
   ]
  },
  {
   "cell_type": "code",
   "execution_count": 24,
   "id": "5c927458",
   "metadata": {},
   "outputs": [],
   "source": [
    "# Load training and test data\n",
    "train_df = pd.read_csv('C:/IIUM/AI Note IIUM/Deep_Learning/Project/Data/train.csv')\n",
    "test_df = pd.read_csv('C:/IIUM/AI Note IIUM/Deep_Learning/Project/Data/test.csv')\n",
    "base_path = 'C:/IIUM/AI Note IIUM/Deep_Learning/Project/Data/ot'"
   ]
  },
  {
   "cell_type": "markdown",
   "id": "83a7ccf0",
   "metadata": {},
   "source": [
    "# Data Explore"
   ]
  },
  {
   "cell_type": "markdown",
   "id": "da0ca2d2",
   "metadata": {},
   "source": [
    "Removing: sample2451.npy as it had a problem most of the time (Manually)"
   ]
  },
  {
   "cell_type": "code",
   "execution_count": 25,
   "id": "394aef6e",
   "metadata": {},
   "outputs": [
    {
     "name": "stdout",
     "output_type": "stream",
     "text": [
      "📊 SHAPE GROUPS FOUND:\n",
      "\n",
      "Shape (128, 128, 125) | Total: 2681\n",
      " - sample1.npy, sample10.npy, sample100.npy, sample1000.npy, sample1001.npy, sample1002.npy, sample1003.npy, sample1005.npy, sample1006.npy, sample1007.npy, sample1008.npy, sample1009.npy, sample101.npy, sample1010.npy, sample1011.npy, sample1012.npy, sample1013.npy, sample1014.npy, sample1015.npy, sample1016.npy\n",
      " - sample1017.npy, sample1018.npy, sample1019.npy, sample102.npy, sample1020.npy, sample1021.npy, sample1022.npy, sample1023.npy, sample1024.npy, sample1025.npy, sample1026.npy, sample1027.npy, sample1028.npy, sample1029.npy, sample103.npy, sample1030.npy, sample1031.npy, sample1032.npy, sample1033.npy, sample1034.npy\n",
      " - sample1035.npy, sample1036.npy, sample1037.npy, sample1038.npy, sample1039.npy, sample104.npy, sample1040.npy, sample1041.npy, sample1042.npy, sample1043.npy, sample1044.npy, sample1045.npy, sample1046.npy, sample1047.npy, sample1048.npy, sample1049.npy, sample105.npy, sample1050.npy, sample1051.npy, sample1052.npy\n",
      " - sample1053.npy, sample1054.npy, sample1055.npy, sample1056.npy, sample1057.npy, sample1058.npy, sample1059.npy, sample106.npy, sample1060.npy, sample1061.npy, sample1062.npy, sample1063.npy, sample1064.npy, sample1065.npy, sample1066.npy, sample1067.npy, sample1068.npy, sample1069.npy, sample107.npy, sample1070.npy\n",
      " - sample1072.npy, sample1073.npy, sample1074.npy, sample1075.npy, sample1076.npy, sample1077.npy, sample1078.npy, sample1079.npy, sample108.npy, sample1080.npy, sample1081.npy, sample1082.npy, sample1083.npy, sample1084.npy, sample1085.npy, sample1086.npy, sample1087.npy, sample1088.npy, sample1089.npy, sample109.npy\n",
      " - sample1090.npy, sample1091.npy, sample1092.npy, sample1093.npy, sample1094.npy, sample1095.npy, sample1096.npy, sample1097.npy, sample1098.npy, sample1099.npy, sample11.npy, sample110.npy, sample1100.npy, sample1101.npy, sample1102.npy, sample1103.npy, sample1104.npy, sample1105.npy, sample1106.npy, sample1107.npy\n",
      " - sample1108.npy, sample1109.npy, sample111.npy, sample1110.npy, sample1111.npy, sample1112.npy, sample1113.npy, sample1114.npy, sample1115.npy, sample1116.npy, sample1117.npy, sample1118.npy, sample1119.npy, sample112.npy, sample1120.npy, sample1121.npy, sample1122.npy, sample1123.npy, sample1124.npy, sample1125.npy\n",
      " - sample1126.npy, sample1127.npy, sample1128.npy, sample1129.npy, sample113.npy, sample1130.npy, sample1131.npy, sample1132.npy, sample1133.npy, sample1134.npy, sample1135.npy, sample1136.npy, sample1137.npy, sample1139.npy, sample114.npy, sample1140.npy, sample1141.npy, sample1142.npy, sample1143.npy, sample1144.npy\n",
      " - sample1145.npy, sample1146.npy, sample1147.npy, sample1148.npy, sample1149.npy, sample115.npy, sample1150.npy, sample1151.npy, sample1152.npy, sample1153.npy, sample1154.npy, sample1155.npy, sample1156.npy, sample1157.npy, sample1158.npy, sample1159.npy, sample116.npy, sample1160.npy, sample1161.npy, sample1162.npy\n",
      " - sample1163.npy, sample1164.npy, sample1165.npy, sample1166.npy, sample1167.npy, sample1168.npy, sample1169.npy, sample117.npy, sample1170.npy, sample1171.npy, sample1172.npy, sample1173.npy, sample1174.npy, sample1175.npy, sample1176.npy, sample1177.npy, sample1178.npy, sample1179.npy, sample118.npy, sample1180.npy\n",
      " - sample1181.npy, sample1182.npy, sample1183.npy, sample1184.npy, sample1185.npy, sample1186.npy, sample1187.npy, sample1188.npy, sample1189.npy, sample119.npy, sample1190.npy, sample1191.npy, sample1192.npy, sample1193.npy, sample1194.npy, sample1195.npy, sample1196.npy, sample1197.npy, sample1198.npy, sample1199.npy\n",
      " - sample12.npy, sample120.npy, sample1200.npy, sample1201.npy, sample1202.npy, sample1203.npy, sample1204.npy, sample1206.npy, sample1207.npy, sample1208.npy, sample1209.npy, sample121.npy, sample1210.npy, sample1211.npy, sample1212.npy, sample1213.npy, sample1214.npy, sample1215.npy, sample1216.npy, sample1217.npy\n",
      " - sample1218.npy, sample1219.npy, sample122.npy, sample1220.npy, sample1221.npy, sample1222.npy, sample1223.npy, sample1224.npy, sample1225.npy, sample1226.npy, sample1227.npy, sample1228.npy, sample1229.npy, sample123.npy, sample1230.npy, sample1231.npy, sample1232.npy, sample1233.npy, sample1234.npy, sample1235.npy\n",
      " - sample1236.npy, sample1237.npy, sample1238.npy, sample1239.npy, sample124.npy, sample1240.npy, sample1241.npy, sample1242.npy, sample1243.npy, sample1244.npy, sample1245.npy, sample1246.npy, sample1247.npy, sample1248.npy, sample1249.npy, sample125.npy, sample1250.npy, sample1251.npy, sample1252.npy, sample1253.npy\n",
      " - sample1254.npy, sample1255.npy, sample1256.npy, sample1257.npy, sample1258.npy, sample1259.npy, sample126.npy, sample1260.npy, sample1261.npy, sample1262.npy, sample1263.npy, sample1264.npy, sample1265.npy, sample1266.npy, sample1267.npy, sample1268.npy, sample1269.npy, sample127.npy, sample1270.npy, sample1271.npy\n",
      " - sample1273.npy, sample1274.npy, sample1275.npy, sample1276.npy, sample1277.npy, sample1278.npy, sample1279.npy, sample128.npy, sample1280.npy, sample1281.npy, sample1282.npy, sample1283.npy, sample1284.npy, sample1285.npy, sample1286.npy, sample1287.npy, sample1288.npy, sample1289.npy, sample129.npy, sample1290.npy\n",
      " - sample1291.npy, sample1292.npy, sample1293.npy, sample1294.npy, sample1295.npy, sample1296.npy, sample1297.npy, sample1298.npy, sample1299.npy, sample13.npy, sample130.npy, sample1300.npy, sample1301.npy, sample1302.npy, sample1303.npy, sample1304.npy, sample1305.npy, sample1306.npy, sample1307.npy, sample1308.npy\n",
      " - sample1309.npy, sample131.npy, sample1310.npy, sample1311.npy, sample1312.npy, sample1313.npy, sample1314.npy, sample1315.npy, sample1316.npy, sample1317.npy, sample1318.npy, sample1319.npy, sample132.npy, sample1320.npy, sample1321.npy, sample1322.npy, sample1323.npy, sample1324.npy, sample1325.npy, sample1326.npy\n",
      " - sample1327.npy, sample1328.npy, sample1329.npy, sample1330.npy, sample1331.npy, sample1332.npy, sample1333.npy, sample1334.npy, sample1335.npy, sample1336.npy, sample1337.npy, sample1338.npy, sample134.npy, sample1340.npy, sample1341.npy, sample1342.npy, sample1343.npy, sample1344.npy, sample1345.npy, sample1346.npy\n",
      " - sample1347.npy, sample1348.npy, sample1349.npy, sample135.npy, sample1350.npy, sample1351.npy, sample1352.npy, sample1353.npy, sample1354.npy, sample1355.npy, sample1356.npy, sample1357.npy, sample1358.npy, sample1359.npy, sample136.npy, sample1360.npy, sample1361.npy, sample1362.npy, sample1363.npy, sample1364.npy\n",
      " - sample1365.npy, sample1366.npy, sample1367.npy, sample1368.npy, sample1369.npy, sample137.npy, sample1370.npy, sample1371.npy, sample1372.npy, sample1373.npy, sample1374.npy, sample1375.npy, sample1376.npy, sample1377.npy, sample1378.npy, sample1379.npy, sample138.npy, sample1380.npy, sample1381.npy, sample1382.npy\n",
      " - sample1383.npy, sample1384.npy, sample1385.npy, sample1386.npy, sample1387.npy, sample1388.npy, sample1389.npy, sample139.npy, sample1390.npy, sample1391.npy, sample1392.npy, sample1393.npy, sample1394.npy, sample1395.npy, sample1396.npy, sample1397.npy, sample1398.npy, sample1399.npy, sample14.npy, sample140.npy\n",
      " - sample1400.npy, sample1401.npy, sample1402.npy, sample1403.npy, sample1404.npy, sample1405.npy, sample1407.npy, sample1408.npy, sample1409.npy, sample141.npy, sample1410.npy, sample1411.npy, sample1412.npy, sample1413.npy, sample1414.npy, sample1415.npy, sample1416.npy, sample1417.npy, sample1418.npy, sample1419.npy\n",
      " - sample142.npy, sample1420.npy, sample1421.npy, sample1422.npy, sample1423.npy, sample1424.npy, sample1425.npy, sample1426.npy, sample1427.npy, sample1428.npy, sample1429.npy, sample143.npy, sample1430.npy, sample1431.npy, sample1432.npy, sample1433.npy, sample1434.npy, sample1435.npy, sample1436.npy, sample1437.npy\n",
      " - sample1438.npy, sample1439.npy, sample144.npy, sample1440.npy, sample1441.npy, sample1442.npy, sample1443.npy, sample1444.npy, sample1445.npy, sample1446.npy, sample1447.npy, sample1448.npy, sample1449.npy, sample145.npy, sample1450.npy, sample1451.npy, sample1452.npy, sample1453.npy, sample1454.npy, sample1455.npy\n",
      " - sample1456.npy, sample1457.npy, sample1458.npy, sample1459.npy, sample146.npy, sample1460.npy, sample1461.npy, sample1462.npy, sample1463.npy, sample1464.npy, sample1465.npy, sample1466.npy, sample1467.npy, sample1468.npy, sample1469.npy, sample147.npy, sample1470.npy, sample1471.npy, sample1472.npy, sample1474.npy\n",
      " - sample1475.npy, sample1476.npy, sample1477.npy, sample1478.npy, sample1479.npy, sample148.npy, sample1480.npy, sample1481.npy, sample1482.npy, sample1483.npy, sample1484.npy, sample1485.npy, sample1486.npy, sample1487.npy, sample1488.npy, sample1489.npy, sample149.npy, sample1490.npy, sample1491.npy, sample1492.npy\n",
      " - sample1493.npy, sample1494.npy, sample1495.npy, sample1496.npy, sample1497.npy, sample1498.npy, sample1499.npy, sample15.npy, sample150.npy, sample1500.npy, sample1501.npy, sample1502.npy, sample1503.npy, sample1504.npy, sample1505.npy, sample1506.npy, sample1507.npy, sample1508.npy, sample1509.npy, sample151.npy\n",
      " - sample1510.npy, sample1511.npy, sample1512.npy, sample1513.npy, sample1514.npy, sample1515.npy, sample1516.npy, sample1517.npy, sample1518.npy, sample1519.npy, sample152.npy, sample1520.npy, sample1521.npy, sample1522.npy, sample1523.npy, sample1524.npy, sample1525.npy, sample1526.npy, sample1527.npy, sample1528.npy\n",
      " - sample1529.npy, sample153.npy, sample1530.npy, sample1531.npy, sample1532.npy, sample1533.npy, sample1534.npy, sample1535.npy, sample1536.npy, sample1537.npy, sample1538.npy, sample1539.npy, sample154.npy, sample1541.npy, sample1542.npy, sample1543.npy, sample1544.npy, sample1545.npy, sample1546.npy, sample1547.npy\n",
      " - sample1548.npy, sample1549.npy, sample155.npy, sample1550.npy, sample1551.npy, sample1552.npy, sample1553.npy, sample1554.npy, sample1555.npy, sample1556.npy, sample1557.npy, sample1558.npy, sample1559.npy, sample156.npy, sample1560.npy, sample1561.npy, sample1562.npy, sample1563.npy, sample1564.npy, sample1565.npy\n",
      " - sample1566.npy, sample1567.npy, sample1568.npy, sample1569.npy, sample157.npy, sample1570.npy, sample1571.npy, sample1572.npy, sample1573.npy, sample1574.npy, sample1575.npy, sample1576.npy, sample1577.npy, sample1578.npy, sample1579.npy, sample158.npy, sample1580.npy, sample1581.npy, sample1582.npy, sample1583.npy\n",
      " - sample1584.npy, sample1585.npy, sample1586.npy, sample1587.npy, sample1588.npy, sample1589.npy, sample159.npy, sample1590.npy, sample1591.npy, sample1592.npy, sample1593.npy, sample1594.npy, sample1595.npy, sample1596.npy, sample1597.npy, sample1598.npy, sample1599.npy, sample16.npy, sample160.npy, sample1600.npy\n",
      " - sample1601.npy, sample1602.npy, sample1603.npy, sample1604.npy, sample1605.npy, sample1606.npy, sample1608.npy, sample1609.npy, sample161.npy, sample1610.npy, sample1611.npy, sample1612.npy, sample1613.npy, sample1614.npy, sample1615.npy, sample1616.npy, sample1617.npy, sample1618.npy, sample1619.npy, sample162.npy\n",
      " - sample1620.npy, sample1621.npy, sample1622.npy, sample1623.npy, sample1624.npy, sample1625.npy, sample1626.npy, sample1627.npy, sample1628.npy, sample1629.npy, sample163.npy, sample1630.npy, sample1631.npy, sample1632.npy, sample1633.npy, sample1634.npy, sample1635.npy, sample1636.npy, sample1637.npy, sample1638.npy\n",
      " - sample1639.npy, sample164.npy, sample1640.npy, sample1641.npy, sample1642.npy, sample1643.npy, sample1644.npy, sample1645.npy, sample1646.npy, sample1647.npy, sample1648.npy, sample1649.npy, sample165.npy, sample1650.npy, sample1651.npy, sample1652.npy, sample1653.npy, sample1654.npy, sample1655.npy, sample1656.npy\n",
      " - sample1657.npy, sample1658.npy, sample1659.npy, sample166.npy, sample1660.npy, sample1661.npy, sample1662.npy, sample1663.npy, sample1664.npy, sample1665.npy, sample1666.npy, sample1667.npy, sample1668.npy, sample1669.npy, sample167.npy, sample1670.npy, sample1671.npy, sample1672.npy, sample1673.npy, sample1675.npy\n",
      " - sample1676.npy, sample1677.npy, sample1678.npy, sample1679.npy, sample168.npy, sample1680.npy, sample1681.npy, sample1682.npy, sample1683.npy, sample1684.npy, sample1685.npy, sample1686.npy, sample1687.npy, sample1688.npy, sample1689.npy, sample169.npy, sample1690.npy, sample1691.npy, sample1692.npy, sample1693.npy\n",
      " - sample1694.npy, sample1695.npy, sample1696.npy, sample1697.npy, sample1698.npy, sample1699.npy, sample17.npy, sample170.npy, sample1700.npy, sample1701.npy, sample1702.npy, sample1703.npy, sample1704.npy, sample1705.npy, sample1706.npy, sample1707.npy, sample1708.npy, sample1709.npy, sample171.npy, sample1710.npy\n",
      " - sample1711.npy, sample1712.npy, sample1713.npy, sample1714.npy, sample1715.npy, sample1716.npy, sample1717.npy, sample1718.npy, sample1719.npy, sample172.npy, sample1720.npy, sample1721.npy, sample1722.npy, sample1723.npy, sample1724.npy, sample1725.npy, sample1726.npy, sample1727.npy, sample1728.npy, sample1729.npy\n",
      " - sample173.npy, sample1730.npy, sample1731.npy, sample1732.npy, sample1733.npy, sample1734.npy, sample1735.npy, sample1736.npy, sample1737.npy, sample1738.npy, sample1739.npy, sample174.npy, sample1740.npy, sample1742.npy, sample1743.npy, sample1744.npy, sample1745.npy, sample1746.npy, sample1747.npy, sample1748.npy\n",
      " - sample1749.npy, sample175.npy, sample1750.npy, sample1751.npy, sample1752.npy, sample1753.npy, sample1754.npy, sample1755.npy, sample1756.npy, sample1757.npy, sample1758.npy, sample1759.npy, sample176.npy, sample1760.npy, sample1761.npy, sample1762.npy, sample1763.npy, sample1764.npy, sample1765.npy, sample1766.npy\n",
      " - sample1767.npy, sample1768.npy, sample1769.npy, sample177.npy, sample1770.npy, sample1771.npy, sample1772.npy, sample1773.npy, sample1774.npy, sample1775.npy, sample1776.npy, sample1777.npy, sample1778.npy, sample1779.npy, sample178.npy, sample1780.npy, sample1781.npy, sample1782.npy, sample1783.npy, sample1784.npy\n",
      " - sample1785.npy, sample1786.npy, sample1787.npy, sample1788.npy, sample1789.npy, sample179.npy, sample1790.npy, sample1791.npy, sample1792.npy, sample1793.npy, sample1794.npy, sample1795.npy, sample1796.npy, sample1797.npy, sample1798.npy, sample1799.npy, sample18.npy, sample180.npy, sample1800.npy, sample1801.npy\n",
      " - sample1802.npy, sample1803.npy, sample1804.npy, sample1805.npy, sample1806.npy, sample1807.npy, sample1809.npy, sample181.npy, sample1810.npy, sample1811.npy, sample1812.npy, sample1813.npy, sample1814.npy, sample1815.npy, sample1816.npy, sample1817.npy, sample1818.npy, sample1819.npy, sample182.npy, sample1820.npy\n",
      " - sample1821.npy, sample1822.npy, sample1823.npy, sample1824.npy, sample1825.npy, sample1826.npy, sample1827.npy, sample1828.npy, sample1829.npy, sample183.npy, sample1830.npy, sample1831.npy, sample1832.npy, sample1833.npy, sample1834.npy, sample1835.npy, sample1836.npy, sample1837.npy, sample1838.npy, sample1839.npy\n",
      " - sample184.npy, sample1840.npy, sample1841.npy, sample1842.npy, sample1843.npy, sample1844.npy, sample1845.npy, sample1846.npy, sample1847.npy, sample1848.npy, sample1849.npy, sample185.npy, sample1850.npy, sample1851.npy, sample1852.npy, sample1853.npy, sample1854.npy, sample1855.npy, sample1856.npy, sample1857.npy\n",
      " - sample1858.npy, sample1859.npy, sample186.npy, sample1860.npy, sample1861.npy, sample1862.npy, sample1863.npy, sample1864.npy, sample1865.npy, sample1866.npy, sample1867.npy, sample1868.npy, sample1869.npy, sample187.npy, sample1870.npy, sample1871.npy, sample1872.npy, sample1873.npy, sample1874.npy, sample1876.npy\n",
      " - sample1877.npy, sample1878.npy, sample1879.npy, sample188.npy, sample1880.npy, sample1881.npy, sample1882.npy, sample1883.npy, sample1884.npy, sample1885.npy, sample1886.npy, sample1887.npy, sample1888.npy, sample1889.npy, sample189.npy, sample1890.npy, sample1891.npy, sample1892.npy, sample1893.npy, sample1894.npy\n",
      " - sample1895.npy, sample1896.npy, sample1897.npy, sample1898.npy, sample1899.npy, sample19.npy, sample190.npy, sample1900.npy, sample1901.npy, sample1902.npy, sample1903.npy, sample1904.npy, sample1905.npy, sample1906.npy, sample1907.npy, sample1908.npy, sample1909.npy, sample191.npy, sample1910.npy, sample1911.npy\n",
      " - sample1912.npy, sample1913.npy, sample1914.npy, sample1915.npy, sample1916.npy, sample1917.npy, sample1918.npy, sample1919.npy, sample192.npy, sample1920.npy, sample1921.npy, sample1922.npy, sample1923.npy, sample1924.npy, sample1925.npy, sample1926.npy, sample1927.npy, sample1928.npy, sample1929.npy, sample193.npy\n",
      " - sample1930.npy, sample1931.npy, sample1932.npy, sample1933.npy, sample1934.npy, sample1935.npy, sample1936.npy, sample1937.npy, sample1938.npy, sample1939.npy, sample194.npy, sample1940.npy, sample1941.npy, sample1943.npy, sample1944.npy, sample1945.npy, sample1946.npy, sample1947.npy, sample1948.npy, sample1949.npy\n",
      " - sample195.npy, sample1950.npy, sample1951.npy, sample1952.npy, sample1953.npy, sample1954.npy, sample1955.npy, sample1956.npy, sample1957.npy, sample1958.npy, sample1959.npy, sample196.npy, sample1960.npy, sample1961.npy, sample1962.npy, sample1963.npy, sample1964.npy, sample1965.npy, sample1966.npy, sample1967.npy\n",
      " - sample1968.npy, sample1969.npy, sample197.npy, sample1970.npy, sample1971.npy, sample1972.npy, sample1973.npy, sample1974.npy, sample1975.npy, sample1976.npy, sample1977.npy, sample1978.npy, sample1979.npy, sample198.npy, sample1980.npy, sample1981.npy, sample1982.npy, sample1983.npy, sample1984.npy, sample1985.npy\n",
      " - sample1986.npy, sample1987.npy, sample1988.npy, sample1989.npy, sample199.npy, sample1990.npy, sample1991.npy, sample1992.npy, sample1993.npy, sample1994.npy, sample1995.npy, sample1996.npy, sample1997.npy, sample1998.npy, sample1999.npy, sample2.npy, sample20.npy, sample2000.npy, sample2001.npy, sample2002.npy\n",
      " - sample2003.npy, sample2004.npy, sample2005.npy, sample2006.npy, sample2007.npy, sample2008.npy, sample201.npy, sample2010.npy, sample2011.npy, sample2012.npy, sample2013.npy, sample2014.npy, sample2015.npy, sample2016.npy, sample2017.npy, sample2018.npy, sample2019.npy, sample202.npy, sample2020.npy, sample2021.npy\n",
      " - sample2022.npy, sample2023.npy, sample2024.npy, sample2025.npy, sample2026.npy, sample2027.npy, sample2028.npy, sample2029.npy, sample203.npy, sample2030.npy, sample2031.npy, sample2032.npy, sample2033.npy, sample2034.npy, sample2035.npy, sample2036.npy, sample2037.npy, sample2038.npy, sample2039.npy, sample204.npy\n",
      " - sample2040.npy, sample2041.npy, sample2042.npy, sample2043.npy, sample2044.npy, sample2045.npy, sample2046.npy, sample2047.npy, sample2048.npy, sample2049.npy, sample205.npy, sample2050.npy, sample2051.npy, sample2052.npy, sample2053.npy, sample2054.npy, sample2055.npy, sample2056.npy, sample2057.npy, sample2058.npy\n",
      " - sample2059.npy, sample206.npy, sample2060.npy, sample2061.npy, sample2062.npy, sample2063.npy, sample2064.npy, sample2065.npy, sample2066.npy, sample2067.npy, sample2068.npy, sample2069.npy, sample207.npy, sample2070.npy, sample2071.npy, sample2072.npy, sample2073.npy, sample2074.npy, sample2075.npy, sample2077.npy\n",
      " - sample2078.npy, sample2079.npy, sample208.npy, sample2080.npy, sample2081.npy, sample2082.npy, sample2083.npy, sample2084.npy, sample2085.npy, sample2086.npy, sample2087.npy, sample2088.npy, sample2089.npy, sample209.npy, sample2090.npy, sample2091.npy, sample2092.npy, sample2093.npy, sample2094.npy, sample2095.npy\n",
      " - sample2096.npy, sample2097.npy, sample2098.npy, sample2099.npy, sample21.npy, sample210.npy, sample2100.npy, sample2101.npy, sample2102.npy, sample2103.npy, sample2104.npy, sample2105.npy, sample2106.npy, sample2107.npy, sample2108.npy, sample2109.npy, sample211.npy, sample2110.npy, sample2111.npy, sample2112.npy\n",
      " - sample2113.npy, sample2114.npy, sample2115.npy, sample2116.npy, sample2117.npy, sample2118.npy, sample2119.npy, sample212.npy, sample2120.npy, sample2121.npy, sample2122.npy, sample2123.npy, sample2124.npy, sample2125.npy, sample2126.npy, sample2127.npy, sample2128.npy, sample2129.npy, sample213.npy, sample2130.npy\n",
      " - sample2131.npy, sample2132.npy, sample2133.npy, sample2134.npy, sample2135.npy, sample2136.npy, sample2137.npy, sample2138.npy, sample2139.npy, sample214.npy, sample2140.npy, sample2141.npy, sample2142.npy, sample2144.npy, sample2145.npy, sample2146.npy, sample2147.npy, sample2148.npy, sample2149.npy, sample215.npy\n",
      " - sample2150.npy, sample2151.npy, sample2152.npy, sample2153.npy, sample2154.npy, sample2155.npy, sample2156.npy, sample2157.npy, sample2158.npy, sample2159.npy, sample216.npy, sample2160.npy, sample2161.npy, sample2162.npy, sample2163.npy, sample2164.npy, sample2165.npy, sample2166.npy, sample2167.npy, sample2168.npy\n",
      " - sample2169.npy, sample217.npy, sample2170.npy, sample2171.npy, sample2172.npy, sample2173.npy, sample2174.npy, sample2175.npy, sample2176.npy, sample2177.npy, sample2178.npy, sample2179.npy, sample218.npy, sample2180.npy, sample2181.npy, sample2182.npy, sample2183.npy, sample2184.npy, sample2185.npy, sample2186.npy\n",
      " - sample2187.npy, sample2188.npy, sample2189.npy, sample219.npy, sample2190.npy, sample2191.npy, sample2192.npy, sample2193.npy, sample2194.npy, sample2195.npy, sample2196.npy, sample2197.npy, sample2198.npy, sample2199.npy, sample22.npy, sample220.npy, sample2200.npy, sample2201.npy, sample2202.npy, sample2203.npy\n",
      " - sample2204.npy, sample2205.npy, sample2206.npy, sample2207.npy, sample2208.npy, sample2209.npy, sample221.npy, sample2211.npy, sample2212.npy, sample2213.npy, sample2214.npy, sample2215.npy, sample2216.npy, sample2217.npy, sample2218.npy, sample2219.npy, sample222.npy, sample2220.npy, sample2221.npy, sample2222.npy\n",
      " - sample2223.npy, sample2224.npy, sample2225.npy, sample2226.npy, sample2227.npy, sample2228.npy, sample2229.npy, sample223.npy, sample2230.npy, sample2231.npy, sample2232.npy, sample2233.npy, sample2234.npy, sample2235.npy, sample2236.npy, sample2237.npy, sample2238.npy, sample2239.npy, sample224.npy, sample2240.npy\n",
      " - sample2241.npy, sample2242.npy, sample2243.npy, sample2244.npy, sample2245.npy, sample2246.npy, sample2247.npy, sample2248.npy, sample2249.npy, sample225.npy, sample2250.npy, sample2251.npy, sample2252.npy, sample2253.npy, sample2254.npy, sample2255.npy, sample2256.npy, sample2257.npy, sample2258.npy, sample2259.npy\n",
      " - sample226.npy, sample2260.npy, sample2261.npy, sample2262.npy, sample2263.npy, sample2264.npy, sample2265.npy, sample2266.npy, sample2267.npy, sample2268.npy, sample2269.npy, sample227.npy, sample2270.npy, sample2271.npy, sample2272.npy, sample2273.npy, sample2274.npy, sample2275.npy, sample2276.npy, sample2278.npy\n",
      " - sample2279.npy, sample228.npy, sample2280.npy, sample2281.npy, sample2282.npy, sample2283.npy, sample2284.npy, sample2285.npy, sample2286.npy, sample2287.npy, sample2288.npy, sample2289.npy, sample229.npy, sample2290.npy, sample2291.npy, sample2292.npy, sample2293.npy, sample2294.npy, sample2295.npy, sample2296.npy\n",
      " - sample2297.npy, sample2298.npy, sample2299.npy, sample23.npy, sample230.npy, sample2300.npy, sample2301.npy, sample2302.npy, sample2303.npy, sample2304.npy, sample2305.npy, sample2306.npy, sample2307.npy, sample2308.npy, sample2309.npy, sample231.npy, sample2310.npy, sample2311.npy, sample2312.npy, sample2313.npy\n",
      " - sample2314.npy, sample2315.npy, sample2316.npy, sample2317.npy, sample2318.npy, sample2319.npy, sample232.npy, sample2320.npy, sample2321.npy, sample2322.npy, sample2323.npy, sample2324.npy, sample2325.npy, sample2326.npy, sample2327.npy, sample2328.npy, sample2329.npy, sample233.npy, sample2330.npy, sample2331.npy\n",
      " - sample2332.npy, sample2333.npy, sample2334.npy, sample2335.npy, sample2336.npy, sample2337.npy, sample2338.npy, sample2339.npy, sample234.npy, sample2340.npy, sample2341.npy, sample2342.npy, sample2343.npy, sample2345.npy, sample2346.npy, sample2347.npy, sample2348.npy, sample2349.npy, sample235.npy, sample2350.npy\n",
      " - sample2351.npy, sample2352.npy, sample2353.npy, sample2354.npy, sample2355.npy, sample2356.npy, sample2357.npy, sample2358.npy, sample2359.npy, sample236.npy, sample2360.npy, sample2361.npy, sample2362.npy, sample2363.npy, sample2364.npy, sample2365.npy, sample2366.npy, sample2367.npy, sample2368.npy, sample2369.npy\n",
      " - sample237.npy, sample2370.npy, sample2371.npy, sample2372.npy, sample2373.npy, sample2374.npy, sample2375.npy, sample2376.npy, sample2377.npy, sample2378.npy, sample2379.npy, sample238.npy, sample2380.npy, sample2381.npy, sample2382.npy, sample2383.npy, sample2384.npy, sample2385.npy, sample2386.npy, sample2387.npy\n",
      " - sample2388.npy, sample2389.npy, sample239.npy, sample2390.npy, sample2391.npy, sample2392.npy, sample2393.npy, sample2394.npy, sample2395.npy, sample2396.npy, sample2397.npy, sample2398.npy, sample2399.npy, sample24.npy, sample240.npy, sample2400.npy, sample2401.npy, sample2402.npy, sample2403.npy, sample2404.npy\n",
      " - sample2405.npy, sample2406.npy, sample2407.npy, sample2408.npy, sample2409.npy, sample241.npy, sample2410.npy, sample2412.npy, sample2413.npy, sample2414.npy, sample2415.npy, sample2416.npy, sample2417.npy, sample2418.npy, sample2419.npy, sample242.npy, sample2420.npy, sample2421.npy, sample2422.npy, sample2423.npy\n",
      " - sample2424.npy, sample2425.npy, sample2426.npy, sample2427.npy, sample2428.npy, sample2429.npy, sample243.npy, sample2430.npy, sample2431.npy, sample2432.npy, sample2433.npy, sample2434.npy, sample2435.npy, sample2436.npy, sample2437.npy, sample2438.npy, sample2439.npy, sample244.npy, sample2440.npy, sample2441.npy\n",
      " - sample2442.npy, sample2443.npy, sample2444.npy, sample2445.npy, sample2446.npy, sample2447.npy, sample2448.npy, sample2449.npy, sample245.npy, sample2450.npy, sample2452.npy, sample2453.npy, sample2454.npy, sample2455.npy, sample2456.npy, sample2457.npy, sample2458.npy, sample2459.npy, sample246.npy, sample2460.npy\n",
      " - sample2461.npy, sample2462.npy, sample2463.npy, sample2464.npy, sample2465.npy, sample2466.npy, sample2467.npy, sample2468.npy, sample2469.npy, sample247.npy, sample2470.npy, sample2471.npy, sample2472.npy, sample2473.npy, sample2474.npy, sample2475.npy, sample2476.npy, sample2477.npy, sample2478.npy, sample2479.npy\n",
      " - sample248.npy, sample2480.npy, sample2481.npy, sample2482.npy, sample2483.npy, sample2484.npy, sample2485.npy, sample2486.npy, sample2487.npy, sample2488.npy, sample2489.npy, sample249.npy, sample2490.npy, sample2491.npy, sample2492.npy, sample2493.npy, sample2494.npy, sample2495.npy, sample2496.npy, sample2497.npy\n",
      " - sample2498.npy, sample2499.npy, sample25.npy, sample250.npy, sample2500.npy, sample2501.npy, sample2502.npy, sample2503.npy, sample2504.npy, sample2505.npy, sample2506.npy, sample2507.npy, sample2508.npy, sample2509.npy, sample251.npy, sample2510.npy, sample2511.npy, sample2512.npy, sample2513.npy, sample2514.npy\n",
      " - sample2515.npy, sample2516.npy, sample2517.npy, sample2518.npy, sample2519.npy, sample252.npy, sample2521.npy, sample2522.npy, sample2523.npy, sample2524.npy, sample2525.npy, sample2526.npy, sample2527.npy, sample2528.npy, sample2529.npy, sample253.npy, sample2530.npy, sample2531.npy, sample2532.npy, sample2533.npy\n",
      " - sample2534.npy, sample2535.npy, sample2536.npy, sample2537.npy, sample2538.npy, sample2539.npy, sample254.npy, sample2540.npy, sample2541.npy, sample2542.npy, sample2543.npy, sample2544.npy, sample2545.npy, sample2546.npy, sample2547.npy, sample2548.npy, sample2549.npy, sample255.npy, sample2550.npy, sample2551.npy\n",
      " - sample2552.npy, sample2553.npy, sample2554.npy, sample2555.npy, sample2556.npy, sample2557.npy, sample2558.npy, sample2559.npy, sample256.npy, sample2560.npy, sample2561.npy, sample2562.npy, sample2563.npy, sample2564.npy, sample2565.npy, sample2566.npy, sample2567.npy, sample2568.npy, sample2569.npy, sample257.npy\n",
      " - sample2570.npy, sample2571.npy, sample2572.npy, sample2573.npy, sample2574.npy, sample2575.npy, sample2576.npy, sample2577.npy, sample2578.npy, sample2579.npy, sample258.npy, sample2580.npy, sample2581.npy, sample2582.npy, sample2583.npy, sample2584.npy, sample2585.npy, sample2586.npy, sample2588.npy, sample2589.npy\n",
      " - sample259.npy, sample2590.npy, sample2591.npy, sample2592.npy, sample2593.npy, sample2594.npy, sample2595.npy, sample2596.npy, sample2597.npy, sample2598.npy, sample2599.npy, sample26.npy, sample260.npy, sample2600.npy, sample2601.npy, sample2602.npy, sample2603.npy, sample2604.npy, sample2605.npy, sample2606.npy\n",
      " - sample2607.npy, sample2608.npy, sample2609.npy, sample261.npy, sample2610.npy, sample2611.npy, sample2612.npy, sample2613.npy, sample2614.npy, sample2615.npy, sample2616.npy, sample2617.npy, sample2618.npy, sample2619.npy, sample262.npy, sample2620.npy, sample2621.npy, sample2622.npy, sample2623.npy, sample2624.npy\n",
      " - sample2625.npy, sample2626.npy, sample2627.npy, sample2628.npy, sample2629.npy, sample263.npy, sample2630.npy, sample2631.npy, sample2632.npy, sample2633.npy, sample2634.npy, sample2635.npy, sample2636.npy, sample2637.npy, sample2638.npy, sample2639.npy, sample264.npy, sample2640.npy, sample2641.npy, sample2642.npy\n",
      " - sample2643.npy, sample2644.npy, sample2645.npy, sample2646.npy, sample2647.npy, sample2648.npy, sample2649.npy, sample265.npy, sample2650.npy, sample2651.npy, sample2652.npy, sample2653.npy, sample2655.npy, sample2656.npy, sample2657.npy, sample2658.npy, sample2659.npy, sample266.npy, sample2660.npy, sample2661.npy\n",
      " - sample2662.npy, sample2663.npy, sample2664.npy, sample2665.npy, sample2666.npy, sample2667.npy, sample2668.npy, sample2669.npy, sample2670.npy, sample2671.npy, sample2672.npy, sample2673.npy, sample2674.npy, sample2675.npy, sample2676.npy, sample2677.npy, sample2678.npy, sample2679.npy, sample268.npy, sample2680.npy\n",
      " - sample2681.npy, sample2682.npy, sample2683.npy, sample2684.npy, sample2685.npy, sample2686.npy, sample2687.npy, sample2688.npy, sample2689.npy, sample269.npy, sample2690.npy, sample2691.npy, sample2692.npy, sample2693.npy, sample2694.npy, sample2695.npy, sample2696.npy, sample2697.npy, sample2698.npy, sample2699.npy\n",
      " - sample27.npy, sample270.npy, sample2700.npy, sample2701.npy, sample2702.npy, sample2703.npy, sample2704.npy, sample2705.npy, sample2706.npy, sample2707.npy, sample2708.npy, sample2709.npy, sample271.npy, sample2710.npy, sample2711.npy, sample2712.npy, sample2713.npy, sample2714.npy, sample2715.npy, sample2716.npy\n",
      " - sample2717.npy, sample2718.npy, sample2719.npy, sample272.npy, sample2720.npy, sample2722.npy, sample273.npy, sample274.npy, sample275.npy, sample276.npy, sample277.npy, sample278.npy, sample279.npy, sample28.npy, sample280.npy, sample281.npy, sample282.npy, sample283.npy, sample284.npy, sample285.npy\n",
      " - sample286.npy, sample287.npy, sample288.npy, sample289.npy, sample29.npy, sample290.npy, sample291.npy, sample292.npy, sample293.npy, sample294.npy, sample295.npy, sample296.npy, sample297.npy, sample298.npy, sample299.npy, sample3.npy, sample30.npy, sample300.npy, sample301.npy, sample302.npy\n",
      " - sample303.npy, sample304.npy, sample305.npy, sample306.npy, sample307.npy, sample308.npy, sample309.npy, sample31.npy, sample310.npy, sample311.npy, sample312.npy, sample313.npy, sample314.npy, sample315.npy, sample316.npy, sample317.npy, sample318.npy, sample319.npy, sample32.npy, sample320.npy\n",
      " - sample321.npy, sample322.npy, sample323.npy, sample324.npy, sample325.npy, sample326.npy, sample327.npy, sample328.npy, sample329.npy, sample33.npy, sample330.npy, sample331.npy, sample332.npy, sample333.npy, sample335.npy, sample336.npy, sample337.npy, sample338.npy, sample339.npy, sample34.npy\n",
      " - sample340.npy, sample341.npy, sample342.npy, sample343.npy, sample344.npy, sample345.npy, sample346.npy, sample347.npy, sample348.npy, sample349.npy, sample35.npy, sample350.npy, sample351.npy, sample352.npy, sample353.npy, sample354.npy, sample355.npy, sample356.npy, sample357.npy, sample358.npy\n",
      " - sample359.npy, sample36.npy, sample360.npy, sample361.npy, sample362.npy, sample363.npy, sample364.npy, sample365.npy, sample366.npy, sample367.npy, sample368.npy, sample369.npy, sample37.npy, sample370.npy, sample371.npy, sample372.npy, sample373.npy, sample374.npy, sample375.npy, sample376.npy\n",
      " - sample377.npy, sample378.npy, sample379.npy, sample38.npy, sample380.npy, sample381.npy, sample382.npy, sample383.npy, sample384.npy, sample385.npy, sample386.npy, sample387.npy, sample388.npy, sample389.npy, sample39.npy, sample390.npy, sample391.npy, sample392.npy, sample393.npy, sample394.npy\n",
      " - sample395.npy, sample396.npy, sample397.npy, sample398.npy, sample399.npy, sample4.npy, sample40.npy, sample400.npy, sample402.npy, sample403.npy, sample404.npy, sample405.npy, sample406.npy, sample407.npy, sample408.npy, sample409.npy, sample41.npy, sample410.npy, sample411.npy, sample412.npy\n",
      " - sample413.npy, sample414.npy, sample415.npy, sample416.npy, sample417.npy, sample418.npy, sample419.npy, sample42.npy, sample420.npy, sample421.npy, sample422.npy, sample423.npy, sample424.npy, sample425.npy, sample426.npy, sample427.npy, sample428.npy, sample429.npy, sample43.npy, sample430.npy\n",
      " - sample431.npy, sample432.npy, sample433.npy, sample434.npy, sample435.npy, sample436.npy, sample437.npy, sample438.npy, sample439.npy, sample44.npy, sample440.npy, sample441.npy, sample442.npy, sample443.npy, sample444.npy, sample445.npy, sample446.npy, sample447.npy, sample448.npy, sample449.npy\n",
      " - sample45.npy, sample450.npy, sample451.npy, sample452.npy, sample453.npy, sample454.npy, sample455.npy, sample456.npy, sample457.npy, sample458.npy, sample459.npy, sample46.npy, sample460.npy, sample461.npy, sample462.npy, sample463.npy, sample464.npy, sample465.npy, sample466.npy, sample467.npy\n",
      " - sample469.npy, sample47.npy, sample470.npy, sample471.npy, sample472.npy, sample473.npy, sample474.npy, sample475.npy, sample476.npy, sample477.npy, sample478.npy, sample479.npy, sample48.npy, sample480.npy, sample481.npy, sample482.npy, sample483.npy, sample484.npy, sample485.npy, sample486.npy\n",
      " - sample487.npy, sample488.npy, sample489.npy, sample49.npy, sample490.npy, sample491.npy, sample492.npy, sample493.npy, sample494.npy, sample495.npy, sample496.npy, sample497.npy, sample498.npy, sample499.npy, sample5.npy, sample50.npy, sample500.npy, sample501.npy, sample502.npy, sample503.npy\n",
      " - sample504.npy, sample505.npy, sample506.npy, sample507.npy, sample508.npy, sample509.npy, sample51.npy, sample510.npy, sample511.npy, sample512.npy, sample513.npy, sample514.npy, sample515.npy, sample516.npy, sample517.npy, sample518.npy, sample519.npy, sample52.npy, sample520.npy, sample521.npy\n",
      " - sample522.npy, sample523.npy, sample524.npy, sample525.npy, sample526.npy, sample527.npy, sample528.npy, sample529.npy, sample53.npy, sample530.npy, sample531.npy, sample532.npy, sample533.npy, sample534.npy, sample536.npy, sample537.npy, sample538.npy, sample539.npy, sample54.npy, sample540.npy\n",
      " - sample541.npy, sample542.npy, sample543.npy, sample544.npy, sample545.npy, sample546.npy, sample547.npy, sample548.npy, sample549.npy, sample55.npy, sample550.npy, sample551.npy, sample552.npy, sample553.npy, sample554.npy, sample555.npy, sample556.npy, sample557.npy, sample558.npy, sample559.npy\n",
      " - sample56.npy, sample560.npy, sample561.npy, sample562.npy, sample563.npy, sample564.npy, sample565.npy, sample566.npy, sample567.npy, sample568.npy, sample569.npy, sample57.npy, sample570.npy, sample571.npy, sample572.npy, sample573.npy, sample574.npy, sample575.npy, sample576.npy, sample577.npy\n",
      " - sample578.npy, sample579.npy, sample58.npy, sample580.npy, sample581.npy, sample582.npy, sample583.npy, sample584.npy, sample585.npy, sample586.npy, sample587.npy, sample588.npy, sample589.npy, sample59.npy, sample590.npy, sample591.npy, sample592.npy, sample593.npy, sample594.npy, sample595.npy\n",
      " - sample596.npy, sample597.npy, sample598.npy, sample599.npy, sample6.npy, sample60.npy, sample600.npy, sample601.npy, sample603.npy, sample604.npy, sample605.npy, sample606.npy, sample607.npy, sample608.npy, sample609.npy, sample61.npy, sample610.npy, sample611.npy, sample612.npy, sample613.npy\n",
      " - sample614.npy, sample615.npy, sample616.npy, sample617.npy, sample618.npy, sample619.npy, sample62.npy, sample620.npy, sample621.npy, sample622.npy, sample623.npy, sample624.npy, sample625.npy, sample626.npy, sample627.npy, sample628.npy, sample629.npy, sample63.npy, sample630.npy, sample631.npy\n",
      " - sample632.npy, sample633.npy, sample634.npy, sample635.npy, sample636.npy, sample637.npy, sample638.npy, sample639.npy, sample64.npy, sample640.npy, sample641.npy, sample642.npy, sample643.npy, sample644.npy, sample645.npy, sample646.npy, sample647.npy, sample648.npy, sample649.npy, sample65.npy\n",
      " - sample650.npy, sample651.npy, sample652.npy, sample653.npy, sample654.npy, sample655.npy, sample656.npy, sample657.npy, sample658.npy, sample659.npy, sample660.npy, sample661.npy, sample662.npy, sample663.npy, sample664.npy, sample665.npy, sample666.npy, sample667.npy, sample668.npy, sample67.npy\n",
      " - sample670.npy, sample671.npy, sample672.npy, sample673.npy, sample674.npy, sample675.npy, sample676.npy, sample677.npy, sample678.npy, sample679.npy, sample68.npy, sample680.npy, sample681.npy, sample682.npy, sample683.npy, sample684.npy, sample685.npy, sample686.npy, sample687.npy, sample688.npy\n",
      " - sample689.npy, sample69.npy, sample690.npy, sample691.npy, sample692.npy, sample693.npy, sample694.npy, sample695.npy, sample696.npy, sample697.npy, sample698.npy, sample699.npy, sample7.npy, sample70.npy, sample700.npy, sample701.npy, sample702.npy, sample703.npy, sample704.npy, sample705.npy\n",
      " - sample706.npy, sample707.npy, sample708.npy, sample709.npy, sample71.npy, sample710.npy, sample711.npy, sample712.npy, sample713.npy, sample714.npy, sample715.npy, sample716.npy, sample717.npy, sample718.npy, sample719.npy, sample72.npy, sample720.npy, sample721.npy, sample722.npy, sample723.npy\n",
      " - sample724.npy, sample725.npy, sample726.npy, sample727.npy, sample728.npy, sample729.npy, sample73.npy, sample730.npy, sample731.npy, sample732.npy, sample733.npy, sample734.npy, sample735.npy, sample737.npy, sample738.npy, sample739.npy, sample74.npy, sample740.npy, sample741.npy, sample742.npy\n",
      " - sample743.npy, sample744.npy, sample745.npy, sample746.npy, sample747.npy, sample748.npy, sample749.npy, sample75.npy, sample750.npy, sample751.npy, sample752.npy, sample753.npy, sample754.npy, sample755.npy, sample756.npy, sample757.npy, sample758.npy, sample759.npy, sample76.npy, sample760.npy\n",
      " - sample761.npy, sample762.npy, sample763.npy, sample764.npy, sample765.npy, sample766.npy, sample767.npy, sample768.npy, sample769.npy, sample77.npy, sample770.npy, sample771.npy, sample772.npy, sample773.npy, sample774.npy, sample775.npy, sample776.npy, sample777.npy, sample778.npy, sample779.npy\n",
      " - sample78.npy, sample780.npy, sample781.npy, sample782.npy, sample783.npy, sample784.npy, sample785.npy, sample786.npy, sample787.npy, sample788.npy, sample789.npy, sample79.npy, sample790.npy, sample791.npy, sample792.npy, sample793.npy, sample794.npy, sample795.npy, sample796.npy, sample797.npy\n",
      " - sample798.npy, sample799.npy, sample8.npy, sample80.npy, sample800.npy, sample801.npy, sample802.npy, sample804.npy, sample805.npy, sample806.npy, sample807.npy, sample808.npy, sample809.npy, sample81.npy, sample810.npy, sample811.npy, sample812.npy, sample813.npy, sample814.npy, sample815.npy\n",
      " - sample816.npy, sample817.npy, sample818.npy, sample819.npy, sample82.npy, sample820.npy, sample821.npy, sample822.npy, sample823.npy, sample824.npy, sample825.npy, sample826.npy, sample827.npy, sample828.npy, sample829.npy, sample83.npy, sample830.npy, sample831.npy, sample832.npy, sample833.npy\n",
      " - sample834.npy, sample835.npy, sample836.npy, sample837.npy, sample838.npy, sample839.npy, sample84.npy, sample840.npy, sample841.npy, sample842.npy, sample843.npy, sample844.npy, sample845.npy, sample846.npy, sample847.npy, sample848.npy, sample849.npy, sample85.npy, sample850.npy, sample851.npy\n",
      " - sample852.npy, sample853.npy, sample854.npy, sample855.npy, sample856.npy, sample857.npy, sample858.npy, sample859.npy, sample86.npy, sample860.npy, sample861.npy, sample862.npy, sample863.npy, sample864.npy, sample865.npy, sample866.npy, sample867.npy, sample868.npy, sample869.npy, sample87.npy\n",
      " - sample871.npy, sample872.npy, sample873.npy, sample874.npy, sample875.npy, sample876.npy, sample877.npy, sample878.npy, sample879.npy, sample88.npy, sample880.npy, sample881.npy, sample882.npy, sample883.npy, sample884.npy, sample885.npy, sample886.npy, sample887.npy, sample888.npy, sample889.npy\n",
      " - sample89.npy, sample890.npy, sample891.npy, sample892.npy, sample893.npy, sample894.npy, sample895.npy, sample896.npy, sample897.npy, sample898.npy, sample899.npy, sample9.npy, sample90.npy, sample900.npy, sample901.npy, sample902.npy, sample903.npy, sample904.npy, sample905.npy, sample906.npy\n",
      " - sample907.npy, sample908.npy, sample909.npy, sample91.npy, sample910.npy, sample911.npy, sample912.npy, sample913.npy, sample914.npy, sample915.npy, sample916.npy, sample917.npy, sample918.npy, sample919.npy, sample92.npy, sample920.npy, sample921.npy, sample922.npy, sample923.npy, sample924.npy\n",
      " - sample925.npy, sample926.npy, sample927.npy, sample928.npy, sample929.npy, sample93.npy, sample930.npy, sample931.npy, sample932.npy, sample933.npy, sample934.npy, sample935.npy, sample936.npy, sample938.npy, sample939.npy, sample94.npy, sample940.npy, sample941.npy, sample942.npy, sample943.npy\n",
      " - sample944.npy, sample945.npy, sample946.npy, sample947.npy, sample948.npy, sample949.npy, sample95.npy, sample950.npy, sample951.npy, sample952.npy, sample953.npy, sample954.npy, sample955.npy, sample956.npy, sample957.npy, sample958.npy, sample959.npy, sample96.npy, sample960.npy, sample961.npy\n",
      " - sample962.npy, sample963.npy, sample964.npy, sample965.npy, sample966.npy, sample967.npy, sample968.npy, sample969.npy, sample97.npy, sample970.npy, sample971.npy, sample972.npy, sample973.npy, sample974.npy, sample975.npy, sample976.npy, sample977.npy, sample978.npy, sample979.npy, sample98.npy\n",
      " - sample980.npy, sample981.npy, sample982.npy, sample983.npy, sample984.npy, sample985.npy, sample986.npy, sample987.npy, sample988.npy, sample989.npy, sample99.npy, sample990.npy, sample991.npy, sample992.npy, sample993.npy, sample994.npy, sample995.npy, sample996.npy, sample997.npy, sample998.npy\n",
      " - sample999.npy\n",
      "\n",
      "Shape (128, 57, 125) | Total: 40\n",
      " - sample1004.npy, sample1071.npy, sample1138.npy, sample1205.npy, sample1272.npy, sample133.npy, sample1339.npy, sample1406.npy, sample1473.npy, sample1540.npy, sample1607.npy, sample1674.npy, sample1741.npy, sample1808.npy, sample1875.npy, sample1942.npy, sample200.npy, sample2009.npy, sample2076.npy, sample2143.npy\n",
      " - sample2210.npy, sample2277.npy, sample2344.npy, sample2411.npy, sample2520.npy, sample2587.npy, sample2654.npy, sample267.npy, sample2721.npy, sample334.npy, sample401.npy, sample468.npy, sample535.npy, sample602.npy, sample66.npy, sample669.npy, sample736.npy, sample803.npy, sample870.npy, sample937.npy\n"
     ]
    }
   ],
   "source": [
    "# ============================================\n",
    "#           Checking Shape of the Data         \n",
    "# ============================================\n",
    "\n",
    "\n",
    "def chunk_list(lst, chunk_size):\n",
    "    for i in range(0, len(lst), chunk_size):\n",
    "        yield lst[i:i + chunk_size]\n",
    "\n",
    "shape_groups = defaultdict(list)\n",
    "\n",
    "for filename in os.listdir(base_path):\n",
    "    if filename.endswith('.npy'):\n",
    "        file_path = os.path.join(base_path, filename)\n",
    "        try:\n",
    "            data = np.load(file_path)\n",
    "            shape_groups[data.shape].append(filename)\n",
    "        except Exception as e:\n",
    "            print(f\"⚠️ Failed to load {filename}: {e}\")\n",
    "\n",
    "print(\"📊 SHAPE GROUPS FOUND:\")\n",
    "for shape, files in shape_groups.items():\n",
    "    print(f\"\\nShape {shape} | Total: {len(files)}\")\n",
    "    for chunk in chunk_list(files, 20):  # Wrap every 20 files\n",
    "        print(\" - \" + \", \".join(chunk))"
   ]
  },
  {
   "cell_type": "code",
   "execution_count": 26,
   "id": "82c5a216",
   "metadata": {},
   "outputs": [
    {
     "name": "stdout",
     "output_type": "stream",
     "text": [
      "Highest:\n",
      "Data shape: (128, 128, 125)\n",
      "Label for sample1638.npy: 100\n",
      "\n",
      "Middle:\n",
      "Data shape: (128, 128, 125)\n",
      "Label for sample130.npy: 49\n",
      "\n",
      "Lowest:\n",
      "Data shape: (128, 128, 125)\n",
      "Label for sample271.npy: 0\n",
      "\n"
     ]
    },
    {
     "data": {
      "image/png": "[encoded data removed]",
      "text/plain": [
       "<Figure size 1800x800 with 6 Axes>"
      ]
     },
     "metadata": {},
     "output_type": "display_data"
    }
   ],
   "source": [
    "# ============================================\n",
    "#           Basic Visualization of Data         \n",
    "# ============================================\n",
    "\n",
    "samples = [\n",
    "    ('sample1638.npy', 'Highest'),\n",
    "    ('sample130.npy', 'Middle'),\n",
    "    ('sample271.npy', 'Lowest')\n",
    "]\n",
    "\n",
    "fig, axes = plt.subplots(2, 3, figsize=(18, 8))\n",
    "fig.suptitle(\"Hyperspectral Image Analysis: PCA Visualization and Spectral Signatures\", fontsize=16)\n",
    "\n",
    "for i, (file_name, title) in enumerate(samples):\n",
    "    print(f\"{title}:\")\n",
    "    \n",
    "    # Load data\n",
    "    data = np.load(f'{base_path}/{file_name}')\n",
    "    print(f\"Data shape: {data.shape}\")\n",
    "\n",
    "    # Get label\n",
    "    label = train_df[train_df['id'] == file_name]['label'].iloc[0]\n",
    "    print(f\"Label for {file_name}: {label}\")\n",
    "\n",
    "    H, W, C = data.shape\n",
    "\n",
    "    # PCA processing\n",
    "    reshaped_data = data.reshape(-1, C)\n",
    "    pca = PCA(n_components=3)\n",
    "    pca_data = pca.fit_transform(reshaped_data)\n",
    "    pca_image = pca_data.reshape(H, W, 3)\n",
    "    pca_image = (pca_image - np.min(pca_image)) / (np.max(pca_image) - np.min(pca_image))\n",
    "\n",
    "    # Display PCA image\n",
    "    axes[0, i].imshow(pca_image)\n",
    "    axes[0, i].set_title(f'{title} Value - PCA View')\n",
    "    axes[0, i].axis('off')\n",
    "\n",
    "    # Plot spectral signature\n",
    "    pixel_spectrum = data[64, 64, :]\n",
    "    axes[1, i].plot(pixel_spectrum)\n",
    "    axes[1, i].set_title(f'{title} Value - Spectral Signature')\n",
    "    axes[1, i].set_xlabel(\"Band Index\")\n",
    "    axes[1, i].set_ylabel(\"Reflectance\")\n",
    "    axes[1, i].grid(True)\n",
    "\n",
    "    print() \n",
    "\n",
    "plt.tight_layout(rect=(0, 0.03, 1, 0.95))\n",
    "plt.show()"
   ]
  },
  {
   "cell_type": "markdown",
   "id": "6f30564b",
   "metadata": {},
   "source": [
    "## CNN"
   ]
  },
  {
   "cell_type": "code",
   "execution_count": 27,
   "id": "4cfb92cd",
   "metadata": {},
   "outputs": [],
   "source": [
    "# spatial attention uses average and max pooling to generate a spatial attention map\n",
    "# then applies conv layers to generate spatial attention map\n",
    "# 'Where to focus' in the Hyperspectral image\n",
    "class SpatialAttention(nn.Module):\n",
    "    def __init__(self, kernel_size=7):\n",
    "        super(SpatialAttention, self).__init__()\n",
    "        self.conv = nn.Sequential(\n",
    "            nn.Conv2d(2, 8, kernel_size, padding=kernel_size//2),\n",
    "            nn.ReLU(),\n",
    "            nn.Conv2d(8, 1, kernel_size=1)\n",
    "        )\n",
    "        self.sigmoid = nn.Sigmoid() # scale between 0 and 1\n",
    "    \n",
    "    def forward(self, x):\n",
    "        avg_out = torch.mean(x, dim=1, keepdim=True)\n",
    "        max_out, _ = torch.max(x, dim=1, keepdim=True)\n",
    "        concat = torch.cat([avg_out, max_out], dim=1)\n",
    "        attention = self.sigmoid(self.conv(concat))\n",
    "        return x * attention\n",
    "        \n",
    "# channel attention uses global average and max pooling to generate a channel attention map\n",
    "# then applies fc layers to generate channel attention map\n",
    "# 'What to focus' in the Hyperspectral image\n",
    "class ChannelAttention(nn.Module):\n",
    "    def __init__(self, in_channels, reduction_ratio=16):\n",
    "        super(ChannelAttention, self).__init__()\n",
    "        self.avg_pool = nn.AdaptiveAvgPool2d(1)\n",
    "        self.max_pool = nn.AdaptiveMaxPool2d(1)\n",
    "        \n",
    "        self.fc = nn.Sequential(\n",
    "            nn.Linear(in_channels, in_channels // reduction_ratio),\n",
    "            nn.ReLU(inplace=True),\n",
    "            nn.Linear(in_channels // reduction_ratio, in_channels),\n",
    "            nn.Sigmoid() # scale between 0 and 1\n",
    "        )\n",
    "\n",
    "    def forward(self, x):\n",
    "        b, c, _, _ = x.size()\n",
    "        avg_out = self.fc(self.avg_pool(x).view(b, c)) \n",
    "        max_out = self.fc(self.max_pool(x).view(b, c)) \n",
    "        out = avg_out + max_out\n",
    "        return out.view(b, c, 1, 1)\n",
    "\n",
    "# Main CNN model for hyperspectral image regression\n",
    "class HyperspectralCNN(nn.Module):\n",
    "    def __init__(self, in_channels=NUM_BANDS):\n",
    "        super().__init__()\n",
    "        \n",
    "        self.conv1 = nn.Sequential(\n",
    "            nn.Conv2d(in_channels, 64, kernel_size=3, padding=1),\n",
    "            nn.BatchNorm2d(64),\n",
    "            nn.LeakyReLU(0.1, inplace=True),\n",
    "            nn.MaxPool2d(2)\n",
    "        )\n",
    "        \n",
    "        self.ca1 = ChannelAttention(64)\n",
    "        self.sa1 = SpatialAttention()\n",
    "        \n",
    "        self.conv2 = nn.Sequential(\n",
    "            nn.Conv2d(64, 128, kernel_size=3, padding=1),\n",
    "            nn.BatchNorm2d(128),\n",
    "            nn.LeakyReLU(0.1, inplace=True),\n",
    "            nn.MaxPool2d(2)\n",
    "        )\n",
    "        \n",
    "        self.ca2 = ChannelAttention(128)\n",
    "        self.sa2 = SpatialAttention()\n",
    "        \n",
    "        self.conv3 = nn.Sequential(\n",
    "            nn.Conv2d(128, 256, kernel_size=3, padding=1),\n",
    "            nn.BatchNorm2d(256),\n",
    "            nn.LeakyReLU(0.1, inplace=True),\n",
    "            nn.AdaptiveAvgPool2d(1)\n",
    "        )\n",
    "        \n",
    "        # using regression as the final layer to predict the score\n",
    "        self.regressor = nn.Sequential(\n",
    "            nn.Linear(256, 128),\n",
    "            nn.SiLU(),\n",
    "            nn.Dropout(0.5),\n",
    "            nn.Linear(128, 64),\n",
    "            nn.SiLU(),\n",
    "            nn.Linear(64, 1),\n",
    "            nn.Sigmoid()  # Sigmoid to output between 0 and 1\n",
    "        )\n",
    "        \n",
    "    def forward(self, x):\n",
    "        x = self.conv1(x)\n",
    "        x = self.ca1(x) * x\n",
    "        x = self.sa1(x) * x\n",
    "        \n",
    "        x = self.conv2(x)\n",
    "        x = self.ca2(x) * x\n",
    "        x = self.sa2(x) * x\n",
    "        \n",
    "        x = self.conv3(x)\n",
    "        x = x.view(x.size(0), -1)\n",
    "        x = self.regressor(x)\n",
    "        return x * 100  # Scale to 0-100 range for % score"
   ]
  },
  {
   "cell_type": "markdown",
   "id": "7a902d6a",
   "metadata": {},
   "source": [
    "## Custom Data set\n"
   ]
  },
  {
   "cell_type": "code",
   "execution_count": 28,
   "id": "aa386aae",
   "metadata": {},
   "outputs": [],
   "source": [
    "# ====================================================\n",
    "#           Custom Dataset Class for DataLoader        \n",
    "# ====================================================\n",
    "\n",
    "class HyperspectralDataset(Dataset):\n",
    "    def __init__(self, df, base_path, patch_size=64, augment=False, is_test=False):\n",
    "        self.df = df\n",
    "        self.base_path = base_path\n",
    "        self.patch_size = patch_size\n",
    "        self.augment = augment\n",
    "        self.is_test = is_test\n",
    "        \n",
    "    def __len__(self):\n",
    "        return len(self.df)\n",
    "    \n",
    "    def __getitem__(self, idx):\n",
    "        # Get the NPY file path from the dataframe\n",
    "        npy_file = self.df.iloc[idx]['id']  # Using 'id' column for both train and test\n",
    "        \n",
    "        # Load the NPY file\n",
    "        data = np.load(f\"{self.base_path}/{npy_file}\")\n",
    "        data = torch.from_numpy(data).float()\n",
    "        \n",
    "        # Reshape data to (channels, height, width)\n",
    "        # Assuming input is (height, width, channels)\n",
    "        if len(data.shape) == 3:\n",
    "            data = data.permute(2, 0, 1)  # Change from (H, W, C) to (C, H, W)\n",
    "        \n",
    "        # Ensure we have exactly NUM_BANDS channels\n",
    "        if data.shape[0] != NUM_BANDS:\n",
    "            # If we have more channels, take the first NUM_BANDS\n",
    "            # If we have fewer channels, pad with zeros\n",
    "            if data.shape[0] > NUM_BANDS:\n",
    "                data = data[:NUM_BANDS]\n",
    "            else:\n",
    "                padding = torch.zeros((NUM_BANDS - data.shape[0], data.shape[1], data.shape[2]))\n",
    "                data = torch.cat([data, padding], dim=0)\n",
    "        \n",
    "        # Resize to fixed size using interpolation \n",
    "        if data.shape[1] != self.patch_size or data.shape[2] != self.patch_size:\n",
    "            data = F.interpolate(data.unsqueeze(0), size=(self.patch_size, self.patch_size), \n",
    "                               mode='bilinear', align_corners=False).squeeze(0)\n",
    "        \n",
    "        # Normalize data\n",
    "        data = (data - data.mean()) / (data.std() + 1e-8)\n",
    "        \n",
    "        if self.is_test:\n",
    "            # For test data, return only the data\n",
    "            return data\n",
    "        else:\n",
    "            # For training data, return data and label\n",
    "            disease_percentage = torch.tensor(self.df.iloc[idx]['label'], dtype=torch.float32)\n",
    "            return data, disease_percentage"
   ]
  },
  {
   "cell_type": "markdown",
   "id": "fd563dd6",
   "metadata": {},
   "source": [
    "## Training Loop"
   ]
  },
  {
   "cell_type": "code",
   "execution_count": 29,
   "id": "f2a72c57",
   "metadata": {},
   "outputs": [],
   "source": [
    "# ====================================================\n",
    "#           Early Stopping Class for Training       \n",
    "# ====================================================\n",
    "\n",
    "class EarlyStopping:\n",
    "    def __init__(self, patience=20, min_delta=0):\n",
    "        self.patience = patience\n",
    "        self.min_delta = min_delta\n",
    "        self.counter = 0\n",
    "        self.best_loss = None\n",
    "        self.early_stop = False\n",
    "        \n",
    "    def __call__(self, val_loss):\n",
    "        if self.best_loss is None:\n",
    "            self.best_loss = val_loss\n",
    "        elif val_loss > self.best_loss - self.min_delta:\n",
    "            self.counter += 1\n",
    "            if self.counter >= self.patience:\n",
    "                self.early_stop = True\n",
    "        else:\n",
    "            self.best_loss = val_loss\n",
    "            self.counter = 0"
   ]
  },
  {
   "cell_type": "code",
   "execution_count": 30,
   "id": "b3d3bcec",
   "metadata": {},
   "outputs": [],
   "source": [
    "# ====================================================\n",
    "#           MAE & MSE Plotting Function     \n",
    "# ====================================================\n",
    "\n",
    "def plot_training_curves(train_losses, val_losses, train_maes, val_maes):\n",
    "    \"\"\"\n",
    "    Plot training and validation curves for loss and MAE.\n",
    "    \"\"\"\n",
    "    plt.close('all')  \n",
    "\n",
    "    fig, (ax1, ax2) = plt.subplots(1, 2, figsize=(15, 5))  \n",
    "\n",
    "    # Plot losses (MSE)\n",
    "    ax1.plot(train_losses, label='Train Loss', marker='o')\n",
    "    ax1.plot(val_losses, label='Val Loss', marker='o')\n",
    "    ax1.set_xlabel('Epoch')\n",
    "    ax1.set_ylabel('Loss')\n",
    "    ax1.set_title('Training and Validation Loss')\n",
    "    ax1.legend()\n",
    "    ax1.grid(True)\n",
    "\n",
    "    # Plot MAE\n",
    "    ax2.plot(train_maes, label='Train MAE', marker='o')\n",
    "    ax2.plot(val_maes, label='Val MAE', marker='o')\n",
    "    ax2.set_xlabel('Epoch')\n",
    "    ax2.set_ylabel('MAE (%)')\n",
    "    ax2.set_title('Training and Validation Mean Absolute Error')\n",
    "    ax2.legend()\n",
    "    ax2.grid(True)\n",
    "\n",
    "    plt.tight_layout()\n",
    "    plt.show()\n",
    "\n",
    "def plot_predictions_vs_actual(all_labels, all_preds):\n",
    "    \"\"\"\n",
    "    Plot predictions against actual values.\n",
    "    \n",
    "    Args:\n",
    "        all_labels (numpy.ndarray): Array of actual values\n",
    "        all_preds (numpy.ndarray): Array of predicted values\n",
    "    \"\"\"\n",
    "    plt.figure(figsize=(10, 6))\n",
    "    plt.scatter(all_labels, all_preds, alpha=0.5)\n",
    "    plt.plot([0, 100], [0, 100], 'r--')  # Perfect prediction line\n",
    "    plt.xlabel('Actual Disease Percentage')\n",
    "    plt.ylabel('Predicted Disease Percentage')\n",
    "    plt.title('Predicted vs Actual Disease Percentage')\n",
    "    plt.grid(True)\n",
    "    plt.show()"
   ]
  },
  {
   "cell_type": "code",
   "execution_count": null,
   "id": "6d6043d0",
   "metadata": {},
   "outputs": [],
   "source": [
    "# ====================================================\n",
    "#           Training and Evaluation Functions    \n",
    "# ====================================================\n",
    "\n",
    "def train_model(model, train_loader, val_loader, epochs, criterion, optimizer):\n",
    "    scaler = GradScaler() # Automatic Mixed Precision \n",
    "    train_losses = []\n",
    "    train_maes = []  \n",
    "    val_losses = []\n",
    "    val_maes = []\n",
    "    \n",
    "    early_stopping = EarlyStopping(patience=PATIENCE)\n",
    "    \n",
    "    for epoch in range(epochs):\n",
    "        model.train()\n",
    "        train_loss = 0.0\n",
    "        train_mae = 0.0\n",
    "        valid_samples = 0\n",
    "        \n",
    "        for inputs, labels in tqdm(train_loader, desc=f\"Epoch {epoch+1}/{epochs}\"):\n",
    "            inputs, labels = inputs.to(DEVICE), labels.to(DEVICE)\n",
    "            \n",
    "            if torch.isnan(inputs).any() or torch.isnan(labels).any():\n",
    "                continue\n",
    "                \n",
    "            optimizer.zero_grad()\n",
    "            with autocast(device_type='cuda' if torch.cuda.is_available() else 'cpu'):\n",
    "                outputs = model(inputs)\n",
    "                if torch.isnan(outputs).any():\n",
    "                    continue\n",
    "                outputs = outputs.squeeze(-1)  # Remove last dimension if it's 1\n",
    "                labels = labels.float()        # Ensure labels are float\n",
    "                loss = criterion(outputs, labels)\n",
    "            if not torch.isnan(loss):\n",
    "                scaler.scale(loss).backward()\n",
    "                scaler.step(optimizer)\n",
    "                scaler.update()\n",
    "                train_loss += loss.item() * inputs.size(0)\n",
    "                train_mae += torch.abs(outputs - labels).sum().item()\n",
    "                valid_samples += inputs.size(0)\n",
    "        \n",
    "        # Validation phase\n",
    "        model.eval()\n",
    "        val_loss = 0.0\n",
    "        val_mae = 0.0\n",
    "        val_samples = 0\n",
    "        \n",
    "        with torch.no_grad():\n",
    "            for inputs, labels in val_loader:\n",
    "                inputs, labels = inputs.to(DEVICE), labels.to(DEVICE)\n",
    "                outputs = model(inputs)\n",
    "                outputs = outputs.squeeze(-1)\n",
    "                loss = criterion(outputs, labels)\n",
    "                val_loss += loss.item() * inputs.size(0)\n",
    "                val_mae += torch.abs(outputs - labels).sum().item()\n",
    "                val_samples += inputs.size(0)\n",
    "        \n",
    "        if valid_samples > 0 and val_samples > 0:\n",
    "            train_loss /= valid_samples\n",
    "            train_mae /= valid_samples\n",
    "            val_loss /= val_samples\n",
    "            val_mae /= val_samples\n",
    "            \n",
    "            train_losses.append(train_loss)\n",
    "            train_maes.append(train_mae)\n",
    "            val_losses.append(val_loss)\n",
    "            val_maes.append(val_mae)\n",
    "            \n",
    "            print(f\"Epoch {epoch+1}:\")\n",
    "            print(f\"Train Loss: {train_loss:.4f}, Train MAE: {train_mae:.2f}%\")\n",
    "            print(f\"Val Loss: {val_loss:.4f}, Val MAE: {val_mae:.2f}%\")\n",
    "            \n",
    "            # Save model after each epoch\n",
    "            torch.save(model.state_dict(), 'Hyperspectral_Model.pth')\n",
    "            \n",
    "            # Early stopping check\n",
    "            early_stopping(val_loss)\n",
    "            if early_stopping.early_stop:\n",
    "                print(f\"Early stopping triggered at epoch {epoch+1}\")\n",
    "                break\n",
    "        else:\n",
    "            print(f\"Epoch {epoch+1}: No valid training/validation samples\")\n",
    "    \n",
    "    # Plot training curves after training\n",
    "    plot_training_curves(train_losses, val_losses, train_maes, val_maes)\n",
    "    \n",
    "    return model\n",
    "\n",
    "def evaluate_model(model, loader, criterion, device=DEVICE):\n",
    "    model.eval()\n",
    "    total_loss = 0.0\n",
    "    total_mae = 0.0\n",
    "    all_preds = []\n",
    "    all_labels = []\n",
    "    \n",
    "    with torch.no_grad():\n",
    "        for inputs, labels in loader:\n",
    "            inputs, labels = inputs.to(device), labels.to(device)\n",
    "            outputs = model(inputs)\n",
    "            \n",
    "            loss = criterion(outputs, labels)\n",
    "            total_loss += loss.item() * inputs.size(0)\n",
    "            total_mae += torch.abs(outputs - labels).sum().item()\n",
    "            \n",
    "            all_preds.extend(outputs.cpu().numpy())\n",
    "            all_labels.extend(labels.cpu().numpy())\n",
    "    \n",
    "    avg_loss = total_loss / len(loader.dataset)\n",
    "    avg_mae = total_mae / len(loader.dataset)\n",
    "    \n",
    "    print(f\"Test Loss: {avg_loss:.4f}\")\n",
    "    print(f\"Test MAE: {avg_mae:.2f}%\")\n",
    "    \n",
    "    # Plot predictions vs actual \n",
    "    plot_predictions_vs_actual(np.array(all_labels), np.array(all_preds))\n",
    "    \n",
    "    return avg_loss, np.array(all_preds), np.array(all_labels)"
   ]
  },
  {
   "cell_type": "markdown",
   "id": "5838be5a",
   "metadata": {},
   "source": [
    "## Main"
   ]
  },
  {
   "cell_type": "code",
   "execution_count": 32,
   "id": "eaefdf03",
   "metadata": {},
   "outputs": [],
   "source": [
    "# Load training and test data\n",
    "train_df = pd.read_csv('C:/IIUM/AI Note IIUM/Deep_Learning/Project/Data/train.csv')\n",
    "test_df = pd.read_csv('C:/IIUM/AI Note IIUM/Deep_Learning/Project/Data/test.csv')\n",
    "base_path = 'C:/IIUM/AI Note IIUM/Deep_Learning/Project/Data/ot'\n"
   ]
  },
  {
   "cell_type": "code",
   "execution_count": 33,
   "id": "f6fa65bb",
   "metadata": {},
   "outputs": [],
   "source": [
    "# Create datasets\n",
    "train_dataset = HyperspectralDataset(train_df, base_path, augment=True, is_test=False)\n",
    "val_dataset = HyperspectralDataset(train_df, base_path, augment=False, is_test=False)  \n",
    "test_dataset = HyperspectralDataset(test_df, base_path, augment=False, is_test=True)\n",
    "\n",
    "# Create data loaders with num_workers=0\n",
    "train_loader = DataLoader(train_dataset, batch_size=BATCH_SIZE, shuffle=True, num_workers=0)\n",
    "val_loader = DataLoader(val_dataset, batch_size=BATCH_SIZE, shuffle=False, num_workers=0)\n",
    "test_loader = DataLoader(test_dataset, batch_size=BATCH_SIZE, shuffle=False, num_workers=0)\n",
    "\n",
    "# Initialize model and training components\n",
    "model = HyperspectralCNN().to(DEVICE)\n",
    "criterion = nn.MSELoss()  \n",
    "optimizer = optim.AdamW(model.parameters(), lr=LEARNING_RATE, weight_decay=1e-4) \n",
    "scheduler = optim.lr_scheduler.ReduceLROnPlateau(optimizer, mode='min', factor=0.5, patience=5) # Reduce learning rate if no improvement"
   ]
  },
  {
   "cell_type": "code",
   "execution_count": 34,
   "id": "0a5419e8",
   "metadata": {},
   "outputs": [
    {
     "name": "stdout",
     "output_type": "stream",
     "text": [
      "----------------------------------------------------------------\n",
      "        Layer (type)               Output Shape         Param #\n",
      "================================================================\n",
      "            Conv2d-1           [-1, 64, 64, 64]          57,664\n",
      "       BatchNorm2d-2           [-1, 64, 64, 64]             128\n",
      "         LeakyReLU-3           [-1, 64, 64, 64]               0\n",
      "         MaxPool2d-4           [-1, 64, 32, 32]               0\n",
      " AdaptiveAvgPool2d-5             [-1, 64, 1, 1]               0\n",
      "            Linear-6                    [-1, 4]             260\n",
      "              ReLU-7                    [-1, 4]               0\n",
      "            Linear-8                   [-1, 64]             320\n",
      "           Sigmoid-9                   [-1, 64]               0\n",
      "AdaptiveMaxPool2d-10             [-1, 64, 1, 1]               0\n",
      "           Linear-11                    [-1, 4]             260\n",
      "             ReLU-12                    [-1, 4]               0\n",
      "           Linear-13                   [-1, 64]             320\n",
      "          Sigmoid-14                   [-1, 64]               0\n",
      " ChannelAttention-15             [-1, 64, 1, 1]               0\n",
      "           Conv2d-16            [-1, 8, 32, 32]             792\n",
      "             ReLU-17            [-1, 8, 32, 32]               0\n",
      "           Conv2d-18            [-1, 1, 32, 32]               9\n",
      "          Sigmoid-19            [-1, 1, 32, 32]               0\n",
      " SpatialAttention-20           [-1, 64, 32, 32]               0\n",
      "           Conv2d-21          [-1, 128, 32, 32]          73,856\n",
      "      BatchNorm2d-22          [-1, 128, 32, 32]             256\n",
      "        LeakyReLU-23          [-1, 128, 32, 32]               0\n",
      "        MaxPool2d-24          [-1, 128, 16, 16]               0\n",
      "AdaptiveAvgPool2d-25            [-1, 128, 1, 1]               0\n",
      "           Linear-26                    [-1, 8]           1,032\n",
      "             ReLU-27                    [-1, 8]               0\n",
      "           Linear-28                  [-1, 128]           1,152\n",
      "          Sigmoid-29                  [-1, 128]               0\n",
      "AdaptiveMaxPool2d-30            [-1, 128, 1, 1]               0\n",
      "           Linear-31                    [-1, 8]           1,032\n",
      "             ReLU-32                    [-1, 8]               0\n",
      "           Linear-33                  [-1, 128]           1,152\n",
      "          Sigmoid-34                  [-1, 128]               0\n",
      " ChannelAttention-35            [-1, 128, 1, 1]               0\n",
      "           Conv2d-36            [-1, 8, 16, 16]             792\n",
      "             ReLU-37            [-1, 8, 16, 16]               0\n",
      "           Conv2d-38            [-1, 1, 16, 16]               9\n",
      "          Sigmoid-39            [-1, 1, 16, 16]               0\n",
      " SpatialAttention-40          [-1, 128, 16, 16]               0\n",
      "           Conv2d-41          [-1, 256, 16, 16]         295,168\n",
      "      BatchNorm2d-42          [-1, 256, 16, 16]             512\n",
      "        LeakyReLU-43          [-1, 256, 16, 16]               0\n",
      "AdaptiveAvgPool2d-44            [-1, 256, 1, 1]               0\n",
      "           Linear-45                  [-1, 128]          32,896\n",
      "             SiLU-46                  [-1, 128]               0\n",
      "          Dropout-47                  [-1, 128]               0\n",
      "           Linear-48                   [-1, 64]           8,256\n",
      "             SiLU-49                   [-1, 64]               0\n",
      "           Linear-50                    [-1, 1]              65\n",
      "          Sigmoid-51                    [-1, 1]               0\n",
      "================================================================\n",
      "Total params: 475,931\n",
      "Trainable params: 475,931\n",
      "Non-trainable params: 0\n",
      "----------------------------------------------------------------\n",
      "Input size (MB): 1.56\n",
      "Forward/backward pass size (MB): 12.19\n",
      "Params size (MB): 1.82\n",
      "Estimated Total Size (MB): 15.57\n",
      "----------------------------------------------------------------\n"
     ]
    }
   ],
   "source": [
    "summary(model, input_size=(NUM_BANDS, 64, 64))  "
   ]
  },
  {
   "cell_type": "code",
   "execution_count": 35,
   "id": "041279f5",
   "metadata": {},
   "outputs": [
    {
     "data": {
      "application/vnd.jupyter.widget-view+json": {
       "model_id": "45082e3d755d4572a2a70d6b56cd36a8",
       "version_major": 2,
       "version_minor": 0
      },
      "text/plain": [
       "Epoch 1/200:   0%|          | 0/68 [00:00<?, ?it/s]"
      ]
     },
     "metadata": {},
     "output_type": "display_data"
    },
    {
     "name": "stdout",
     "output_type": "stream",
     "text": [
      "Epoch 1:\n",
      "Train Loss: 870.9146, Train MAE: 25.63%\n",
      "Val Loss: 868.0538, Val MAE: 25.60%\n"
     ]
    },
    {
     "data": {
      "application/vnd.jupyter.widget-view+json": {
       "model_id": "72eb60b897ea49fcb5014e5e9ba1bd7d",
       "version_major": 2,
       "version_minor": 0
      },
      "text/plain": [
       "Epoch 2/200:   0%|          | 0/68 [00:00<?, ?it/s]"
      ]
     },
     "metadata": {},
     "output_type": "display_data"
    },
    {
     "name": "stdout",
     "output_type": "stream",
     "text": [
      "Epoch 2:\n",
      "Train Loss: 868.6973, Train MAE: 25.62%\n",
      "Val Loss: 866.9156, Val MAE: 25.58%\n"
     ]
    },
    {
     "data": {
      "application/vnd.jupyter.widget-view+json": {
       "model_id": "fe5372c9eda94d0d89971fed453fb8e9",
       "version_major": 2,
       "version_minor": 0
      },
      "text/plain": [
       "Epoch 3/200:   0%|          | 0/68 [00:00<?, ?it/s]"
      ]
     },
     "metadata": {},
     "output_type": "display_data"
    },
    {
     "name": "stdout",
     "output_type": "stream",
     "text": [
      "Epoch 3:\n",
      "Train Loss: 866.5305, Train MAE: 25.58%\n",
      "Val Loss: 864.8327, Val MAE: 25.55%\n"
     ]
    },
    {
     "data": {
      "application/vnd.jupyter.widget-view+json": {
       "model_id": "42d775e5b0af4991836222720c9fef16",
       "version_major": 2,
       "version_minor": 0
      },
      "text/plain": [
       "Epoch 4/200:   0%|          | 0/68 [00:00<?, ?it/s]"
      ]
     },
     "metadata": {},
     "output_type": "display_data"
    },
    {
     "name": "stdout",
     "output_type": "stream",
     "text": [
      "Epoch 4:\n",
      "Train Loss: 866.1981, Train MAE: 25.56%\n",
      "Val Loss: 864.7258, Val MAE: 25.55%\n"
     ]
    },
    {
     "data": {
      "application/vnd.jupyter.widget-view+json": {
       "model_id": "288a13ebb1ea4b3698dcc16aa0fbcf8a",
       "version_major": 2,
       "version_minor": 0
      },
      "text/plain": [
       "Epoch 5/200:   0%|          | 0/68 [00:00<?, ?it/s]"
      ]
     },
     "metadata": {},
     "output_type": "display_data"
    },
    {
     "name": "stdout",
     "output_type": "stream",
     "text": [
      "Epoch 5:\n",
      "Train Loss: 863.7753, Train MAE: 25.54%\n",
      "Val Loss: 865.9325, Val MAE: 25.56%\n"
     ]
    },
    {
     "data": {
      "application/vnd.jupyter.widget-view+json": {
       "model_id": "8af9ee235b9140fb99974395196cf97e",
       "version_major": 2,
       "version_minor": 0
      },
      "text/plain": [
       "Epoch 6/200:   0%|          | 0/68 [00:00<?, ?it/s]"
      ]
     },
     "metadata": {},
     "output_type": "display_data"
    },
    {
     "name": "stdout",
     "output_type": "stream",
     "text": [
      "Epoch 6:\n",
      "Train Loss: 864.4231, Train MAE: 25.53%\n",
      "Val Loss: 859.4149, Val MAE: 25.48%\n"
     ]
    },
    {
     "data": {
      "application/vnd.jupyter.widget-view+json": {
       "model_id": "fd86f0e70b2b4c4780302aa0ee63ed1f",
       "version_major": 2,
       "version_minor": 0
      },
      "text/plain": [
       "Epoch 7/200:   0%|          | 0/68 [00:00<?, ?it/s]"
      ]
     },
     "metadata": {},
     "output_type": "display_data"
    },
    {
     "name": "stdout",
     "output_type": "stream",
     "text": [
      "Epoch 7:\n",
      "Train Loss: 862.2213, Train MAE: 25.50%\n",
      "Val Loss: 863.1926, Val MAE: 25.53%\n"
     ]
    },
    {
     "data": {
      "application/vnd.jupyter.widget-view+json": {
       "model_id": "b47d1808ce8d40c693acdcb47840061d",
       "version_major": 2,
       "version_minor": 0
      },
      "text/plain": [
       "Epoch 8/200:   0%|          | 0/68 [00:00<?, ?it/s]"
      ]
     },
     "metadata": {},
     "output_type": "display_data"
    },
    {
     "name": "stdout",
     "output_type": "stream",
     "text": [
      "Epoch 8:\n",
      "Train Loss: 863.5025, Train MAE: 25.52%\n",
      "Val Loss: 857.9176, Val MAE: 25.45%\n"
     ]
    },
    {
     "data": {
      "application/vnd.jupyter.widget-view+json": {
       "model_id": "d1953d29c9c54995a736200683e277f3",
       "version_major": 2,
       "version_minor": 0
      },
      "text/plain": [
       "Epoch 9/200:   0%|          | 0/68 [00:00<?, ?it/s]"
      ]
     },
     "metadata": {},
     "output_type": "display_data"
    },
    {
     "name": "stdout",
     "output_type": "stream",
     "text": [
      "Epoch 9:\n",
      "Train Loss: 860.5601, Train MAE: 25.46%\n",
      "Val Loss: 857.3798, Val MAE: 25.45%\n"
     ]
    },
    {
     "data": {
      "application/vnd.jupyter.widget-view+json": {
       "model_id": "26f826702d934b18aba646988cd68823",
       "version_major": 2,
       "version_minor": 0
      },
      "text/plain": [
       "Epoch 10/200:   0%|          | 0/68 [00:00<?, ?it/s]"
      ]
     },
     "metadata": {},
     "output_type": "display_data"
    },
    {
     "name": "stdout",
     "output_type": "stream",
     "text": [
      "Epoch 10:\n",
      "Train Loss: 860.6644, Train MAE: 25.48%\n",
      "Val Loss: 855.7000, Val MAE: 25.41%\n"
     ]
    },
    {
     "data": {
      "application/vnd.jupyter.widget-view+json": {
       "model_id": "f1a89743bbc344b68c65356f41db853e",
       "version_major": 2,
       "version_minor": 0
      },
      "text/plain": [
       "Epoch 11/200:   0%|          | 0/68 [00:00<?, ?it/s]"
      ]
     },
     "metadata": {},
     "output_type": "display_data"
    },
    {
     "name": "stdout",
     "output_type": "stream",
     "text": [
      "Epoch 11:\n",
      "Train Loss: 860.1275, Train MAE: 25.49%\n",
      "Val Loss: 853.9153, Val MAE: 25.36%\n"
     ]
    },
    {
     "data": {
      "application/vnd.jupyter.widget-view+json": {
       "model_id": "d64f90755eef4d409f938c430a017e16",
       "version_major": 2,
       "version_minor": 0
      },
      "text/plain": [
       "Epoch 12/200:   0%|          | 0/68 [00:00<?, ?it/s]"
      ]
     },
     "metadata": {},
     "output_type": "display_data"
    },
    {
     "name": "stdout",
     "output_type": "stream",
     "text": [
      "Epoch 12:\n",
      "Train Loss: 856.5617, Train MAE: 25.41%\n",
      "Val Loss: 852.9398, Val MAE: 25.33%\n"
     ]
    },
    {
     "data": {
      "application/vnd.jupyter.widget-view+json": {
       "model_id": "06120392b6a4430093732274551ff357",
       "version_major": 2,
       "version_minor": 0
      },
      "text/plain": [
       "Epoch 13/200:   0%|          | 0/68 [00:00<?, ?it/s]"
      ]
     },
     "metadata": {},
     "output_type": "display_data"
    },
    {
     "name": "stdout",
     "output_type": "stream",
     "text": [
      "Epoch 13:\n",
      "Train Loss: 863.0714, Train MAE: 25.45%\n",
      "Val Loss: 853.6436, Val MAE: 25.40%\n"
     ]
    },
    {
     "data": {
      "application/vnd.jupyter.widget-view+json": {
       "model_id": "372688040a69409d98b44ad143b28ccf",
       "version_major": 2,
       "version_minor": 0
      },
      "text/plain": [
       "Epoch 14/200:   0%|          | 0/68 [00:00<?, ?it/s]"
      ]
     },
     "metadata": {},
     "output_type": "display_data"
    },
    {
     "name": "stdout",
     "output_type": "stream",
     "text": [
      "Epoch 14:\n",
      "Train Loss: 855.8204, Train MAE: 25.38%\n",
      "Val Loss: 852.6239, Val MAE: 25.36%\n"
     ]
    },
    {
     "data": {
      "application/vnd.jupyter.widget-view+json": {
       "model_id": "901d2b3582d341a68420b09f4bc0eb9f",
       "version_major": 2,
       "version_minor": 0
      },
      "text/plain": [
       "Epoch 15/200:   0%|          | 0/68 [00:00<?, ?it/s]"
      ]
     },
     "metadata": {},
     "output_type": "display_data"
    },
    {
     "name": "stdout",
     "output_type": "stream",
     "text": [
      "Epoch 15:\n",
      "Train Loss: 848.8022, Train MAE: 25.26%\n",
      "Val Loss: 849.4871, Val MAE: 25.22%\n"
     ]
    },
    {
     "data": {
      "application/vnd.jupyter.widget-view+json": {
       "model_id": "e91799b936194866b5106bdf7e734a7b",
       "version_major": 2,
       "version_minor": 0
      },
      "text/plain": [
       "Epoch 16/200:   0%|          | 0/68 [00:00<?, ?it/s]"
      ]
     },
     "metadata": {},
     "output_type": "display_data"
    },
    {
     "name": "stdout",
     "output_type": "stream",
     "text": [
      "Epoch 16:\n",
      "Train Loss: 855.9281, Train MAE: 25.38%\n",
      "Val Loss: 844.9803, Val MAE: 25.21%\n"
     ]
    },
    {
     "data": {
      "application/vnd.jupyter.widget-view+json": {
       "model_id": "53d8ea4c9e8a4c69bdba87e4ae6d7381",
       "version_major": 2,
       "version_minor": 0
      },
      "text/plain": [
       "Epoch 17/200:   0%|          | 0/68 [00:00<?, ?it/s]"
      ]
     },
     "metadata": {},
     "output_type": "display_data"
    },
    {
     "name": "stdout",
     "output_type": "stream",
     "text": [
      "Epoch 17:\n",
      "Train Loss: 852.4379, Train MAE: 25.35%\n",
      "Val Loss: 844.5306, Val MAE: 25.21%\n"
     ]
    },
    {
     "data": {
      "application/vnd.jupyter.widget-view+json": {
       "model_id": "fe80e632d78b4ec8839953958077a650",
       "version_major": 2,
       "version_minor": 0
      },
      "text/plain": [
       "Epoch 18/200:   0%|          | 0/68 [00:00<?, ?it/s]"
      ]
     },
     "metadata": {},
     "output_type": "display_data"
    },
    {
     "name": "stdout",
     "output_type": "stream",
     "text": [
      "Epoch 18:\n",
      "Train Loss: 843.4945, Train MAE: 25.12%\n",
      "Val Loss: 861.8289, Val MAE: 25.28%\n"
     ]
    },
    {
     "data": {
      "application/vnd.jupyter.widget-view+json": {
       "model_id": "2d9e6011cdc148ae99a92a8f0d7fcb70",
       "version_major": 2,
       "version_minor": 0
      },
      "text/plain": [
       "Epoch 19/200:   0%|          | 0/68 [00:00<?, ?it/s]"
      ]
     },
     "metadata": {},
     "output_type": "display_data"
    },
    {
     "name": "stdout",
     "output_type": "stream",
     "text": [
      "Epoch 19:\n",
      "Train Loss: 851.5959, Train MAE: 25.26%\n",
      "Val Loss: 844.0829, Val MAE: 25.22%\n"
     ]
    },
    {
     "data": {
      "application/vnd.jupyter.widget-view+json": {
       "model_id": "48c6021c67ad4e1dbcefbd25596e5dec",
       "version_major": 2,
       "version_minor": 0
      },
      "text/plain": [
       "Epoch 20/200:   0%|          | 0/68 [00:00<?, ?it/s]"
      ]
     },
     "metadata": {},
     "output_type": "display_data"
    },
    {
     "name": "stdout",
     "output_type": "stream",
     "text": [
      "Epoch 20:\n",
      "Train Loss: 846.7903, Train MAE: 25.25%\n",
      "Val Loss: 842.8102, Val MAE: 25.17%\n"
     ]
    },
    {
     "data": {
      "application/vnd.jupyter.widget-view+json": {
       "model_id": "fb106aad332d4c66bfbfd0c52c572970",
       "version_major": 2,
       "version_minor": 0
      },
      "text/plain": [
       "Epoch 21/200:   0%|          | 0/68 [00:00<?, ?it/s]"
      ]
     },
     "metadata": {},
     "output_type": "display_data"
    },
    {
     "name": "stdout",
     "output_type": "stream",
     "text": [
      "Epoch 21:\n",
      "Train Loss: 838.0271, Train MAE: 25.00%\n",
      "Val Loss: 847.3501, Val MAE: 25.30%\n"
     ]
    },
    {
     "data": {
      "application/vnd.jupyter.widget-view+json": {
       "model_id": "7cb5b4d685ec4c0498b88c7edbcd5a90",
       "version_major": 2,
       "version_minor": 0
      },
      "text/plain": [
       "Epoch 22/200:   0%|          | 0/68 [00:00<?, ?it/s]"
      ]
     },
     "metadata": {},
     "output_type": "display_data"
    },
    {
     "name": "stdout",
     "output_type": "stream",
     "text": [
      "Epoch 22:\n",
      "Train Loss: 838.3806, Train MAE: 25.04%\n",
      "Val Loss: 834.2157, Val MAE: 25.02%\n"
     ]
    },
    {
     "data": {
      "application/vnd.jupyter.widget-view+json": {
       "model_id": "2a077dfd485543df967afbae1bc514de",
       "version_major": 2,
       "version_minor": 0
      },
      "text/plain": [
       "Epoch 23/200:   0%|          | 0/68 [00:00<?, ?it/s]"
      ]
     },
     "metadata": {},
     "output_type": "display_data"
    },
    {
     "name": "stdout",
     "output_type": "stream",
     "text": [
      "Epoch 23:\n",
      "Train Loss: 834.7476, Train MAE: 24.96%\n",
      "Val Loss: 832.6420, Val MAE: 24.89%\n"
     ]
    },
    {
     "data": {
      "application/vnd.jupyter.widget-view+json": {
       "model_id": "18050b24c202450ab262fb9286e3e496",
       "version_major": 2,
       "version_minor": 0
      },
      "text/plain": [
       "Epoch 24/200:   0%|          | 0/68 [00:00<?, ?it/s]"
      ]
     },
     "metadata": {},
     "output_type": "display_data"
    },
    {
     "name": "stdout",
     "output_type": "stream",
     "text": [
      "Epoch 24:\n",
      "Train Loss: 833.8975, Train MAE: 25.00%\n",
      "Val Loss: 820.2983, Val MAE: 24.76%\n"
     ]
    },
    {
     "data": {
      "application/vnd.jupyter.widget-view+json": {
       "model_id": "e2e94cda8f5548b187ee10cb41a64f2f",
       "version_major": 2,
       "version_minor": 0
      },
      "text/plain": [
       "Epoch 25/200:   0%|          | 0/68 [00:00<?, ?it/s]"
      ]
     },
     "metadata": {},
     "output_type": "display_data"
    },
    {
     "name": "stdout",
     "output_type": "stream",
     "text": [
      "Epoch 25:\n",
      "Train Loss: 829.8295, Train MAE: 24.81%\n",
      "Val Loss: 850.2268, Val MAE: 25.18%\n"
     ]
    },
    {
     "data": {
      "application/vnd.jupyter.widget-view+json": {
       "model_id": "51d7b5a2bb54486c92c2c55884c7ffc9",
       "version_major": 2,
       "version_minor": 0
      },
      "text/plain": [
       "Epoch 26/200:   0%|          | 0/68 [00:00<?, ?it/s]"
      ]
     },
     "metadata": {},
     "output_type": "display_data"
    },
    {
     "name": "stdout",
     "output_type": "stream",
     "text": [
      "Epoch 26:\n",
      "Train Loss: 815.8214, Train MAE: 24.59%\n",
      "Val Loss: 859.9904, Val MAE: 25.15%\n"
     ]
    },
    {
     "data": {
      "application/vnd.jupyter.widget-view+json": {
       "model_id": "68be1e6a91024aa2a4ebdccc5f9b231f",
       "version_major": 2,
       "version_minor": 0
      },
      "text/plain": [
       "Epoch 27/200:   0%|          | 0/68 [00:00<?, ?it/s]"
      ]
     },
     "metadata": {},
     "output_type": "display_data"
    },
    {
     "name": "stdout",
     "output_type": "stream",
     "text": [
      "Epoch 27:\n",
      "Train Loss: 820.1375, Train MAE: 24.59%\n",
      "Val Loss: 820.6853, Val MAE: 24.80%\n"
     ]
    },
    {
     "data": {
      "application/vnd.jupyter.widget-view+json": {
       "model_id": "5257b09617214c318944bc63c8b3274d",
       "version_major": 2,
       "version_minor": 0
      },
      "text/plain": [
       "Epoch 28/200:   0%|          | 0/68 [00:00<?, ?it/s]"
      ]
     },
     "metadata": {},
     "output_type": "display_data"
    },
    {
     "name": "stdout",
     "output_type": "stream",
     "text": [
      "Epoch 28:\n",
      "Train Loss: 822.0330, Train MAE: 24.77%\n",
      "Val Loss: 815.4113, Val MAE: 24.62%\n"
     ]
    },
    {
     "data": {
      "application/vnd.jupyter.widget-view+json": {
       "model_id": "d53946195ec246b386ca4591a4b1f608",
       "version_major": 2,
       "version_minor": 0
      },
      "text/plain": [
       "Epoch 29/200:   0%|          | 0/68 [00:00<?, ?it/s]"
      ]
     },
     "metadata": {},
     "output_type": "display_data"
    },
    {
     "name": "stdout",
     "output_type": "stream",
     "text": [
      "Epoch 29:\n",
      "Train Loss: 801.2042, Train MAE: 24.36%\n",
      "Val Loss: 782.3155, Val MAE: 23.91%\n"
     ]
    },
    {
     "data": {
      "application/vnd.jupyter.widget-view+json": {
       "model_id": "db2f28e2893346bda8598a6af535cb77",
       "version_major": 2,
       "version_minor": 0
      },
      "text/plain": [
       "Epoch 30/200:   0%|          | 0/68 [00:00<?, ?it/s]"
      ]
     },
     "metadata": {},
     "output_type": "display_data"
    },
    {
     "name": "stdout",
     "output_type": "stream",
     "text": [
      "Epoch 30:\n",
      "Train Loss: 801.1172, Train MAE: 24.28%\n",
      "Val Loss: 777.9243, Val MAE: 23.79%\n"
     ]
    },
    {
     "data": {
      "application/vnd.jupyter.widget-view+json": {
       "model_id": "211f5df2838e4ce2a43137d3af5d3bef",
       "version_major": 2,
       "version_minor": 0
      },
      "text/plain": [
       "Epoch 31/200:   0%|          | 0/68 [00:00<?, ?it/s]"
      ]
     },
     "metadata": {},
     "output_type": "display_data"
    },
    {
     "name": "stdout",
     "output_type": "stream",
     "text": [
      "Epoch 31:\n",
      "Train Loss: 799.9842, Train MAE: 24.23%\n",
      "Val Loss: 800.8213, Val MAE: 24.30%\n"
     ]
    },
    {
     "data": {
      "application/vnd.jupyter.widget-view+json": {
       "model_id": "854041fa38bb4b91b35d92ab2de9b691",
       "version_major": 2,
       "version_minor": 0
      },
      "text/plain": [
       "Epoch 32/200:   0%|          | 0/68 [00:00<?, ?it/s]"
      ]
     },
     "metadata": {},
     "output_type": "display_data"
    },
    {
     "name": "stdout",
     "output_type": "stream",
     "text": [
      "Epoch 32:\n",
      "Train Loss: 781.4258, Train MAE: 23.85%\n",
      "Val Loss: 763.7571, Val MAE: 23.53%\n"
     ]
    },
    {
     "data": {
      "application/vnd.jupyter.widget-view+json": {
       "model_id": "2cd24ddbb1c54010b4a103c9a9020307",
       "version_major": 2,
       "version_minor": 0
      },
      "text/plain": [
       "Epoch 33/200:   0%|          | 0/68 [00:00<?, ?it/s]"
      ]
     },
     "metadata": {},
     "output_type": "display_data"
    },
    {
     "name": "stdout",
     "output_type": "stream",
     "text": [
      "Epoch 33:\n",
      "Train Loss: 788.6793, Train MAE: 23.93%\n",
      "Val Loss: 774.3649, Val MAE: 23.73%\n"
     ]
    },
    {
     "data": {
      "application/vnd.jupyter.widget-view+json": {
       "model_id": "bfa83275df1d4a9b9c57d264e16ae8e3",
       "version_major": 2,
       "version_minor": 0
      },
      "text/plain": [
       "Epoch 34/200:   0%|          | 0/68 [00:00<?, ?it/s]"
      ]
     },
     "metadata": {},
     "output_type": "display_data"
    },
    {
     "name": "stdout",
     "output_type": "stream",
     "text": [
      "Epoch 34:\n",
      "Train Loss: 781.9830, Train MAE: 23.90%\n",
      "Val Loss: 762.0172, Val MAE: 23.59%\n"
     ]
    },
    {
     "data": {
      "application/vnd.jupyter.widget-view+json": {
       "model_id": "8d27a804cea84e0fb44e049cd4442842",
       "version_major": 2,
       "version_minor": 0
      },
      "text/plain": [
       "Epoch 35/200:   0%|          | 0/68 [00:00<?, ?it/s]"
      ]
     },
     "metadata": {},
     "output_type": "display_data"
    },
    {
     "name": "stdout",
     "output_type": "stream",
     "text": [
      "Epoch 35:\n",
      "Train Loss: 776.7187, Train MAE: 23.80%\n",
      "Val Loss: 778.8602, Val MAE: 24.00%\n"
     ]
    },
    {
     "data": {
      "application/vnd.jupyter.widget-view+json": {
       "model_id": "2eaaa76ed1e44b51953ce910453481fb",
       "version_major": 2,
       "version_minor": 0
      },
      "text/plain": [
       "Epoch 36/200:   0%|          | 0/68 [00:00<?, ?it/s]"
      ]
     },
     "metadata": {},
     "output_type": "display_data"
    },
    {
     "name": "stdout",
     "output_type": "stream",
     "text": [
      "Epoch 36:\n",
      "Train Loss: 769.2682, Train MAE: 23.61%\n",
      "Val Loss: 744.4464, Val MAE: 23.06%\n"
     ]
    },
    {
     "data": {
      "application/vnd.jupyter.widget-view+json": {
       "model_id": "da37d7565da34830a789116e59f5d7ba",
       "version_major": 2,
       "version_minor": 0
      },
      "text/plain": [
       "Epoch 37/200:   0%|          | 0/68 [00:00<?, ?it/s]"
      ]
     },
     "metadata": {},
     "output_type": "display_data"
    },
    {
     "name": "stdout",
     "output_type": "stream",
     "text": [
      "Epoch 37:\n",
      "Train Loss: 758.7409, Train MAE: 23.33%\n",
      "Val Loss: 736.8790, Val MAE: 23.02%\n"
     ]
    },
    {
     "data": {
      "application/vnd.jupyter.widget-view+json": {
       "model_id": "2f7ab8df84fb4674a663e58cc7efd4c4",
       "version_major": 2,
       "version_minor": 0
      },
      "text/plain": [
       "Epoch 38/200:   0%|          | 0/68 [00:00<?, ?it/s]"
      ]
     },
     "metadata": {},
     "output_type": "display_data"
    },
    {
     "name": "stdout",
     "output_type": "stream",
     "text": [
      "Epoch 38:\n",
      "Train Loss: 766.6295, Train MAE: 23.51%\n",
      "Val Loss: 742.1850, Val MAE: 23.12%\n"
     ]
    },
    {
     "data": {
      "application/vnd.jupyter.widget-view+json": {
       "model_id": "a832edf7e2d84e19b34e2d4f0797d5d3",
       "version_major": 2,
       "version_minor": 0
      },
      "text/plain": [
       "Epoch 39/200:   0%|          | 0/68 [00:00<?, ?it/s]"
      ]
     },
     "metadata": {},
     "output_type": "display_data"
    },
    {
     "name": "stdout",
     "output_type": "stream",
     "text": [
      "Epoch 39:\n",
      "Train Loss: 740.6977, Train MAE: 22.93%\n",
      "Val Loss: 715.1343, Val MAE: 22.48%\n"
     ]
    },
    {
     "data": {
      "application/vnd.jupyter.widget-view+json": {
       "model_id": "b6e6e14436cc4dac820cc81394fe39ea",
       "version_major": 2,
       "version_minor": 0
      },
      "text/plain": [
       "Epoch 40/200:   0%|          | 0/68 [00:00<?, ?it/s]"
      ]
     },
     "metadata": {},
     "output_type": "display_data"
    },
    {
     "name": "stdout",
     "output_type": "stream",
     "text": [
      "Epoch 40:\n",
      "Train Loss: 743.4732, Train MAE: 22.92%\n",
      "Val Loss: 720.6399, Val MAE: 22.60%\n"
     ]
    },
    {
     "data": {
      "application/vnd.jupyter.widget-view+json": {
       "model_id": "efd23b91ec3f4c629d59d55e048372f0",
       "version_major": 2,
       "version_minor": 0
      },
      "text/plain": [
       "Epoch 41/200:   0%|          | 0/68 [00:00<?, ?it/s]"
      ]
     },
     "metadata": {},
     "output_type": "display_data"
    },
    {
     "name": "stdout",
     "output_type": "stream",
     "text": [
      "Epoch 41:\n",
      "Train Loss: 733.9536, Train MAE: 22.90%\n",
      "Val Loss: 692.4923, Val MAE: 21.95%\n"
     ]
    },
    {
     "data": {
      "application/vnd.jupyter.widget-view+json": {
       "model_id": "9208ae3905ab4cbb9d9fad4eea530a9b",
       "version_major": 2,
       "version_minor": 0
      },
      "text/plain": [
       "Epoch 42/200:   0%|          | 0/68 [00:00<?, ?it/s]"
      ]
     },
     "metadata": {},
     "output_type": "display_data"
    },
    {
     "name": "stdout",
     "output_type": "stream",
     "text": [
      "Epoch 42:\n",
      "Train Loss: 717.7379, Train MAE: 22.44%\n",
      "Val Loss: 708.6134, Val MAE: 21.99%\n"
     ]
    },
    {
     "data": {
      "application/vnd.jupyter.widget-view+json": {
       "model_id": "3e0512524f6e4bcdaaefec6d20a19fa5",
       "version_major": 2,
       "version_minor": 0
      },
      "text/plain": [
       "Epoch 43/200:   0%|          | 0/68 [00:00<?, ?it/s]"
      ]
     },
     "metadata": {},
     "output_type": "display_data"
    },
    {
     "name": "stdout",
     "output_type": "stream",
     "text": [
      "Epoch 43:\n",
      "Train Loss: 727.0798, Train MAE: 22.61%\n",
      "Val Loss: 696.2103, Val MAE: 22.11%\n"
     ]
    },
    {
     "data": {
      "application/vnd.jupyter.widget-view+json": {
       "model_id": "f9e0a3fbaa5c4f9a9f8291f04b4708de",
       "version_major": 2,
       "version_minor": 0
      },
      "text/plain": [
       "Epoch 44/200:   0%|          | 0/68 [00:00<?, ?it/s]"
      ]
     },
     "metadata": {},
     "output_type": "display_data"
    },
    {
     "name": "stdout",
     "output_type": "stream",
     "text": [
      "Epoch 44:\n",
      "Train Loss: 695.3578, Train MAE: 22.13%\n",
      "Val Loss: 666.4590, Val MAE: 21.41%\n"
     ]
    },
    {
     "data": {
      "application/vnd.jupyter.widget-view+json": {
       "model_id": "1d88566db0344ee2be41033fcec16731",
       "version_major": 2,
       "version_minor": 0
      },
      "text/plain": [
       "Epoch 45/200:   0%|          | 0/68 [00:00<?, ?it/s]"
      ]
     },
     "metadata": {},
     "output_type": "display_data"
    },
    {
     "name": "stdout",
     "output_type": "stream",
     "text": [
      "Epoch 45:\n",
      "Train Loss: 714.9195, Train MAE: 22.36%\n",
      "Val Loss: 665.3692, Val MAE: 21.52%\n"
     ]
    },
    {
     "data": {
      "application/vnd.jupyter.widget-view+json": {
       "model_id": "e339a26f72d8448fa9ed3c81e8b8638a",
       "version_major": 2,
       "version_minor": 0
      },
      "text/plain": [
       "Epoch 46/200:   0%|          | 0/68 [00:00<?, ?it/s]"
      ]
     },
     "metadata": {},
     "output_type": "display_data"
    },
    {
     "name": "stdout",
     "output_type": "stream",
     "text": [
      "Epoch 46:\n",
      "Train Loss: 696.3315, Train MAE: 22.06%\n",
      "Val Loss: 655.1768, Val MAE: 21.15%\n"
     ]
    },
    {
     "data": {
      "application/vnd.jupyter.widget-view+json": {
       "model_id": "c10f96d8d5b440cda49e6be22487da0a",
       "version_major": 2,
       "version_minor": 0
      },
      "text/plain": [
       "Epoch 47/200:   0%|          | 0/68 [00:00<?, ?it/s]"
      ]
     },
     "metadata": {},
     "output_type": "display_data"
    },
    {
     "name": "stdout",
     "output_type": "stream",
     "text": [
      "Epoch 47:\n",
      "Train Loss: 669.4167, Train MAE: 21.47%\n",
      "Val Loss: 655.2588, Val MAE: 21.26%\n"
     ]
    },
    {
     "data": {
      "application/vnd.jupyter.widget-view+json": {
       "model_id": "3e94e5f4de414731a030b211e9ab5c7c",
       "version_major": 2,
       "version_minor": 0
      },
      "text/plain": [
       "Epoch 48/200:   0%|          | 0/68 [00:00<?, ?it/s]"
      ]
     },
     "metadata": {},
     "output_type": "display_data"
    },
    {
     "name": "stdout",
     "output_type": "stream",
     "text": [
      "Epoch 48:\n",
      "Train Loss: 672.9167, Train MAE: 21.50%\n",
      "Val Loss: 617.6141, Val MAE: 20.34%\n"
     ]
    },
    {
     "data": {
      "application/vnd.jupyter.widget-view+json": {
       "model_id": "5a2f46d524184b4891d2b70a549abbd6",
       "version_major": 2,
       "version_minor": 0
      },
      "text/plain": [
       "Epoch 49/200:   0%|          | 0/68 [00:00<?, ?it/s]"
      ]
     },
     "metadata": {},
     "output_type": "display_data"
    },
    {
     "name": "stdout",
     "output_type": "stream",
     "text": [
      "Epoch 49:\n",
      "Train Loss: 651.5463, Train MAE: 21.02%\n",
      "Val Loss: 616.6441, Val MAE: 20.25%\n"
     ]
    },
    {
     "data": {
      "application/vnd.jupyter.widget-view+json": {
       "model_id": "a386b7697f684b8eb5095e19f0e3b6e5",
       "version_major": 2,
       "version_minor": 0
      },
      "text/plain": [
       "Epoch 50/200:   0%|          | 0/68 [00:00<?, ?it/s]"
      ]
     },
     "metadata": {},
     "output_type": "display_data"
    },
    {
     "name": "stdout",
     "output_type": "stream",
     "text": [
      "Epoch 50:\n",
      "Train Loss: 635.8389, Train MAE: 20.60%\n",
      "Val Loss: 618.7019, Val MAE: 20.50%\n"
     ]
    },
    {
     "data": {
      "application/vnd.jupyter.widget-view+json": {
       "model_id": "a6327619cc7542689052ce9b06c5a3fb",
       "version_major": 2,
       "version_minor": 0
      },
      "text/plain": [
       "Epoch 51/200:   0%|          | 0/68 [00:00<?, ?it/s]"
      ]
     },
     "metadata": {},
     "output_type": "display_data"
    },
    {
     "name": "stdout",
     "output_type": "stream",
     "text": [
      "Epoch 51:\n",
      "Train Loss: 642.1770, Train MAE: 20.84%\n",
      "Val Loss: 590.9205, Val MAE: 19.78%\n"
     ]
    },
    {
     "data": {
      "application/vnd.jupyter.widget-view+json": {
       "model_id": "0879c0512c484dc79270840c26470bbc",
       "version_major": 2,
       "version_minor": 0
      },
      "text/plain": [
       "Epoch 52/200:   0%|          | 0/68 [00:00<?, ?it/s]"
      ]
     },
     "metadata": {},
     "output_type": "display_data"
    },
    {
     "name": "stdout",
     "output_type": "stream",
     "text": [
      "Epoch 52:\n",
      "Train Loss: 622.0685, Train MAE: 20.41%\n",
      "Val Loss: 594.1480, Val MAE: 19.95%\n"
     ]
    },
    {
     "data": {
      "application/vnd.jupyter.widget-view+json": {
       "model_id": "59822d2f3ecb4be8aaf70b5bbe441630",
       "version_major": 2,
       "version_minor": 0
      },
      "text/plain": [
       "Epoch 53/200:   0%|          | 0/68 [00:00<?, ?it/s]"
      ]
     },
     "metadata": {},
     "output_type": "display_data"
    },
    {
     "name": "stdout",
     "output_type": "stream",
     "text": [
      "Epoch 53:\n",
      "Train Loss: 621.2595, Train MAE: 20.35%\n",
      "Val Loss: 607.8140, Val MAE: 20.35%\n"
     ]
    },
    {
     "data": {
      "application/vnd.jupyter.widget-view+json": {
       "model_id": "dfd976a0be3d4236aa6a6f904d9c356f",
       "version_major": 2,
       "version_minor": 0
      },
      "text/plain": [
       "Epoch 54/200:   0%|          | 0/68 [00:00<?, ?it/s]"
      ]
     },
     "metadata": {},
     "output_type": "display_data"
    },
    {
     "name": "stdout",
     "output_type": "stream",
     "text": [
      "Epoch 54:\n",
      "Train Loss: 605.5629, Train MAE: 20.03%\n",
      "Val Loss: 545.6821, Val MAE: 18.69%\n"
     ]
    },
    {
     "data": {
      "application/vnd.jupyter.widget-view+json": {
       "model_id": "c17065b31b8b45c496a0f9dceb539f36",
       "version_major": 2,
       "version_minor": 0
      },
      "text/plain": [
       "Epoch 55/200:   0%|          | 0/68 [00:00<?, ?it/s]"
      ]
     },
     "metadata": {},
     "output_type": "display_data"
    },
    {
     "name": "stdout",
     "output_type": "stream",
     "text": [
      "Epoch 55:\n",
      "Train Loss: 598.4219, Train MAE: 19.70%\n",
      "Val Loss: 587.4538, Val MAE: 19.87%\n"
     ]
    },
    {
     "data": {
      "application/vnd.jupyter.widget-view+json": {
       "model_id": "583f7576e213479e911d751356f807b0",
       "version_major": 2,
       "version_minor": 0
      },
      "text/plain": [
       "Epoch 56/200:   0%|          | 0/68 [00:00<?, ?it/s]"
      ]
     },
     "metadata": {},
     "output_type": "display_data"
    },
    {
     "name": "stdout",
     "output_type": "stream",
     "text": [
      "Epoch 56:\n",
      "Train Loss: 589.8937, Train MAE: 19.84%\n",
      "Val Loss: 524.7365, Val MAE: 18.37%\n"
     ]
    },
    {
     "data": {
      "application/vnd.jupyter.widget-view+json": {
       "model_id": "e2aea318cb904ec3bca350438efa6c96",
       "version_major": 2,
       "version_minor": 0
      },
      "text/plain": [
       "Epoch 57/200:   0%|          | 0/68 [00:00<?, ?it/s]"
      ]
     },
     "metadata": {},
     "output_type": "display_data"
    },
    {
     "name": "stdout",
     "output_type": "stream",
     "text": [
      "Epoch 57:\n",
      "Train Loss: 562.2888, Train MAE: 19.13%\n",
      "Val Loss: 518.1805, Val MAE: 18.11%\n"
     ]
    },
    {
     "data": {
      "application/vnd.jupyter.widget-view+json": {
       "model_id": "d3b256713d7e48bfaa1d7e4a3eaafd00",
       "version_major": 2,
       "version_minor": 0
      },
      "text/plain": [
       "Epoch 58/200:   0%|          | 0/68 [00:00<?, ?it/s]"
      ]
     },
     "metadata": {},
     "output_type": "display_data"
    },
    {
     "name": "stdout",
     "output_type": "stream",
     "text": [
      "Epoch 58:\n",
      "Train Loss: 560.8404, Train MAE: 18.91%\n",
      "Val Loss: 551.2431, Val MAE: 18.75%\n"
     ]
    },
    {
     "data": {
      "application/vnd.jupyter.widget-view+json": {
       "model_id": "67c68fdfb28b42a6a57799f1c9b288bb",
       "version_major": 2,
       "version_minor": 0
      },
      "text/plain": [
       "Epoch 59/200:   0%|          | 0/68 [00:00<?, ?it/s]"
      ]
     },
     "metadata": {},
     "output_type": "display_data"
    },
    {
     "name": "stdout",
     "output_type": "stream",
     "text": [
      "Epoch 59:\n",
      "Train Loss: 561.1080, Train MAE: 19.24%\n",
      "Val Loss: 586.0581, Val MAE: 19.49%\n"
     ]
    },
    {
     "data": {
      "application/vnd.jupyter.widget-view+json": {
       "model_id": "3319c8692a5c4105b6d8380f9b9fe214",
       "version_major": 2,
       "version_minor": 0
      },
      "text/plain": [
       "Epoch 60/200:   0%|          | 0/68 [00:00<?, ?it/s]"
      ]
     },
     "metadata": {},
     "output_type": "display_data"
    },
    {
     "name": "stdout",
     "output_type": "stream",
     "text": [
      "Epoch 60:\n",
      "Train Loss: 544.7060, Train MAE: 18.61%\n",
      "Val Loss: 521.7466, Val MAE: 17.97%\n"
     ]
    },
    {
     "data": {
      "application/vnd.jupyter.widget-view+json": {
       "model_id": "aae09617f2bd4b5ea51442322f95a9e1",
       "version_major": 2,
       "version_minor": 0
      },
      "text/plain": [
       "Epoch 61/200:   0%|          | 0/68 [00:00<?, ?it/s]"
      ]
     },
     "metadata": {},
     "output_type": "display_data"
    },
    {
     "name": "stdout",
     "output_type": "stream",
     "text": [
      "Epoch 61:\n",
      "Train Loss: 520.2803, Train MAE: 18.25%\n",
      "Val Loss: 465.5792, Val MAE: 17.00%\n"
     ]
    },
    {
     "data": {
      "application/vnd.jupyter.widget-view+json": {
       "model_id": "a34574eb45dd4f81963ed2497b074a69",
       "version_major": 2,
       "version_minor": 0
      },
      "text/plain": [
       "Epoch 62/200:   0%|          | 0/68 [00:00<?, ?it/s]"
      ]
     },
     "metadata": {},
     "output_type": "display_data"
    },
    {
     "name": "stdout",
     "output_type": "stream",
     "text": [
      "Epoch 62:\n",
      "Train Loss: 499.9474, Train MAE: 17.77%\n",
      "Val Loss: 458.6171, Val MAE: 16.79%\n"
     ]
    },
    {
     "data": {
      "application/vnd.jupyter.widget-view+json": {
       "model_id": "4c878df01f9b4ce0ae0ef27c13992e23",
       "version_major": 2,
       "version_minor": 0
      },
      "text/plain": [
       "Epoch 63/200:   0%|          | 0/68 [00:00<?, ?it/s]"
      ]
     },
     "metadata": {},
     "output_type": "display_data"
    },
    {
     "name": "stdout",
     "output_type": "stream",
     "text": [
      "Epoch 63:\n",
      "Train Loss: 491.4368, Train MAE: 17.68%\n",
      "Val Loss: 493.0656, Val MAE: 17.63%\n"
     ]
    },
    {
     "data": {
      "application/vnd.jupyter.widget-view+json": {
       "model_id": "2cac798642634605b38105d82b57b8f7",
       "version_major": 2,
       "version_minor": 0
      },
      "text/plain": [
       "Epoch 64/200:   0%|          | 0/68 [00:00<?, ?it/s]"
      ]
     },
     "metadata": {},
     "output_type": "display_data"
    },
    {
     "name": "stdout",
     "output_type": "stream",
     "text": [
      "Epoch 64:\n",
      "Train Loss: 466.6865, Train MAE: 17.03%\n",
      "Val Loss: 698.3552, Val MAE: 20.30%\n"
     ]
    },
    {
     "data": {
      "application/vnd.jupyter.widget-view+json": {
       "model_id": "df96f4d811e441f7bfc88149e93e7970",
       "version_major": 2,
       "version_minor": 0
      },
      "text/plain": [
       "Epoch 65/200:   0%|          | 0/68 [00:00<?, ?it/s]"
      ]
     },
     "metadata": {},
     "output_type": "display_data"
    },
    {
     "name": "stdout",
     "output_type": "stream",
     "text": [
      "Epoch 65:\n",
      "Train Loss: 465.8117, Train MAE: 16.91%\n",
      "Val Loss: 401.2442, Val MAE: 15.61%\n"
     ]
    },
    {
     "data": {
      "application/vnd.jupyter.widget-view+json": {
       "model_id": "1995b71a5f344f27b16ba7fa5bdd53c4",
       "version_major": 2,
       "version_minor": 0
      },
      "text/plain": [
       "Epoch 66/200:   0%|          | 0/68 [00:00<?, ?it/s]"
      ]
     },
     "metadata": {},
     "output_type": "display_data"
    },
    {
     "name": "stdout",
     "output_type": "stream",
     "text": [
      "Epoch 66:\n",
      "Train Loss: 439.4841, Train MAE: 16.40%\n",
      "Val Loss: 395.3975, Val MAE: 15.41%\n"
     ]
    },
    {
     "data": {
      "application/vnd.jupyter.widget-view+json": {
       "model_id": "a194bc27c67c4168b8a81a7885c36e02",
       "version_major": 2,
       "version_minor": 0
      },
      "text/plain": [
       "Epoch 67/200:   0%|          | 0/68 [00:00<?, ?it/s]"
      ]
     },
     "metadata": {},
     "output_type": "display_data"
    },
    {
     "name": "stdout",
     "output_type": "stream",
     "text": [
      "Epoch 67:\n",
      "Train Loss: 418.4193, Train MAE: 15.85%\n",
      "Val Loss: 361.6502, Val MAE: 14.51%\n"
     ]
    },
    {
     "data": {
      "application/vnd.jupyter.widget-view+json": {
       "model_id": "a13aa01cda184909b46fec426c4ffff5",
       "version_major": 2,
       "version_minor": 0
      },
      "text/plain": [
       "Epoch 68/200:   0%|          | 0/68 [00:00<?, ?it/s]"
      ]
     },
     "metadata": {},
     "output_type": "display_data"
    },
    {
     "name": "stdout",
     "output_type": "stream",
     "text": [
      "Epoch 68:\n",
      "Train Loss: 431.2268, Train MAE: 16.30%\n",
      "Val Loss: 516.0346, Val MAE: 18.32%\n"
     ]
    },
    {
     "data": {
      "application/vnd.jupyter.widget-view+json": {
       "model_id": "e2fb497d633f478cb31c2a3fd4b8e3d3",
       "version_major": 2,
       "version_minor": 0
      },
      "text/plain": [
       "Epoch 69/200:   0%|          | 0/68 [00:00<?, ?it/s]"
      ]
     },
     "metadata": {},
     "output_type": "display_data"
    },
    {
     "name": "stdout",
     "output_type": "stream",
     "text": [
      "Epoch 69:\n",
      "Train Loss: 412.7675, Train MAE: 15.84%\n",
      "Val Loss: 353.9315, Val MAE: 14.29%\n"
     ]
    },
    {
     "data": {
      "application/vnd.jupyter.widget-view+json": {
       "model_id": "e85d1ae580d34b6fbd5abbcc9fc1bec2",
       "version_major": 2,
       "version_minor": 0
      },
      "text/plain": [
       "Epoch 70/200:   0%|          | 0/68 [00:00<?, ?it/s]"
      ]
     },
     "metadata": {},
     "output_type": "display_data"
    },
    {
     "name": "stdout",
     "output_type": "stream",
     "text": [
      "Epoch 70:\n",
      "Train Loss: 395.5798, Train MAE: 15.39%\n",
      "Val Loss: 496.6316, Val MAE: 17.25%\n"
     ]
    },
    {
     "data": {
      "application/vnd.jupyter.widget-view+json": {
       "model_id": "fc5d6506c19744c1b68b75e02e29bec8",
       "version_major": 2,
       "version_minor": 0
      },
      "text/plain": [
       "Epoch 71/200:   0%|          | 0/68 [00:00<?, ?it/s]"
      ]
     },
     "metadata": {},
     "output_type": "display_data"
    },
    {
     "name": "stdout",
     "output_type": "stream",
     "text": [
      "Epoch 71:\n",
      "Train Loss: 369.4278, Train MAE: 14.78%\n",
      "Val Loss: 319.2688, Val MAE: 13.52%\n"
     ]
    },
    {
     "data": {
      "application/vnd.jupyter.widget-view+json": {
       "model_id": "ea0ef6252dfc4123a9294352f1e6a8fb",
       "version_major": 2,
       "version_minor": 0
      },
      "text/plain": [
       "Epoch 72/200:   0%|          | 0/68 [00:00<?, ?it/s]"
      ]
     },
     "metadata": {},
     "output_type": "display_data"
    },
    {
     "name": "stdout",
     "output_type": "stream",
     "text": [
      "Epoch 72:\n",
      "Train Loss: 367.0966, Train MAE: 14.66%\n",
      "Val Loss: 314.3288, Val MAE: 13.25%\n"
     ]
    },
    {
     "data": {
      "application/vnd.jupyter.widget-view+json": {
       "model_id": "8fef1784e28d47fd97f56ca35c2bccac",
       "version_major": 2,
       "version_minor": 0
      },
      "text/plain": [
       "Epoch 73/200:   0%|          | 0/68 [00:00<?, ?it/s]"
      ]
     },
     "metadata": {},
     "output_type": "display_data"
    },
    {
     "name": "stdout",
     "output_type": "stream",
     "text": [
      "Epoch 73:\n",
      "Train Loss: 341.8943, Train MAE: 14.04%\n",
      "Val Loss: 357.0932, Val MAE: 14.55%\n"
     ]
    },
    {
     "data": {
      "application/vnd.jupyter.widget-view+json": {
       "model_id": "6cf1581782194d1a9377c0d473f33970",
       "version_major": 2,
       "version_minor": 0
      },
      "text/plain": [
       "Epoch 74/200:   0%|          | 0/68 [00:00<?, ?it/s]"
      ]
     },
     "metadata": {},
     "output_type": "display_data"
    },
    {
     "name": "stdout",
     "output_type": "stream",
     "text": [
      "Epoch 74:\n",
      "Train Loss: 347.9299, Train MAE: 14.17%\n",
      "Val Loss: 351.4742, Val MAE: 14.44%\n"
     ]
    },
    {
     "data": {
      "application/vnd.jupyter.widget-view+json": {
       "model_id": "674ef4db51c0453eb0d3a79e8ce9f0fe",
       "version_major": 2,
       "version_minor": 0
      },
      "text/plain": [
       "Epoch 75/200:   0%|          | 0/68 [00:00<?, ?it/s]"
      ]
     },
     "metadata": {},
     "output_type": "display_data"
    },
    {
     "name": "stdout",
     "output_type": "stream",
     "text": [
      "Epoch 75:\n",
      "Train Loss: 339.7678, Train MAE: 14.10%\n",
      "Val Loss: 288.0099, Val MAE: 12.65%\n"
     ]
    },
    {
     "data": {
      "application/vnd.jupyter.widget-view+json": {
       "model_id": "99470dedaa654cfcb50709509a80b73c",
       "version_major": 2,
       "version_minor": 0
      },
      "text/plain": [
       "Epoch 76/200:   0%|          | 0/68 [00:00<?, ?it/s]"
      ]
     },
     "metadata": {},
     "output_type": "display_data"
    },
    {
     "name": "stdout",
     "output_type": "stream",
     "text": [
      "Epoch 76:\n",
      "Train Loss: 332.3688, Train MAE: 13.81%\n",
      "Val Loss: 300.1181, Val MAE: 13.07%\n"
     ]
    },
    {
     "data": {
      "application/vnd.jupyter.widget-view+json": {
       "model_id": "dc07e45002554150b8c7c42c67e5fa70",
       "version_major": 2,
       "version_minor": 0
      },
      "text/plain": [
       "Epoch 77/200:   0%|          | 0/68 [00:00<?, ?it/s]"
      ]
     },
     "metadata": {},
     "output_type": "display_data"
    },
    {
     "name": "stdout",
     "output_type": "stream",
     "text": [
      "Epoch 77:\n",
      "Train Loss: 316.8952, Train MAE: 13.46%\n",
      "Val Loss: 261.1840, Val MAE: 11.91%\n"
     ]
    },
    {
     "data": {
      "application/vnd.jupyter.widget-view+json": {
       "model_id": "8710a23fd74c429cb3ecfaa38bf2c8d5",
       "version_major": 2,
       "version_minor": 0
      },
      "text/plain": [
       "Epoch 78/200:   0%|          | 0/68 [00:00<?, ?it/s]"
      ]
     },
     "metadata": {},
     "output_type": "display_data"
    },
    {
     "name": "stdout",
     "output_type": "stream",
     "text": [
      "Epoch 78:\n",
      "Train Loss: 314.9947, Train MAE: 13.39%\n",
      "Val Loss: 239.5885, Val MAE: 11.12%\n"
     ]
    },
    {
     "data": {
      "application/vnd.jupyter.widget-view+json": {
       "model_id": "2a426e67284e49dd9e8972eb6b9deb7d",
       "version_major": 2,
       "version_minor": 0
      },
      "text/plain": [
       "Epoch 79/200:   0%|          | 0/68 [00:00<?, ?it/s]"
      ]
     },
     "metadata": {},
     "output_type": "display_data"
    },
    {
     "name": "stdout",
     "output_type": "stream",
     "text": [
      "Epoch 79:\n",
      "Train Loss: 297.6312, Train MAE: 12.97%\n",
      "Val Loss: 288.7492, Val MAE: 13.06%\n"
     ]
    },
    {
     "data": {
      "application/vnd.jupyter.widget-view+json": {
       "model_id": "14c9b9fad50e4bd8aa123f07f460b7ea",
       "version_major": 2,
       "version_minor": 0
      },
      "text/plain": [
       "Epoch 80/200:   0%|          | 0/68 [00:00<?, ?it/s]"
      ]
     },
     "metadata": {},
     "output_type": "display_data"
    },
    {
     "name": "stdout",
     "output_type": "stream",
     "text": [
      "Epoch 80:\n",
      "Train Loss: 298.6489, Train MAE: 12.98%\n",
      "Val Loss: 248.8159, Val MAE: 11.54%\n"
     ]
    },
    {
     "data": {
      "application/vnd.jupyter.widget-view+json": {
       "model_id": "7eac48ef51d64f5d9d1774b7472e8934",
       "version_major": 2,
       "version_minor": 0
      },
      "text/plain": [
       "Epoch 81/200:   0%|          | 0/68 [00:00<?, ?it/s]"
      ]
     },
     "metadata": {},
     "output_type": "display_data"
    },
    {
     "name": "stdout",
     "output_type": "stream",
     "text": [
      "Epoch 81:\n",
      "Train Loss: 290.8354, Train MAE: 12.79%\n",
      "Val Loss: 219.4213, Val MAE: 10.52%\n"
     ]
    },
    {
     "data": {
      "application/vnd.jupyter.widget-view+json": {
       "model_id": "aa741be9f28343178eb4b8ab2eb7ff73",
       "version_major": 2,
       "version_minor": 0
      },
      "text/plain": [
       "Epoch 82/200:   0%|          | 0/68 [00:00<?, ?it/s]"
      ]
     },
     "metadata": {},
     "output_type": "display_data"
    },
    {
     "name": "stdout",
     "output_type": "stream",
     "text": [
      "Epoch 82:\n",
      "Train Loss: 274.5485, Train MAE: 12.34%\n",
      "Val Loss: 264.6362, Val MAE: 11.91%\n"
     ]
    },
    {
     "data": {
      "application/vnd.jupyter.widget-view+json": {
       "model_id": "3871da780dc149b38f21bb34af2e4d72",
       "version_major": 2,
       "version_minor": 0
      },
      "text/plain": [
       "Epoch 83/200:   0%|          | 0/68 [00:00<?, ?it/s]"
      ]
     },
     "metadata": {},
     "output_type": "display_data"
    },
    {
     "name": "stdout",
     "output_type": "stream",
     "text": [
      "Epoch 83:\n",
      "Train Loss: 280.8829, Train MAE: 12.64%\n",
      "Val Loss: 287.6466, Val MAE: 12.74%\n"
     ]
    },
    {
     "data": {
      "application/vnd.jupyter.widget-view+json": {
       "model_id": "7db54a1b5fee4840a44c2eb4a26203b4",
       "version_major": 2,
       "version_minor": 0
      },
      "text/plain": [
       "Epoch 84/200:   0%|          | 0/68 [00:00<?, ?it/s]"
      ]
     },
     "metadata": {},
     "output_type": "display_data"
    },
    {
     "name": "stdout",
     "output_type": "stream",
     "text": [
      "Epoch 84:\n",
      "Train Loss: 274.6207, Train MAE: 12.25%\n",
      "Val Loss: 218.6540, Val MAE: 10.77%\n"
     ]
    },
    {
     "data": {
      "application/vnd.jupyter.widget-view+json": {
       "model_id": "8e021c9bec9947829ba7e8ab15b2da58",
       "version_major": 2,
       "version_minor": 0
      },
      "text/plain": [
       "Epoch 85/200:   0%|          | 0/68 [00:00<?, ?it/s]"
      ]
     },
     "metadata": {},
     "output_type": "display_data"
    },
    {
     "name": "stdout",
     "output_type": "stream",
     "text": [
      "Epoch 85:\n",
      "Train Loss: 266.1655, Train MAE: 12.21%\n",
      "Val Loss: 212.3405, Val MAE: 10.33%\n"
     ]
    },
    {
     "data": {
      "application/vnd.jupyter.widget-view+json": {
       "model_id": "1670903df3dc4ee49c4ad4edba2e1057",
       "version_major": 2,
       "version_minor": 0
      },
      "text/plain": [
       "Epoch 86/200:   0%|          | 0/68 [00:00<?, ?it/s]"
      ]
     },
     "metadata": {},
     "output_type": "display_data"
    },
    {
     "name": "stdout",
     "output_type": "stream",
     "text": [
      "Epoch 86:\n",
      "Train Loss: 263.5847, Train MAE: 11.95%\n",
      "Val Loss: 199.2127, Val MAE: 9.99%\n"
     ]
    },
    {
     "data": {
      "application/vnd.jupyter.widget-view+json": {
       "model_id": "add72ae28eb94182a715796dbeaf7dd6",
       "version_major": 2,
       "version_minor": 0
      },
      "text/plain": [
       "Epoch 87/200:   0%|          | 0/68 [00:00<?, ?it/s]"
      ]
     },
     "metadata": {},
     "output_type": "display_data"
    },
    {
     "name": "stdout",
     "output_type": "stream",
     "text": [
      "Epoch 87:\n",
      "Train Loss: 288.2162, Train MAE: 12.75%\n",
      "Val Loss: 286.1197, Val MAE: 12.90%\n"
     ]
    },
    {
     "data": {
      "application/vnd.jupyter.widget-view+json": {
       "model_id": "d6cdb808c7a7413b9195c9d9745329e9",
       "version_major": 2,
       "version_minor": 0
      },
      "text/plain": [
       "Epoch 88/200:   0%|          | 0/68 [00:00<?, ?it/s]"
      ]
     },
     "metadata": {},
     "output_type": "display_data"
    },
    {
     "name": "stdout",
     "output_type": "stream",
     "text": [
      "Epoch 88:\n",
      "Train Loss: 263.0049, Train MAE: 12.08%\n",
      "Val Loss: 197.4628, Val MAE: 9.84%\n"
     ]
    },
    {
     "data": {
      "application/vnd.jupyter.widget-view+json": {
       "model_id": "86078cf72c084c8791fc3de030001a6e",
       "version_major": 2,
       "version_minor": 0
      },
      "text/plain": [
       "Epoch 89/200:   0%|          | 0/68 [00:00<?, ?it/s]"
      ]
     },
     "metadata": {},
     "output_type": "display_data"
    },
    {
     "name": "stdout",
     "output_type": "stream",
     "text": [
      "Epoch 89:\n",
      "Train Loss: 247.7162, Train MAE: 11.50%\n",
      "Val Loss: 194.5183, Val MAE: 9.77%\n"
     ]
    },
    {
     "data": {
      "application/vnd.jupyter.widget-view+json": {
       "model_id": "6a58b3c017384f16a05d46dca8f4a4d7",
       "version_major": 2,
       "version_minor": 0
      },
      "text/plain": [
       "Epoch 90/200:   0%|          | 0/68 [00:00<?, ?it/s]"
      ]
     },
     "metadata": {},
     "output_type": "display_data"
    },
    {
     "name": "stdout",
     "output_type": "stream",
     "text": [
      "Epoch 90:\n",
      "Train Loss: 271.2877, Train MAE: 12.15%\n",
      "Val Loss: 202.5050, Val MAE: 10.23%\n"
     ]
    },
    {
     "data": {
      "application/vnd.jupyter.widget-view+json": {
       "model_id": "bf4ab740f02348df9793445beccd3119",
       "version_major": 2,
       "version_minor": 0
      },
      "text/plain": [
       "Epoch 91/200:   0%|          | 0/68 [00:00<?, ?it/s]"
      ]
     },
     "metadata": {},
     "output_type": "display_data"
    },
    {
     "name": "stdout",
     "output_type": "stream",
     "text": [
      "Epoch 91:\n",
      "Train Loss: 238.0587, Train MAE: 11.36%\n",
      "Val Loss: 178.8486, Val MAE: 9.30%\n"
     ]
    },
    {
     "data": {
      "application/vnd.jupyter.widget-view+json": {
       "model_id": "d6ca2e769bcb44d9a5219d6fb60ebac8",
       "version_major": 2,
       "version_minor": 0
      },
      "text/plain": [
       "Epoch 92/200:   0%|          | 0/68 [00:00<?, ?it/s]"
      ]
     },
     "metadata": {},
     "output_type": "display_data"
    },
    {
     "name": "stdout",
     "output_type": "stream",
     "text": [
      "Epoch 92:\n",
      "Train Loss: 237.9543, Train MAE: 11.33%\n",
      "Val Loss: 170.8276, Val MAE: 8.98%\n"
     ]
    },
    {
     "data": {
      "application/vnd.jupyter.widget-view+json": {
       "model_id": "94f95cf7ac714a56b9644409d37cf183",
       "version_major": 2,
       "version_minor": 0
      },
      "text/plain": [
       "Epoch 93/200:   0%|          | 0/68 [00:00<?, ?it/s]"
      ]
     },
     "metadata": {},
     "output_type": "display_data"
    },
    {
     "name": "stdout",
     "output_type": "stream",
     "text": [
      "Epoch 93:\n",
      "Train Loss: 236.3131, Train MAE: 11.41%\n",
      "Val Loss: 213.2991, Val MAE: 10.74%\n"
     ]
    },
    {
     "data": {
      "application/vnd.jupyter.widget-view+json": {
       "model_id": "fb98d23e8dd1431db021f34fcb791231",
       "version_major": 2,
       "version_minor": 0
      },
      "text/plain": [
       "Epoch 94/200:   0%|          | 0/68 [00:00<?, ?it/s]"
      ]
     },
     "metadata": {},
     "output_type": "display_data"
    },
    {
     "name": "stdout",
     "output_type": "stream",
     "text": [
      "Epoch 94:\n",
      "Train Loss: 216.2424, Train MAE: 10.75%\n",
      "Val Loss: 187.4564, Val MAE: 9.64%\n"
     ]
    },
    {
     "data": {
      "application/vnd.jupyter.widget-view+json": {
       "model_id": "96da754742ad4cbeb7359a7a1034074d",
       "version_major": 2,
       "version_minor": 0
      },
      "text/plain": [
       "Epoch 95/200:   0%|          | 0/68 [00:00<?, ?it/s]"
      ]
     },
     "metadata": {},
     "output_type": "display_data"
    },
    {
     "name": "stdout",
     "output_type": "stream",
     "text": [
      "Epoch 95:\n",
      "Train Loss: 226.9608, Train MAE: 11.13%\n",
      "Val Loss: 196.8845, Val MAE: 10.18%\n"
     ]
    },
    {
     "data": {
      "application/vnd.jupyter.widget-view+json": {
       "model_id": "41ee0195a47049dd82394eb3ea78ec16",
       "version_major": 2,
       "version_minor": 0
      },
      "text/plain": [
       "Epoch 96/200:   0%|          | 0/68 [00:00<?, ?it/s]"
      ]
     },
     "metadata": {},
     "output_type": "display_data"
    },
    {
     "name": "stdout",
     "output_type": "stream",
     "text": [
      "Epoch 96:\n",
      "Train Loss: 216.2462, Train MAE: 10.78%\n",
      "Val Loss: 168.4214, Val MAE: 9.10%\n"
     ]
    },
    {
     "data": {
      "application/vnd.jupyter.widget-view+json": {
       "model_id": "4ecc1c98335a4033b0fa6411d79579aa",
       "version_major": 2,
       "version_minor": 0
      },
      "text/plain": [
       "Epoch 97/200:   0%|          | 0/68 [00:00<?, ?it/s]"
      ]
     },
     "metadata": {},
     "output_type": "display_data"
    },
    {
     "name": "stdout",
     "output_type": "stream",
     "text": [
      "Epoch 97:\n",
      "Train Loss: 211.8474, Train MAE: 10.55%\n",
      "Val Loss: 184.3713, Val MAE: 9.78%\n"
     ]
    },
    {
     "data": {
      "application/vnd.jupyter.widget-view+json": {
       "model_id": "5e5780ddfe824d3485420b44f1d2e7f5",
       "version_major": 2,
       "version_minor": 0
      },
      "text/plain": [
       "Epoch 98/200:   0%|          | 0/68 [00:00<?, ?it/s]"
      ]
     },
     "metadata": {},
     "output_type": "display_data"
    },
    {
     "name": "stdout",
     "output_type": "stream",
     "text": [
      "Epoch 98:\n",
      "Train Loss: 221.6701, Train MAE: 10.96%\n",
      "Val Loss: 154.1899, Val MAE: 8.52%\n"
     ]
    },
    {
     "data": {
      "application/vnd.jupyter.widget-view+json": {
       "model_id": "bd565315402a43689017f7ef1295fd3c",
       "version_major": 2,
       "version_minor": 0
      },
      "text/plain": [
       "Epoch 99/200:   0%|          | 0/68 [00:00<?, ?it/s]"
      ]
     },
     "metadata": {},
     "output_type": "display_data"
    },
    {
     "name": "stdout",
     "output_type": "stream",
     "text": [
      "Epoch 99:\n",
      "Train Loss: 211.5413, Train MAE: 10.63%\n",
      "Val Loss: 156.8117, Val MAE: 8.64%\n"
     ]
    },
    {
     "data": {
      "application/vnd.jupyter.widget-view+json": {
       "model_id": "1b65a5ab4056414ca62e980b50e24625",
       "version_major": 2,
       "version_minor": 0
      },
      "text/plain": [
       "Epoch 100/200:   0%|          | 0/68 [00:00<?, ?it/s]"
      ]
     },
     "metadata": {},
     "output_type": "display_data"
    },
    {
     "name": "stdout",
     "output_type": "stream",
     "text": [
      "Epoch 100:\n",
      "Train Loss: 208.5849, Train MAE: 10.42%\n",
      "Val Loss: 163.5880, Val MAE: 8.74%\n"
     ]
    },
    {
     "data": {
      "application/vnd.jupyter.widget-view+json": {
       "model_id": "b824553757e149ff95330ba9063ae38a",
       "version_major": 2,
       "version_minor": 0
      },
      "text/plain": [
       "Epoch 101/200:   0%|          | 0/68 [00:00<?, ?it/s]"
      ]
     },
     "metadata": {},
     "output_type": "display_data"
    },
    {
     "name": "stdout",
     "output_type": "stream",
     "text": [
      "Epoch 101:\n",
      "Train Loss: 208.5642, Train MAE: 10.55%\n",
      "Val Loss: 197.4059, Val MAE: 10.46%\n"
     ]
    },
    {
     "data": {
      "application/vnd.jupyter.widget-view+json": {
       "model_id": "4d501e57cdd540e28c994f686ecf7bd4",
       "version_major": 2,
       "version_minor": 0
      },
      "text/plain": [
       "Epoch 102/200:   0%|          | 0/68 [00:00<?, ?it/s]"
      ]
     },
     "metadata": {},
     "output_type": "display_data"
    },
    {
     "name": "stdout",
     "output_type": "stream",
     "text": [
      "Epoch 102:\n",
      "Train Loss: 201.8387, Train MAE: 10.38%\n",
      "Val Loss: 176.4938, Val MAE: 9.42%\n"
     ]
    },
    {
     "data": {
      "application/vnd.jupyter.widget-view+json": {
       "model_id": "89f0487d533644528472d17df6d90db4",
       "version_major": 2,
       "version_minor": 0
      },
      "text/plain": [
       "Epoch 103/200:   0%|          | 0/68 [00:00<?, ?it/s]"
      ]
     },
     "metadata": {},
     "output_type": "display_data"
    },
    {
     "name": "stdout",
     "output_type": "stream",
     "text": [
      "Epoch 103:\n",
      "Train Loss: 214.1311, Train MAE: 10.69%\n",
      "Val Loss: 257.7618, Val MAE: 12.18%\n"
     ]
    },
    {
     "data": {
      "application/vnd.jupyter.widget-view+json": {
       "model_id": "f770e3dbca01417d9ae58943f1c0253b",
       "version_major": 2,
       "version_minor": 0
      },
      "text/plain": [
       "Epoch 104/200:   0%|          | 0/68 [00:00<?, ?it/s]"
      ]
     },
     "metadata": {},
     "output_type": "display_data"
    },
    {
     "name": "stdout",
     "output_type": "stream",
     "text": [
      "Epoch 104:\n",
      "Train Loss: 195.1011, Train MAE: 10.31%\n",
      "Val Loss: 142.0419, Val MAE: 8.07%\n"
     ]
    },
    {
     "data": {
      "application/vnd.jupyter.widget-view+json": {
       "model_id": "778e62697f054160a7d81364d64f867b",
       "version_major": 2,
       "version_minor": 0
      },
      "text/plain": [
       "Epoch 105/200:   0%|          | 0/68 [00:00<?, ?it/s]"
      ]
     },
     "metadata": {},
     "output_type": "display_data"
    },
    {
     "name": "stdout",
     "output_type": "stream",
     "text": [
      "Epoch 105:\n",
      "Train Loss: 204.3717, Train MAE: 10.39%\n",
      "Val Loss: 168.9568, Val MAE: 9.41%\n"
     ]
    },
    {
     "data": {
      "application/vnd.jupyter.widget-view+json": {
       "model_id": "32abf633a28c4ef9b260ab1bd0dce0b2",
       "version_major": 2,
       "version_minor": 0
      },
      "text/plain": [
       "Epoch 106/200:   0%|          | 0/68 [00:00<?, ?it/s]"
      ]
     },
     "metadata": {},
     "output_type": "display_data"
    },
    {
     "name": "stdout",
     "output_type": "stream",
     "text": [
      "Epoch 106:\n",
      "Train Loss: 193.2562, Train MAE: 10.05%\n",
      "Val Loss: 140.3282, Val MAE: 8.01%\n"
     ]
    },
    {
     "data": {
      "application/vnd.jupyter.widget-view+json": {
       "model_id": "fb23b2ab1b0c4256b16ef42798cf14b0",
       "version_major": 2,
       "version_minor": 0
      },
      "text/plain": [
       "Epoch 107/200:   0%|          | 0/68 [00:00<?, ?it/s]"
      ]
     },
     "metadata": {},
     "output_type": "display_data"
    },
    {
     "name": "stdout",
     "output_type": "stream",
     "text": [
      "Epoch 107:\n",
      "Train Loss: 179.5357, Train MAE: 9.60%\n",
      "Val Loss: 132.1671, Val MAE: 7.51%\n"
     ]
    },
    {
     "data": {
      "application/vnd.jupyter.widget-view+json": {
       "model_id": "36ad9f82746247d994437023ba205bd3",
       "version_major": 2,
       "version_minor": 0
      },
      "text/plain": [
       "Epoch 108/200:   0%|          | 0/68 [00:00<?, ?it/s]"
      ]
     },
     "metadata": {},
     "output_type": "display_data"
    },
    {
     "name": "stdout",
     "output_type": "stream",
     "text": [
      "Epoch 108:\n",
      "Train Loss: 181.7011, Train MAE: 9.82%\n",
      "Val Loss: 153.7928, Val MAE: 8.63%\n"
     ]
    },
    {
     "data": {
      "application/vnd.jupyter.widget-view+json": {
       "model_id": "b351c5e7b2ad4a60b60882353e07a2e4",
       "version_major": 2,
       "version_minor": 0
      },
      "text/plain": [
       "Epoch 109/200:   0%|          | 0/68 [00:00<?, ?it/s]"
      ]
     },
     "metadata": {},
     "output_type": "display_data"
    },
    {
     "name": "stdout",
     "output_type": "stream",
     "text": [
      "Epoch 109:\n",
      "Train Loss: 187.0365, Train MAE: 9.95%\n",
      "Val Loss: 210.4414, Val MAE: 10.97%\n"
     ]
    },
    {
     "data": {
      "application/vnd.jupyter.widget-view+json": {
       "model_id": "85daef85ad8940abb20f268e97d9f5ef",
       "version_major": 2,
       "version_minor": 0
      },
      "text/plain": [
       "Epoch 110/200:   0%|          | 0/68 [00:00<?, ?it/s]"
      ]
     },
     "metadata": {},
     "output_type": "display_data"
    },
    {
     "name": "stdout",
     "output_type": "stream",
     "text": [
      "Epoch 110:\n",
      "Train Loss: 177.6996, Train MAE: 9.48%\n",
      "Val Loss: 183.6248, Val MAE: 10.09%\n"
     ]
    },
    {
     "data": {
      "application/vnd.jupyter.widget-view+json": {
       "model_id": "5ff1a46f40fd4bfb9763ba5fc81d0822",
       "version_major": 2,
       "version_minor": 0
      },
      "text/plain": [
       "Epoch 111/200:   0%|          | 0/68 [00:00<?, ?it/s]"
      ]
     },
     "metadata": {},
     "output_type": "display_data"
    },
    {
     "name": "stdout",
     "output_type": "stream",
     "text": [
      "Epoch 111:\n",
      "Train Loss: 176.9614, Train MAE: 9.45%\n",
      "Val Loss: 332.7089, Val MAE: 15.02%\n"
     ]
    },
    {
     "data": {
      "application/vnd.jupyter.widget-view+json": {
       "model_id": "a67e301a758c4d36b9919570bb9613a8",
       "version_major": 2,
       "version_minor": 0
      },
      "text/plain": [
       "Epoch 112/200:   0%|          | 0/68 [00:00<?, ?it/s]"
      ]
     },
     "metadata": {},
     "output_type": "display_data"
    },
    {
     "name": "stdout",
     "output_type": "stream",
     "text": [
      "Epoch 112:\n",
      "Train Loss: 179.1023, Train MAE: 9.52%\n",
      "Val Loss: 130.3469, Val MAE: 7.54%\n"
     ]
    },
    {
     "data": {
      "application/vnd.jupyter.widget-view+json": {
       "model_id": "886485cf08054fa69b360d9d0192edce",
       "version_major": 2,
       "version_minor": 0
      },
      "text/plain": [
       "Epoch 113/200:   0%|          | 0/68 [00:00<?, ?it/s]"
      ]
     },
     "metadata": {},
     "output_type": "display_data"
    },
    {
     "name": "stdout",
     "output_type": "stream",
     "text": [
      "Epoch 113:\n",
      "Train Loss: 168.6127, Train MAE: 9.19%\n",
      "Val Loss: 137.5283, Val MAE: 7.99%\n"
     ]
    },
    {
     "data": {
      "application/vnd.jupyter.widget-view+json": {
       "model_id": "2fb3232ac40440838a6406f9a605fc3f",
       "version_major": 2,
       "version_minor": 0
      },
      "text/plain": [
       "Epoch 114/200:   0%|          | 0/68 [00:00<?, ?it/s]"
      ]
     },
     "metadata": {},
     "output_type": "display_data"
    },
    {
     "name": "stdout",
     "output_type": "stream",
     "text": [
      "Epoch 114:\n",
      "Train Loss: 173.7105, Train MAE: 9.48%\n",
      "Val Loss: 149.3409, Val MAE: 8.73%\n"
     ]
    },
    {
     "data": {
      "application/vnd.jupyter.widget-view+json": {
       "model_id": "930aa0c13d3d4625b6b176076fb42724",
       "version_major": 2,
       "version_minor": 0
      },
      "text/plain": [
       "Epoch 115/200:   0%|          | 0/68 [00:00<?, ?it/s]"
      ]
     },
     "metadata": {},
     "output_type": "display_data"
    },
    {
     "name": "stdout",
     "output_type": "stream",
     "text": [
      "Epoch 115:\n",
      "Train Loss: 172.1742, Train MAE: 9.31%\n",
      "Val Loss: 147.0731, Val MAE: 8.50%\n"
     ]
    },
    {
     "data": {
      "application/vnd.jupyter.widget-view+json": {
       "model_id": "1287203a06334fa8b864fa9558500f2e",
       "version_major": 2,
       "version_minor": 0
      },
      "text/plain": [
       "Epoch 116/200:   0%|          | 0/68 [00:00<?, ?it/s]"
      ]
     },
     "metadata": {},
     "output_type": "display_data"
    },
    {
     "name": "stdout",
     "output_type": "stream",
     "text": [
      "Epoch 116:\n",
      "Train Loss: 170.0701, Train MAE: 9.25%\n",
      "Val Loss: 143.6575, Val MAE: 8.18%\n"
     ]
    },
    {
     "data": {
      "application/vnd.jupyter.widget-view+json": {
       "model_id": "bc3bef98c8c44c96bc42190742a5b2f9",
       "version_major": 2,
       "version_minor": 0
      },
      "text/plain": [
       "Epoch 117/200:   0%|          | 0/68 [00:00<?, ?it/s]"
      ]
     },
     "metadata": {},
     "output_type": "display_data"
    },
    {
     "name": "stdout",
     "output_type": "stream",
     "text": [
      "Epoch 117:\n",
      "Train Loss: 159.9969, Train MAE: 8.92%\n",
      "Val Loss: 118.9498, Val MAE: 7.07%\n"
     ]
    },
    {
     "data": {
      "application/vnd.jupyter.widget-view+json": {
       "model_id": "6cb344d087b9427f9be1f4d7017ee964",
       "version_major": 2,
       "version_minor": 0
      },
      "text/plain": [
       "Epoch 118/200:   0%|          | 0/68 [00:00<?, ?it/s]"
      ]
     },
     "metadata": {},
     "output_type": "display_data"
    },
    {
     "name": "stdout",
     "output_type": "stream",
     "text": [
      "Epoch 118:\n",
      "Train Loss: 171.3663, Train MAE: 9.29%\n",
      "Val Loss: 139.1522, Val MAE: 8.12%\n"
     ]
    },
    {
     "data": {
      "application/vnd.jupyter.widget-view+json": {
       "model_id": "b3b89a45981e459e9955eec2625247e2",
       "version_major": 2,
       "version_minor": 0
      },
      "text/plain": [
       "Epoch 119/200:   0%|          | 0/68 [00:00<?, ?it/s]"
      ]
     },
     "metadata": {},
     "output_type": "display_data"
    },
    {
     "name": "stdout",
     "output_type": "stream",
     "text": [
      "Epoch 119:\n",
      "Train Loss: 168.0313, Train MAE: 9.33%\n",
      "Val Loss: 241.6340, Val MAE: 12.44%\n"
     ]
    },
    {
     "data": {
      "application/vnd.jupyter.widget-view+json": {
       "model_id": "47234aaab17d4a0c9081e33723de1dae",
       "version_major": 2,
       "version_minor": 0
      },
      "text/plain": [
       "Epoch 120/200:   0%|          | 0/68 [00:00<?, ?it/s]"
      ]
     },
     "metadata": {},
     "output_type": "display_data"
    },
    {
     "name": "stdout",
     "output_type": "stream",
     "text": [
      "Epoch 120:\n",
      "Train Loss: 184.0769, Train MAE: 9.73%\n",
      "Val Loss: 197.9141, Val MAE: 10.40%\n"
     ]
    },
    {
     "data": {
      "application/vnd.jupyter.widget-view+json": {
       "model_id": "b3f79af6dc474031b798384fd0e7f09d",
       "version_major": 2,
       "version_minor": 0
      },
      "text/plain": [
       "Epoch 121/200:   0%|          | 0/68 [00:00<?, ?it/s]"
      ]
     },
     "metadata": {},
     "output_type": "display_data"
    },
    {
     "name": "stdout",
     "output_type": "stream",
     "text": [
      "Epoch 121:\n",
      "Train Loss: 173.1849, Train MAE: 9.40%\n",
      "Val Loss: 128.7483, Val MAE: 7.59%\n"
     ]
    },
    {
     "data": {
      "application/vnd.jupyter.widget-view+json": {
       "model_id": "4d683455459f4daca8f79cae8285a548",
       "version_major": 2,
       "version_minor": 0
      },
      "text/plain": [
       "Epoch 122/200:   0%|          | 0/68 [00:00<?, ?it/s]"
      ]
     },
     "metadata": {},
     "output_type": "display_data"
    },
    {
     "name": "stdout",
     "output_type": "stream",
     "text": [
      "Epoch 122:\n",
      "Train Loss: 164.2689, Train MAE: 9.22%\n",
      "Val Loss: 161.1954, Val MAE: 9.03%\n"
     ]
    },
    {
     "data": {
      "application/vnd.jupyter.widget-view+json": {
       "model_id": "911ad8001f0844c6935291cb6267fcbd",
       "version_major": 2,
       "version_minor": 0
      },
      "text/plain": [
       "Epoch 123/200:   0%|          | 0/68 [00:00<?, ?it/s]"
      ]
     },
     "metadata": {},
     "output_type": "display_data"
    },
    {
     "name": "stdout",
     "output_type": "stream",
     "text": [
      "Epoch 123:\n",
      "Train Loss: 171.2131, Train MAE: 9.34%\n",
      "Val Loss: 151.3905, Val MAE: 8.68%\n"
     ]
    },
    {
     "data": {
      "application/vnd.jupyter.widget-view+json": {
       "model_id": "c84646279e7b482e894e6508d183bf60",
       "version_major": 2,
       "version_minor": 0
      },
      "text/plain": [
       "Epoch 124/200:   0%|          | 0/68 [00:00<?, ?it/s]"
      ]
     },
     "metadata": {},
     "output_type": "display_data"
    },
    {
     "name": "stdout",
     "output_type": "stream",
     "text": [
      "Epoch 124:\n",
      "Train Loss: 179.5272, Train MAE: 9.65%\n",
      "Val Loss: 124.7194, Val MAE: 7.28%\n"
     ]
    },
    {
     "data": {
      "application/vnd.jupyter.widget-view+json": {
       "model_id": "e0ebfd6d5c6447e19b3b551b4a7d3598",
       "version_major": 2,
       "version_minor": 0
      },
      "text/plain": [
       "Epoch 125/200:   0%|          | 0/68 [00:00<?, ?it/s]"
      ]
     },
     "metadata": {},
     "output_type": "display_data"
    },
    {
     "name": "stdout",
     "output_type": "stream",
     "text": [
      "Epoch 125:\n",
      "Train Loss: 157.5997, Train MAE: 8.76%\n",
      "Val Loss: 120.1983, Val MAE: 7.08%\n"
     ]
    },
    {
     "data": {
      "application/vnd.jupyter.widget-view+json": {
       "model_id": "357ad0ff42b24a1d84998e7576be12d7",
       "version_major": 2,
       "version_minor": 0
      },
      "text/plain": [
       "Epoch 126/200:   0%|          | 0/68 [00:00<?, ?it/s]"
      ]
     },
     "metadata": {},
     "output_type": "display_data"
    },
    {
     "name": "stdout",
     "output_type": "stream",
     "text": [
      "Epoch 126:\n",
      "Train Loss: 157.8945, Train MAE: 8.82%\n",
      "Val Loss: 134.0829, Val MAE: 7.88%\n"
     ]
    },
    {
     "data": {
      "application/vnd.jupyter.widget-view+json": {
       "model_id": "716340f4308a4ee28cbcecec1401a123",
       "version_major": 2,
       "version_minor": 0
      },
      "text/plain": [
       "Epoch 127/200:   0%|          | 0/68 [00:00<?, ?it/s]"
      ]
     },
     "metadata": {},
     "output_type": "display_data"
    },
    {
     "name": "stdout",
     "output_type": "stream",
     "text": [
      "Epoch 127:\n",
      "Train Loss: 170.3452, Train MAE: 9.27%\n",
      "Val Loss: 169.5424, Val MAE: 9.15%\n"
     ]
    },
    {
     "data": {
      "application/vnd.jupyter.widget-view+json": {
       "model_id": "32ced6f64f0f4c99a55d7343d5ec5449",
       "version_major": 2,
       "version_minor": 0
      },
      "text/plain": [
       "Epoch 128/200:   0%|          | 0/68 [00:00<?, ?it/s]"
      ]
     },
     "metadata": {},
     "output_type": "display_data"
    },
    {
     "name": "stdout",
     "output_type": "stream",
     "text": [
      "Epoch 128:\n",
      "Train Loss: 177.7261, Train MAE: 9.68%\n",
      "Val Loss: 141.8565, Val MAE: 8.13%\n"
     ]
    },
    {
     "data": {
      "application/vnd.jupyter.widget-view+json": {
       "model_id": "fe511068627e4176bf16fb2948cb2e50",
       "version_major": 2,
       "version_minor": 0
      },
      "text/plain": [
       "Epoch 129/200:   0%|          | 0/68 [00:00<?, ?it/s]"
      ]
     },
     "metadata": {},
     "output_type": "display_data"
    },
    {
     "name": "stdout",
     "output_type": "stream",
     "text": [
      "Epoch 129:\n",
      "Train Loss: 160.7896, Train MAE: 9.14%\n",
      "Val Loss: 219.5709, Val MAE: 11.78%\n"
     ]
    },
    {
     "data": {
      "application/vnd.jupyter.widget-view+json": {
       "model_id": "f842a06a6dee4f599d9c68c5032f4fcc",
       "version_major": 2,
       "version_minor": 0
      },
      "text/plain": [
       "Epoch 130/200:   0%|          | 0/68 [00:00<?, ?it/s]"
      ]
     },
     "metadata": {},
     "output_type": "display_data"
    },
    {
     "name": "stdout",
     "output_type": "stream",
     "text": [
      "Epoch 130:\n",
      "Train Loss: 170.4556, Train MAE: 9.28%\n",
      "Val Loss: 170.4416, Val MAE: 9.56%\n"
     ]
    },
    {
     "data": {
      "application/vnd.jupyter.widget-view+json": {
       "model_id": "2208ae1169084bc7ad0eb94ac51b7e53",
       "version_major": 2,
       "version_minor": 0
      },
      "text/plain": [
       "Epoch 131/200:   0%|          | 0/68 [00:00<?, ?it/s]"
      ]
     },
     "metadata": {},
     "output_type": "display_data"
    },
    {
     "name": "stdout",
     "output_type": "stream",
     "text": [
      "Epoch 131:\n",
      "Train Loss: 150.5393, Train MAE: 8.60%\n",
      "Val Loss: 117.1658, Val MAE: 6.96%\n"
     ]
    },
    {
     "data": {
      "application/vnd.jupyter.widget-view+json": {
       "model_id": "024ca7161f834d30921c56b237f16f97",
       "version_major": 2,
       "version_minor": 0
      },
      "text/plain": [
       "Epoch 132/200:   0%|          | 0/68 [00:00<?, ?it/s]"
      ]
     },
     "metadata": {},
     "output_type": "display_data"
    },
    {
     "name": "stdout",
     "output_type": "stream",
     "text": [
      "Epoch 132:\n",
      "Train Loss: 172.6558, Train MAE: 9.45%\n",
      "Val Loss: 151.9199, Val MAE: 8.84%\n"
     ]
    },
    {
     "data": {
      "application/vnd.jupyter.widget-view+json": {
       "model_id": "a01448189b614a51b4aa83bc9d8957c4",
       "version_major": 2,
       "version_minor": 0
      },
      "text/plain": [
       "Epoch 133/200:   0%|          | 0/68 [00:00<?, ?it/s]"
      ]
     },
     "metadata": {},
     "output_type": "display_data"
    },
    {
     "name": "stdout",
     "output_type": "stream",
     "text": [
      "Epoch 133:\n",
      "Train Loss: 155.8474, Train MAE: 8.74%\n",
      "Val Loss: 122.6212, Val MAE: 7.26%\n"
     ]
    },
    {
     "data": {
      "application/vnd.jupyter.widget-view+json": {
       "model_id": "5a7555ef59704445b67dc782dadbc517",
       "version_major": 2,
       "version_minor": 0
      },
      "text/plain": [
       "Epoch 134/200:   0%|          | 0/68 [00:00<?, ?it/s]"
      ]
     },
     "metadata": {},
     "output_type": "display_data"
    },
    {
     "name": "stdout",
     "output_type": "stream",
     "text": [
      "Epoch 134:\n",
      "Train Loss: 166.5561, Train MAE: 9.31%\n",
      "Val Loss: 119.8810, Val MAE: 7.01%\n"
     ]
    },
    {
     "data": {
      "application/vnd.jupyter.widget-view+json": {
       "model_id": "f2c3b81e7a324768b51feff9d984eb6d",
       "version_major": 2,
       "version_minor": 0
      },
      "text/plain": [
       "Epoch 135/200:   0%|          | 0/68 [00:00<?, ?it/s]"
      ]
     },
     "metadata": {},
     "output_type": "display_data"
    },
    {
     "name": "stdout",
     "output_type": "stream",
     "text": [
      "Epoch 135:\n",
      "Train Loss: 159.0564, Train MAE: 8.90%\n",
      "Val Loss: 167.0125, Val MAE: 9.48%\n"
     ]
    },
    {
     "data": {
      "application/vnd.jupyter.widget-view+json": {
       "model_id": "1af6989d9a8b4764b8540fc553a9602d",
       "version_major": 2,
       "version_minor": 0
      },
      "text/plain": [
       "Epoch 136/200:   0%|          | 0/68 [00:00<?, ?it/s]"
      ]
     },
     "metadata": {},
     "output_type": "display_data"
    },
    {
     "name": "stdout",
     "output_type": "stream",
     "text": [
      "Epoch 136:\n",
      "Train Loss: 156.3949, Train MAE: 8.78%\n",
      "Val Loss: 120.9839, Val MAE: 7.19%\n"
     ]
    },
    {
     "data": {
      "application/vnd.jupyter.widget-view+json": {
       "model_id": "b48848d3b3ac4d82b0d8823c06e4f74b",
       "version_major": 2,
       "version_minor": 0
      },
      "text/plain": [
       "Epoch 137/200:   0%|          | 0/68 [00:00<?, ?it/s]"
      ]
     },
     "metadata": {},
     "output_type": "display_data"
    },
    {
     "name": "stdout",
     "output_type": "stream",
     "text": [
      "Epoch 137:\n",
      "Train Loss: 141.0549, Train MAE: 8.12%\n",
      "Val Loss: 116.8395, Val MAE: 6.96%\n"
     ]
    },
    {
     "data": {
      "application/vnd.jupyter.widget-view+json": {
       "model_id": "b677f49b207a4049b46ef10b1bcfc533",
       "version_major": 2,
       "version_minor": 0
      },
      "text/plain": [
       "Epoch 138/200:   0%|          | 0/68 [00:00<?, ?it/s]"
      ]
     },
     "metadata": {},
     "output_type": "display_data"
    },
    {
     "name": "stdout",
     "output_type": "stream",
     "text": [
      "Epoch 138:\n",
      "Train Loss: 161.6782, Train MAE: 8.98%\n",
      "Val Loss: 173.4958, Val MAE: 9.70%\n"
     ]
    },
    {
     "data": {
      "application/vnd.jupyter.widget-view+json": {
       "model_id": "915712d6f1e040fd98da950384fc74a1",
       "version_major": 2,
       "version_minor": 0
      },
      "text/plain": [
       "Epoch 139/200:   0%|          | 0/68 [00:00<?, ?it/s]"
      ]
     },
     "metadata": {},
     "output_type": "display_data"
    },
    {
     "name": "stdout",
     "output_type": "stream",
     "text": [
      "Epoch 139:\n",
      "Train Loss: 151.3436, Train MAE: 8.65%\n",
      "Val Loss: 113.6526, Val MAE: 6.73%\n"
     ]
    },
    {
     "data": {
      "application/vnd.jupyter.widget-view+json": {
       "model_id": "13862a697bad4737b1cdd429015aef27",
       "version_major": 2,
       "version_minor": 0
      },
      "text/plain": [
       "Epoch 140/200:   0%|          | 0/68 [00:00<?, ?it/s]"
      ]
     },
     "metadata": {},
     "output_type": "display_data"
    },
    {
     "name": "stdout",
     "output_type": "stream",
     "text": [
      "Epoch 140:\n",
      "Train Loss: 158.3047, Train MAE: 8.90%\n",
      "Val Loss: 116.1537, Val MAE: 6.85%\n"
     ]
    },
    {
     "data": {
      "application/vnd.jupyter.widget-view+json": {
       "model_id": "1fddec14865c42b59258b86d12e5077c",
       "version_major": 2,
       "version_minor": 0
      },
      "text/plain": [
       "Epoch 141/200:   0%|          | 0/68 [00:00<?, ?it/s]"
      ]
     },
     "metadata": {},
     "output_type": "display_data"
    },
    {
     "name": "stdout",
     "output_type": "stream",
     "text": [
      "Epoch 141:\n",
      "Train Loss: 154.5954, Train MAE: 8.69%\n",
      "Val Loss: 114.2053, Val MAE: 6.68%\n"
     ]
    },
    {
     "data": {
      "application/vnd.jupyter.widget-view+json": {
       "model_id": "38980b6047674303b23a52f5a1249264",
       "version_major": 2,
       "version_minor": 0
      },
      "text/plain": [
       "Epoch 142/200:   0%|          | 0/68 [00:00<?, ?it/s]"
      ]
     },
     "metadata": {},
     "output_type": "display_data"
    },
    {
     "name": "stdout",
     "output_type": "stream",
     "text": [
      "Epoch 142:\n",
      "Train Loss: 145.0016, Train MAE: 8.34%\n",
      "Val Loss: 119.5203, Val MAE: 7.16%\n"
     ]
    },
    {
     "data": {
      "application/vnd.jupyter.widget-view+json": {
       "model_id": "2377db5c7e1840209a5bc0a00c77721a",
       "version_major": 2,
       "version_minor": 0
      },
      "text/plain": [
       "Epoch 143/200:   0%|          | 0/68 [00:00<?, ?it/s]"
      ]
     },
     "metadata": {},
     "output_type": "display_data"
    },
    {
     "name": "stdout",
     "output_type": "stream",
     "text": [
      "Epoch 143:\n",
      "Train Loss: 143.0188, Train MAE: 8.14%\n",
      "Val Loss: 125.0981, Val MAE: 7.35%\n"
     ]
    },
    {
     "data": {
      "application/vnd.jupyter.widget-view+json": {
       "model_id": "fdedde83d199491fb4adc008b199e90f",
       "version_major": 2,
       "version_minor": 0
      },
      "text/plain": [
       "Epoch 144/200:   0%|          | 0/68 [00:00<?, ?it/s]"
      ]
     },
     "metadata": {},
     "output_type": "display_data"
    },
    {
     "name": "stdout",
     "output_type": "stream",
     "text": [
      "Epoch 144:\n",
      "Train Loss: 146.2353, Train MAE: 8.51%\n",
      "Val Loss: 113.9073, Val MAE: 6.69%\n"
     ]
    },
    {
     "data": {
      "application/vnd.jupyter.widget-view+json": {
       "model_id": "19d780bc32594308b8c2b34f701ce192",
       "version_major": 2,
       "version_minor": 0
      },
      "text/plain": [
       "Epoch 145/200:   0%|          | 0/68 [00:00<?, ?it/s]"
      ]
     },
     "metadata": {},
     "output_type": "display_data"
    },
    {
     "name": "stdout",
     "output_type": "stream",
     "text": [
      "Epoch 145:\n",
      "Train Loss: 147.3118, Train MAE: 8.36%\n",
      "Val Loss: 131.3700, Val MAE: 7.69%\n"
     ]
    },
    {
     "data": {
      "application/vnd.jupyter.widget-view+json": {
       "model_id": "c773b8c2d46f4fe3b7274e69cf8da497",
       "version_major": 2,
       "version_minor": 0
      },
      "text/plain": [
       "Epoch 146/200:   0%|          | 0/68 [00:00<?, ?it/s]"
      ]
     },
     "metadata": {},
     "output_type": "display_data"
    },
    {
     "name": "stdout",
     "output_type": "stream",
     "text": [
      "Epoch 146:\n",
      "Train Loss: 156.1457, Train MAE: 8.79%\n",
      "Val Loss: 120.3405, Val MAE: 7.06%\n"
     ]
    },
    {
     "data": {
      "application/vnd.jupyter.widget-view+json": {
       "model_id": "b51e262cd5d5417b89b24ae4cc527f63",
       "version_major": 2,
       "version_minor": 0
      },
      "text/plain": [
       "Epoch 147/200:   0%|          | 0/68 [00:00<?, ?it/s]"
      ]
     },
     "metadata": {},
     "output_type": "display_data"
    },
    {
     "name": "stdout",
     "output_type": "stream",
     "text": [
      "Epoch 147:\n",
      "Train Loss: 142.5154, Train MAE: 8.27%\n",
      "Val Loss: 153.8335, Val MAE: 8.64%\n"
     ]
    },
    {
     "data": {
      "application/vnd.jupyter.widget-view+json": {
       "model_id": "c17f1588ef1d4ab3a1479793d4f9c1ce",
       "version_major": 2,
       "version_minor": 0
      },
      "text/plain": [
       "Epoch 148/200:   0%|          | 0/68 [00:00<?, ?it/s]"
      ]
     },
     "metadata": {},
     "output_type": "display_data"
    },
    {
     "name": "stdout",
     "output_type": "stream",
     "text": [
      "Epoch 148:\n",
      "Train Loss: 143.4817, Train MAE: 8.23%\n",
      "Val Loss: 108.7946, Val MAE: 6.40%\n"
     ]
    },
    {
     "data": {
      "application/vnd.jupyter.widget-view+json": {
       "model_id": "11fcd4c1cba3485390650b5fa1c1612a",
       "version_major": 2,
       "version_minor": 0
      },
      "text/plain": [
       "Epoch 149/200:   0%|          | 0/68 [00:00<?, ?it/s]"
      ]
     },
     "metadata": {},
     "output_type": "display_data"
    },
    {
     "name": "stdout",
     "output_type": "stream",
     "text": [
      "Epoch 149:\n",
      "Train Loss: 155.8185, Train MAE: 8.76%\n",
      "Val Loss: 143.5744, Val MAE: 8.35%\n"
     ]
    },
    {
     "data": {
      "application/vnd.jupyter.widget-view+json": {
       "model_id": "251ab888b8d8473c902cea9c7a21c3c5",
       "version_major": 2,
       "version_minor": 0
      },
      "text/plain": [
       "Epoch 150/200:   0%|          | 0/68 [00:00<?, ?it/s]"
      ]
     },
     "metadata": {},
     "output_type": "display_data"
    },
    {
     "name": "stdout",
     "output_type": "stream",
     "text": [
      "Epoch 150:\n",
      "Train Loss: 149.9504, Train MAE: 8.59%\n",
      "Val Loss: 169.1332, Val MAE: 9.45%\n"
     ]
    },
    {
     "data": {
      "application/vnd.jupyter.widget-view+json": {
       "model_id": "e21d15effe74412f9d56d23d5588a533",
       "version_major": 2,
       "version_minor": 0
      },
      "text/plain": [
       "Epoch 151/200:   0%|          | 0/68 [00:00<?, ?it/s]"
      ]
     },
     "metadata": {},
     "output_type": "display_data"
    },
    {
     "name": "stdout",
     "output_type": "stream",
     "text": [
      "Epoch 151:\n",
      "Train Loss: 154.5833, Train MAE: 8.76%\n",
      "Val Loss: 109.5338, Val MAE: 6.45%\n"
     ]
    },
    {
     "data": {
      "application/vnd.jupyter.widget-view+json": {
       "model_id": "1d119962a1b54ef48e7c07c2a16791f1",
       "version_major": 2,
       "version_minor": 0
      },
      "text/plain": [
       "Epoch 152/200:   0%|          | 0/68 [00:00<?, ?it/s]"
      ]
     },
     "metadata": {},
     "output_type": "display_data"
    },
    {
     "name": "stdout",
     "output_type": "stream",
     "text": [
      "Epoch 152:\n",
      "Train Loss: 139.9846, Train MAE: 8.05%\n",
      "Val Loss: 106.7049, Val MAE: 6.22%\n"
     ]
    },
    {
     "data": {
      "application/vnd.jupyter.widget-view+json": {
       "model_id": "5793d198bece432d964a6179c4601f19",
       "version_major": 2,
       "version_minor": 0
      },
      "text/plain": [
       "Epoch 153/200:   0%|          | 0/68 [00:00<?, ?it/s]"
      ]
     },
     "metadata": {},
     "output_type": "display_data"
    },
    {
     "name": "stdout",
     "output_type": "stream",
     "text": [
      "Epoch 153:\n",
      "Train Loss: 141.8823, Train MAE: 8.15%\n",
      "Val Loss: 145.2472, Val MAE: 8.52%\n"
     ]
    },
    {
     "data": {
      "application/vnd.jupyter.widget-view+json": {
       "model_id": "f7d6544d101149dda3698ab6160a7303",
       "version_major": 2,
       "version_minor": 0
      },
      "text/plain": [
       "Epoch 154/200:   0%|          | 0/68 [00:00<?, ?it/s]"
      ]
     },
     "metadata": {},
     "output_type": "display_data"
    },
    {
     "name": "stdout",
     "output_type": "stream",
     "text": [
      "Epoch 154:\n",
      "Train Loss: 140.4548, Train MAE: 8.08%\n",
      "Val Loss: 100.6319, Val MAE: 5.79%\n"
     ]
    },
    {
     "data": {
      "application/vnd.jupyter.widget-view+json": {
       "model_id": "f55df19049af494da417250c998f3a66",
       "version_major": 2,
       "version_minor": 0
      },
      "text/plain": [
       "Epoch 155/200:   0%|          | 0/68 [00:00<?, ?it/s]"
      ]
     },
     "metadata": {},
     "output_type": "display_data"
    },
    {
     "name": "stdout",
     "output_type": "stream",
     "text": [
      "Epoch 155:\n",
      "Train Loss: 137.7076, Train MAE: 7.91%\n",
      "Val Loss: 102.5777, Val MAE: 5.92%\n"
     ]
    },
    {
     "data": {
      "application/vnd.jupyter.widget-view+json": {
       "model_id": "3ec71563d60446bfb46ebb6c68fd435e",
       "version_major": 2,
       "version_minor": 0
      },
      "text/plain": [
       "Epoch 156/200:   0%|          | 0/68 [00:00<?, ?it/s]"
      ]
     },
     "metadata": {},
     "output_type": "display_data"
    },
    {
     "name": "stdout",
     "output_type": "stream",
     "text": [
      "Epoch 156:\n",
      "Train Loss: 138.0316, Train MAE: 7.98%\n",
      "Val Loss: 102.5248, Val MAE: 5.96%\n"
     ]
    },
    {
     "data": {
      "application/vnd.jupyter.widget-view+json": {
       "model_id": "196b7d6e35e143608d0db097f71903cc",
       "version_major": 2,
       "version_minor": 0
      },
      "text/plain": [
       "Epoch 157/200:   0%|          | 0/68 [00:00<?, ?it/s]"
      ]
     },
     "metadata": {},
     "output_type": "display_data"
    },
    {
     "name": "stdout",
     "output_type": "stream",
     "text": [
      "Epoch 157:\n",
      "Train Loss: 153.5607, Train MAE: 8.68%\n",
      "Val Loss: 123.3740, Val MAE: 7.34%\n"
     ]
    },
    {
     "data": {
      "application/vnd.jupyter.widget-view+json": {
       "model_id": "4dc2728e89a44772b527e52e113d8a10",
       "version_major": 2,
       "version_minor": 0
      },
      "text/plain": [
       "Epoch 158/200:   0%|          | 0/68 [00:00<?, ?it/s]"
      ]
     },
     "metadata": {},
     "output_type": "display_data"
    },
    {
     "name": "stdout",
     "output_type": "stream",
     "text": [
      "Epoch 158:\n",
      "Train Loss: 148.8897, Train MAE: 8.60%\n",
      "Val Loss: 126.8137, Val MAE: 7.33%\n"
     ]
    },
    {
     "data": {
      "application/vnd.jupyter.widget-view+json": {
       "model_id": "700161eb82234dc9bf073e47d2eff03f",
       "version_major": 2,
       "version_minor": 0
      },
      "text/plain": [
       "Epoch 159/200:   0%|          | 0/68 [00:00<?, ?it/s]"
      ]
     },
     "metadata": {},
     "output_type": "display_data"
    },
    {
     "name": "stdout",
     "output_type": "stream",
     "text": [
      "Epoch 159:\n",
      "Train Loss: 140.2390, Train MAE: 8.14%\n",
      "Val Loss: 133.6369, Val MAE: 7.71%\n"
     ]
    },
    {
     "data": {
      "application/vnd.jupyter.widget-view+json": {
       "model_id": "635ee04d333e465c9709f3da7be8be62",
       "version_major": 2,
       "version_minor": 0
      },
      "text/plain": [
       "Epoch 160/200:   0%|          | 0/68 [00:00<?, ?it/s]"
      ]
     },
     "metadata": {},
     "output_type": "display_data"
    },
    {
     "name": "stdout",
     "output_type": "stream",
     "text": [
      "Epoch 160:\n",
      "Train Loss: 145.4077, Train MAE: 8.30%\n",
      "Val Loss: 126.7787, Val MAE: 7.55%\n"
     ]
    },
    {
     "data": {
      "application/vnd.jupyter.widget-view+json": {
       "model_id": "8537d88dfaf649628284dad777eae039",
       "version_major": 2,
       "version_minor": 0
      },
      "text/plain": [
       "Epoch 161/200:   0%|          | 0/68 [00:00<?, ?it/s]"
      ]
     },
     "metadata": {},
     "output_type": "display_data"
    },
    {
     "name": "stdout",
     "output_type": "stream",
     "text": [
      "Epoch 161:\n",
      "Train Loss: 142.6828, Train MAE: 8.30%\n",
      "Val Loss: 211.1492, Val MAE: 11.49%\n"
     ]
    },
    {
     "data": {
      "application/vnd.jupyter.widget-view+json": {
       "model_id": "5b0f2b926fc44718bc994bd9fb4426df",
       "version_major": 2,
       "version_minor": 0
      },
      "text/plain": [
       "Epoch 162/200:   0%|          | 0/68 [00:00<?, ?it/s]"
      ]
     },
     "metadata": {},
     "output_type": "display_data"
    },
    {
     "name": "stdout",
     "output_type": "stream",
     "text": [
      "Epoch 162:\n",
      "Train Loss: 141.0255, Train MAE: 8.09%\n",
      "Val Loss: 137.6508, Val MAE: 7.95%\n"
     ]
    },
    {
     "data": {
      "application/vnd.jupyter.widget-view+json": {
       "model_id": "2fa4dfe161cb461f849e92a86d3fe6d1",
       "version_major": 2,
       "version_minor": 0
      },
      "text/plain": [
       "Epoch 163/200:   0%|          | 0/68 [00:00<?, ?it/s]"
      ]
     },
     "metadata": {},
     "output_type": "display_data"
    },
    {
     "name": "stdout",
     "output_type": "stream",
     "text": [
      "Epoch 163:\n",
      "Train Loss: 144.6659, Train MAE: 8.34%\n",
      "Val Loss: 152.5269, Val MAE: 8.80%\n"
     ]
    },
    {
     "data": {
      "application/vnd.jupyter.widget-view+json": {
       "model_id": "e97cba686c7d4dc0ba0b446f59ef54ce",
       "version_major": 2,
       "version_minor": 0
      },
      "text/plain": [
       "Epoch 164/200:   0%|          | 0/68 [00:00<?, ?it/s]"
      ]
     },
     "metadata": {},
     "output_type": "display_data"
    },
    {
     "name": "stdout",
     "output_type": "stream",
     "text": [
      "Epoch 164:\n",
      "Train Loss: 139.9117, Train MAE: 8.12%\n",
      "Val Loss: 103.8321, Val MAE: 6.03%\n"
     ]
    },
    {
     "data": {
      "application/vnd.jupyter.widget-view+json": {
       "model_id": "228a1fe7a8024d27ab267d49591bf7b9",
       "version_major": 2,
       "version_minor": 0
      },
      "text/plain": [
       "Epoch 165/200:   0%|          | 0/68 [00:00<?, ?it/s]"
      ]
     },
     "metadata": {},
     "output_type": "display_data"
    },
    {
     "name": "stdout",
     "output_type": "stream",
     "text": [
      "Epoch 165:\n",
      "Train Loss: 150.7897, Train MAE: 8.50%\n",
      "Val Loss: 194.8181, Val MAE: 10.91%\n"
     ]
    },
    {
     "data": {
      "application/vnd.jupyter.widget-view+json": {
       "model_id": "81eee356aa9545c285683ba85013f46a",
       "version_major": 2,
       "version_minor": 0
      },
      "text/plain": [
       "Epoch 166/200:   0%|          | 0/68 [00:00<?, ?it/s]"
      ]
     },
     "metadata": {},
     "output_type": "display_data"
    },
    {
     "name": "stdout",
     "output_type": "stream",
     "text": [
      "Epoch 166:\n",
      "Train Loss: 147.8041, Train MAE: 8.43%\n",
      "Val Loss: 132.1128, Val MAE: 7.76%\n"
     ]
    },
    {
     "data": {
      "application/vnd.jupyter.widget-view+json": {
       "model_id": "f817053539aa4dd7bdd97fa4f6452176",
       "version_major": 2,
       "version_minor": 0
      },
      "text/plain": [
       "Epoch 167/200:   0%|          | 0/68 [00:00<?, ?it/s]"
      ]
     },
     "metadata": {},
     "output_type": "display_data"
    },
    {
     "name": "stdout",
     "output_type": "stream",
     "text": [
      "Epoch 167:\n",
      "Train Loss: 145.0438, Train MAE: 8.30%\n",
      "Val Loss: 161.8481, Val MAE: 8.77%\n"
     ]
    },
    {
     "data": {
      "application/vnd.jupyter.widget-view+json": {
       "model_id": "66f7c1dff8a74929befdba161d458e75",
       "version_major": 2,
       "version_minor": 0
      },
      "text/plain": [
       "Epoch 168/200:   0%|          | 0/68 [00:00<?, ?it/s]"
      ]
     },
     "metadata": {},
     "output_type": "display_data"
    },
    {
     "name": "stdout",
     "output_type": "stream",
     "text": [
      "Epoch 168:\n",
      "Train Loss: 142.5072, Train MAE: 8.15%\n",
      "Val Loss: 135.7312, Val MAE: 7.98%\n"
     ]
    },
    {
     "data": {
      "application/vnd.jupyter.widget-view+json": {
       "model_id": "8f36395c14394334bf82bd35e14e7b68",
       "version_major": 2,
       "version_minor": 0
      },
      "text/plain": [
       "Epoch 169/200:   0%|          | 0/68 [00:00<?, ?it/s]"
      ]
     },
     "metadata": {},
     "output_type": "display_data"
    },
    {
     "name": "stdout",
     "output_type": "stream",
     "text": [
      "Epoch 169:\n",
      "Train Loss: 153.7952, Train MAE: 8.62%\n",
      "Val Loss: 104.7614, Val MAE: 6.06%\n"
     ]
    },
    {
     "data": {
      "application/vnd.jupyter.widget-view+json": {
       "model_id": "93964d48fa294415a40170401ae9492e",
       "version_major": 2,
       "version_minor": 0
      },
      "text/plain": [
       "Epoch 170/200:   0%|          | 0/68 [00:00<?, ?it/s]"
      ]
     },
     "metadata": {},
     "output_type": "display_data"
    },
    {
     "name": "stdout",
     "output_type": "stream",
     "text": [
      "Epoch 170:\n",
      "Train Loss: 131.9977, Train MAE: 7.69%\n",
      "Val Loss: 105.4107, Val MAE: 6.14%\n"
     ]
    },
    {
     "data": {
      "application/vnd.jupyter.widget-view+json": {
       "model_id": "68e69cf4a5fb4d3a86234e09f7e894af",
       "version_major": 2,
       "version_minor": 0
      },
      "text/plain": [
       "Epoch 171/200:   0%|          | 0/68 [00:00<?, ?it/s]"
      ]
     },
     "metadata": {},
     "output_type": "display_data"
    },
    {
     "name": "stdout",
     "output_type": "stream",
     "text": [
      "Epoch 171:\n",
      "Train Loss: 135.0938, Train MAE: 7.96%\n",
      "Val Loss: 112.0399, Val MAE: 6.63%\n"
     ]
    },
    {
     "data": {
      "application/vnd.jupyter.widget-view+json": {
       "model_id": "549c0a206ee54255a6f0bd33382d552a",
       "version_major": 2,
       "version_minor": 0
      },
      "text/plain": [
       "Epoch 172/200:   0%|          | 0/68 [00:00<?, ?it/s]"
      ]
     },
     "metadata": {},
     "output_type": "display_data"
    },
    {
     "name": "stdout",
     "output_type": "stream",
     "text": [
      "Epoch 172:\n",
      "Train Loss: 141.7437, Train MAE: 8.14%\n",
      "Val Loss: 179.8838, Val MAE: 10.05%\n"
     ]
    },
    {
     "data": {
      "application/vnd.jupyter.widget-view+json": {
       "model_id": "467a2399d2b140c58cc7922754ad4dc6",
       "version_major": 2,
       "version_minor": 0
      },
      "text/plain": [
       "Epoch 173/200:   0%|          | 0/68 [00:00<?, ?it/s]"
      ]
     },
     "metadata": {},
     "output_type": "display_data"
    },
    {
     "name": "stdout",
     "output_type": "stream",
     "text": [
      "Epoch 173:\n",
      "Train Loss: 132.6574, Train MAE: 7.72%\n",
      "Val Loss: 117.4548, Val MAE: 7.12%\n"
     ]
    },
    {
     "data": {
      "application/vnd.jupyter.widget-view+json": {
       "model_id": "6344815bc4a44342a9dc6d602c165c62",
       "version_major": 2,
       "version_minor": 0
      },
      "text/plain": [
       "Epoch 174/200:   0%|          | 0/68 [00:00<?, ?it/s]"
      ]
     },
     "metadata": {},
     "output_type": "display_data"
    },
    {
     "name": "stdout",
     "output_type": "stream",
     "text": [
      "Epoch 174:\n",
      "Train Loss: 126.1741, Train MAE: 7.40%\n",
      "Val Loss: 100.4307, Val MAE: 5.74%\n"
     ]
    },
    {
     "data": {
      "application/vnd.jupyter.widget-view+json": {
       "model_id": "65e1cd0dbd4043ae8dd447cda0cb81f3",
       "version_major": 2,
       "version_minor": 0
      },
      "text/plain": [
       "Epoch 175/200:   0%|          | 0/68 [00:00<?, ?it/s]"
      ]
     },
     "metadata": {},
     "output_type": "display_data"
    },
    {
     "name": "stdout",
     "output_type": "stream",
     "text": [
      "Epoch 175:\n",
      "Train Loss: 132.5670, Train MAE: 7.80%\n",
      "Val Loss: 142.3552, Val MAE: 8.29%\n"
     ]
    },
    {
     "data": {
      "application/vnd.jupyter.widget-view+json": {
       "model_id": "86c0dcf5dd4b44fdac956ae6637c5910",
       "version_major": 2,
       "version_minor": 0
      },
      "text/plain": [
       "Epoch 176/200:   0%|          | 0/68 [00:00<?, ?it/s]"
      ]
     },
     "metadata": {},
     "output_type": "display_data"
    },
    {
     "name": "stdout",
     "output_type": "stream",
     "text": [
      "Epoch 176:\n",
      "Train Loss: 133.7742, Train MAE: 7.82%\n",
      "Val Loss: 155.9493, Val MAE: 9.07%\n"
     ]
    },
    {
     "data": {
      "application/vnd.jupyter.widget-view+json": {
       "model_id": "4bbf5de50e32481c8d6132d7e573e972",
       "version_major": 2,
       "version_minor": 0
      },
      "text/plain": [
       "Epoch 177/200:   0%|          | 0/68 [00:00<?, ?it/s]"
      ]
     },
     "metadata": {},
     "output_type": "display_data"
    },
    {
     "name": "stdout",
     "output_type": "stream",
     "text": [
      "Epoch 177:\n",
      "Train Loss: 137.1974, Train MAE: 7.92%\n",
      "Val Loss: 133.9822, Val MAE: 7.90%\n"
     ]
    },
    {
     "data": {
      "application/vnd.jupyter.widget-view+json": {
       "model_id": "f2e923f273d44ba6801cf53cf86efd80",
       "version_major": 2,
       "version_minor": 0
      },
      "text/plain": [
       "Epoch 178/200:   0%|          | 0/68 [00:00<?, ?it/s]"
      ]
     },
     "metadata": {},
     "output_type": "display_data"
    },
    {
     "name": "stdout",
     "output_type": "stream",
     "text": [
      "Epoch 178:\n",
      "Train Loss: 135.7241, Train MAE: 7.78%\n",
      "Val Loss: 96.6685, Val MAE: 5.44%\n"
     ]
    },
    {
     "data": {
      "application/vnd.jupyter.widget-view+json": {
       "model_id": "81238e24097846a5b97165d09db0297f",
       "version_major": 2,
       "version_minor": 0
      },
      "text/plain": [
       "Epoch 179/200:   0%|          | 0/68 [00:00<?, ?it/s]"
      ]
     },
     "metadata": {},
     "output_type": "display_data"
    },
    {
     "name": "stdout",
     "output_type": "stream",
     "text": [
      "Epoch 179:\n",
      "Train Loss: 138.4132, Train MAE: 7.97%\n",
      "Val Loss: 112.8439, Val MAE: 6.64%\n"
     ]
    },
    {
     "data": {
      "application/vnd.jupyter.widget-view+json": {
       "model_id": "db7b7b3d9a8d461284ed90ee47eddfe4",
       "version_major": 2,
       "version_minor": 0
      },
      "text/plain": [
       "Epoch 180/200:   0%|          | 0/68 [00:00<?, ?it/s]"
      ]
     },
     "metadata": {},
     "output_type": "display_data"
    },
    {
     "name": "stdout",
     "output_type": "stream",
     "text": [
      "Epoch 180:\n",
      "Train Loss: 133.2100, Train MAE: 7.67%\n",
      "Val Loss: 109.2813, Val MAE: 6.41%\n"
     ]
    },
    {
     "data": {
      "application/vnd.jupyter.widget-view+json": {
       "model_id": "54158e6a06534bedbcd6da500ee2e699",
       "version_major": 2,
       "version_minor": 0
      },
      "text/plain": [
       "Epoch 181/200:   0%|          | 0/68 [00:00<?, ?it/s]"
      ]
     },
     "metadata": {},
     "output_type": "display_data"
    },
    {
     "name": "stdout",
     "output_type": "stream",
     "text": [
      "Epoch 181:\n",
      "Train Loss: 128.1179, Train MAE: 7.61%\n",
      "Val Loss: 106.7083, Val MAE: 6.22%\n"
     ]
    },
    {
     "data": {
      "application/vnd.jupyter.widget-view+json": {
       "model_id": "9081ef96ca9247fcbe4ffe99f1d65110",
       "version_major": 2,
       "version_minor": 0
      },
      "text/plain": [
       "Epoch 182/200:   0%|          | 0/68 [00:00<?, ?it/s]"
      ]
     },
     "metadata": {},
     "output_type": "display_data"
    },
    {
     "name": "stdout",
     "output_type": "stream",
     "text": [
      "Epoch 182:\n",
      "Train Loss: 141.2669, Train MAE: 8.18%\n",
      "Val Loss: 163.5999, Val MAE: 9.56%\n"
     ]
    },
    {
     "data": {
      "application/vnd.jupyter.widget-view+json": {
       "model_id": "7bc346c8ca7a4761bcc2ee0fece8a2a3",
       "version_major": 2,
       "version_minor": 0
      },
      "text/plain": [
       "Epoch 183/200:   0%|          | 0/68 [00:00<?, ?it/s]"
      ]
     },
     "metadata": {},
     "output_type": "display_data"
    },
    {
     "name": "stdout",
     "output_type": "stream",
     "text": [
      "Epoch 183:\n",
      "Train Loss: 147.2314, Train MAE: 8.37%\n",
      "Val Loss: 123.5195, Val MAE: 7.35%\n"
     ]
    },
    {
     "data": {
      "application/vnd.jupyter.widget-view+json": {
       "model_id": "0cd2d74d14494cc891bf108a50b1ac96",
       "version_major": 2,
       "version_minor": 0
      },
      "text/plain": [
       "Epoch 184/200:   0%|          | 0/68 [00:00<?, ?it/s]"
      ]
     },
     "metadata": {},
     "output_type": "display_data"
    },
    {
     "name": "stdout",
     "output_type": "stream",
     "text": [
      "Epoch 184:\n",
      "Train Loss: 139.3172, Train MAE: 8.12%\n",
      "Val Loss: 140.0580, Val MAE: 8.18%\n"
     ]
    },
    {
     "data": {
      "application/vnd.jupyter.widget-view+json": {
       "model_id": "b45af1d3fba44ddaa1ccb74972613562",
       "version_major": 2,
       "version_minor": 0
      },
      "text/plain": [
       "Epoch 185/200:   0%|          | 0/68 [00:00<?, ?it/s]"
      ]
     },
     "metadata": {},
     "output_type": "display_data"
    },
    {
     "name": "stdout",
     "output_type": "stream",
     "text": [
      "Epoch 185:\n",
      "Train Loss: 142.1152, Train MAE: 8.12%\n",
      "Val Loss: 105.2313, Val MAE: 6.04%\n"
     ]
    },
    {
     "data": {
      "application/vnd.jupyter.widget-view+json": {
       "model_id": "6631447aaa8e452591468baceaab83bd",
       "version_major": 2,
       "version_minor": 0
      },
      "text/plain": [
       "Epoch 186/200:   0%|          | 0/68 [00:00<?, ?it/s]"
      ]
     },
     "metadata": {},
     "output_type": "display_data"
    },
    {
     "name": "stdout",
     "output_type": "stream",
     "text": [
      "Epoch 186:\n",
      "Train Loss: 131.7167, Train MAE: 7.61%\n",
      "Val Loss: 103.0081, Val MAE: 5.90%\n"
     ]
    },
    {
     "data": {
      "application/vnd.jupyter.widget-view+json": {
       "model_id": "24971c8d3be44672b07218ba275fba2c",
       "version_major": 2,
       "version_minor": 0
      },
      "text/plain": [
       "Epoch 187/200:   0%|          | 0/68 [00:00<?, ?it/s]"
      ]
     },
     "metadata": {},
     "output_type": "display_data"
    },
    {
     "name": "stdout",
     "output_type": "stream",
     "text": [
      "Epoch 187:\n",
      "Train Loss: 142.5818, Train MAE: 8.15%\n",
      "Val Loss: 106.1149, Val MAE: 6.21%\n"
     ]
    },
    {
     "data": {
      "application/vnd.jupyter.widget-view+json": {
       "model_id": "593f4759fab1400cba7a393bbf8211d9",
       "version_major": 2,
       "version_minor": 0
      },
      "text/plain": [
       "Epoch 188/200:   0%|          | 0/68 [00:00<?, ?it/s]"
      ]
     },
     "metadata": {},
     "output_type": "display_data"
    },
    {
     "name": "stdout",
     "output_type": "stream",
     "text": [
      "Epoch 188:\n",
      "Train Loss: 133.4857, Train MAE: 7.72%\n",
      "Val Loss: 121.3860, Val MAE: 7.32%\n"
     ]
    },
    {
     "data": {
      "application/vnd.jupyter.widget-view+json": {
       "model_id": "0c705ee9952e4e0ea3b5fbcabc053da9",
       "version_major": 2,
       "version_minor": 0
      },
      "text/plain": [
       "Epoch 189/200:   0%|          | 0/68 [00:00<?, ?it/s]"
      ]
     },
     "metadata": {},
     "output_type": "display_data"
    },
    {
     "name": "stdout",
     "output_type": "stream",
     "text": [
      "Epoch 189:\n",
      "Train Loss: 136.3189, Train MAE: 7.88%\n",
      "Val Loss: 104.7835, Val MAE: 6.14%\n"
     ]
    },
    {
     "data": {
      "application/vnd.jupyter.widget-view+json": {
       "model_id": "b67cfdaed5a7459d8feabdded7c69d84",
       "version_major": 2,
       "version_minor": 0
      },
      "text/plain": [
       "Epoch 190/200:   0%|          | 0/68 [00:00<?, ?it/s]"
      ]
     },
     "metadata": {},
     "output_type": "display_data"
    },
    {
     "name": "stdout",
     "output_type": "stream",
     "text": [
      "Epoch 190:\n",
      "Train Loss: 133.2884, Train MAE: 7.81%\n",
      "Val Loss: 101.6591, Val MAE: 5.84%\n"
     ]
    },
    {
     "data": {
      "application/vnd.jupyter.widget-view+json": {
       "model_id": "5f645e226b5e49b58934ad2b6faa1af7",
       "version_major": 2,
       "version_minor": 0
      },
      "text/plain": [
       "Epoch 191/200:   0%|          | 0/68 [00:00<?, ?it/s]"
      ]
     },
     "metadata": {},
     "output_type": "display_data"
    },
    {
     "name": "stdout",
     "output_type": "stream",
     "text": [
      "Epoch 191:\n",
      "Train Loss: 133.2262, Train MAE: 7.72%\n",
      "Val Loss: 104.9030, Val MAE: 6.07%\n"
     ]
    },
    {
     "data": {
      "application/vnd.jupyter.widget-view+json": {
       "model_id": "1f2ef55af06641ee80e73ed5ba2777e6",
       "version_major": 2,
       "version_minor": 0
      },
      "text/plain": [
       "Epoch 192/200:   0%|          | 0/68 [00:00<?, ?it/s]"
      ]
     },
     "metadata": {},
     "output_type": "display_data"
    },
    {
     "name": "stdout",
     "output_type": "stream",
     "text": [
      "Epoch 192:\n",
      "Train Loss: 137.7312, Train MAE: 7.92%\n",
      "Val Loss: 173.8513, Val MAE: 10.20%\n"
     ]
    },
    {
     "data": {
      "application/vnd.jupyter.widget-view+json": {
       "model_id": "8d00e15bbd1646f6a5095db898e3e2fa",
       "version_major": 2,
       "version_minor": 0
      },
      "text/plain": [
       "Epoch 193/200:   0%|          | 0/68 [00:00<?, ?it/s]"
      ]
     },
     "metadata": {},
     "output_type": "display_data"
    },
    {
     "name": "stdout",
     "output_type": "stream",
     "text": [
      "Epoch 193:\n",
      "Train Loss: 136.8841, Train MAE: 7.86%\n",
      "Val Loss: 99.7081, Val MAE: 5.65%\n"
     ]
    },
    {
     "data": {
      "application/vnd.jupyter.widget-view+json": {
       "model_id": "e91b47e4326e4b3aad0f9d390fd80243",
       "version_major": 2,
       "version_minor": 0
      },
      "text/plain": [
       "Epoch 194/200:   0%|          | 0/68 [00:00<?, ?it/s]"
      ]
     },
     "metadata": {},
     "output_type": "display_data"
    },
    {
     "name": "stdout",
     "output_type": "stream",
     "text": [
      "Epoch 194:\n",
      "Train Loss: 132.4546, Train MAE: 7.68%\n",
      "Val Loss: 113.9125, Val MAE: 6.71%\n"
     ]
    },
    {
     "data": {
      "application/vnd.jupyter.widget-view+json": {
       "model_id": "9d84b1f8dae241d4ac5e715c6238e6c8",
       "version_major": 2,
       "version_minor": 0
      },
      "text/plain": [
       "Epoch 195/200:   0%|          | 0/68 [00:00<?, ?it/s]"
      ]
     },
     "metadata": {},
     "output_type": "display_data"
    },
    {
     "name": "stdout",
     "output_type": "stream",
     "text": [
      "Epoch 195:\n",
      "Train Loss: 137.3941, Train MAE: 7.96%\n",
      "Val Loss: 103.4798, Val MAE: 5.97%\n"
     ]
    },
    {
     "data": {
      "application/vnd.jupyter.widget-view+json": {
       "model_id": "1eb8a78814da42d89e2d64b8bf6d3cfb",
       "version_major": 2,
       "version_minor": 0
      },
      "text/plain": [
       "Epoch 196/200:   0%|          | 0/68 [00:00<?, ?it/s]"
      ]
     },
     "metadata": {},
     "output_type": "display_data"
    },
    {
     "name": "stdout",
     "output_type": "stream",
     "text": [
      "Epoch 196:\n",
      "Train Loss: 139.9985, Train MAE: 8.01%\n",
      "Val Loss: 118.5615, Val MAE: 6.99%\n"
     ]
    },
    {
     "data": {
      "application/vnd.jupyter.widget-view+json": {
       "model_id": "96bc788236fd413f872f1fb0e2304cfa",
       "version_major": 2,
       "version_minor": 0
      },
      "text/plain": [
       "Epoch 197/200:   0%|          | 0/68 [00:00<?, ?it/s]"
      ]
     },
     "metadata": {},
     "output_type": "display_data"
    },
    {
     "name": "stdout",
     "output_type": "stream",
     "text": [
      "Epoch 197:\n",
      "Train Loss: 132.6652, Train MAE: 7.73%\n",
      "Val Loss: 140.4034, Val MAE: 8.40%\n"
     ]
    },
    {
     "data": {
      "application/vnd.jupyter.widget-view+json": {
       "model_id": "ddfcead59b8742dda56ef3fb7c470476",
       "version_major": 2,
       "version_minor": 0
      },
      "text/plain": [
       "Epoch 198/200:   0%|          | 0/68 [00:00<?, ?it/s]"
      ]
     },
     "metadata": {},
     "output_type": "display_data"
    },
    {
     "name": "stdout",
     "output_type": "stream",
     "text": [
      "Epoch 198:\n",
      "Train Loss: 130.1329, Train MAE: 7.59%\n",
      "Val Loss: 114.3071, Val MAE: 6.87%\n",
      "Early stopping triggered at epoch 198\n"
     ]
    },
    {
     "data": {
      "image/png": "[encoded data removed]",
      "text/plain": [
       "<Figure size 1500x500 with 2 Axes>"
      ]
     },
     "metadata": {},
     "output_type": "display_data"
    },
    {
     "data": {
      "application/vnd.jupyter.widget-view+json": {
       "model_id": "d78dcb6bcccc48e7abd65a8e8350dd05",
       "version_major": 2,
       "version_minor": 0
      },
      "text/plain": [
       "Making predictions:   0%|          | 0/18 [00:00<?, ?it/s]"
      ]
     },
     "metadata": {},
     "output_type": "display_data"
    }
   ],
   "source": [
    "# Train model\n",
    "model = train_model(model, train_loader, val_loader, EPOCHS, criterion, optimizer)\n",
    "\n",
    "# Make predictions on test set\n",
    "model.eval()\n",
    "all_preds = []\n",
    "all_files = []\n",
    "\n",
    "with torch.no_grad():\n",
    "    for inputs in tqdm(test_loader, desc=\"Making predictions\"):\n",
    "        inputs = inputs.to(DEVICE)\n",
    "        outputs = model(inputs)\n",
    "        all_preds.extend(outputs.cpu().numpy())\n",
    "        all_files.extend(test_df['id'].iloc[len(all_files):len(all_files)+len(inputs)].values)\n",
    "\n",
    "# Save predictions to CSV\n",
    "results_df = pd.DataFrame({\n",
    "    'id': all_files,\n",
    "    'predicted_percentage': all_preds\n",
    "})\n",
    "results_df.to_csv('test_predictions.csv', index=False)"
   ]
  },
  {
   "cell_type": "markdown",
   "id": "97001f60",
   "metadata": {},
   "source": [
    "## View Distribution"
   ]
  },
  {
   "cell_type": "code",
   "execution_count": null,
   "id": "4f0fb2d4",
   "metadata": {},
   "outputs": [
    {
     "data": {
      "image/png": "[encoded data removed]",
      "text/plain": [
       "<Figure size 640x480 with 1 Axes>"
      ]
     },
     "metadata": {},
     "output_type": "display_data"
    }
   ],
   "source": [
    "# ====================================================\n",
    "#                Predicted Distribution     \n",
    "# ====================================================\n",
    "\n",
    "df_pred = pd.read_csv('C:/IIUM/AI Note IIUM/Deep_Learning/Project/test_predictions.csv')\n",
    "df_pred['predicted_percentage'] = df_pred['predicted_percentage'].str.strip('[]').astype(float)\n",
    "\n",
    "plt.hist(df_pred['predicted_percentage'], bins=30,)\n",
    "plt.xlabel('Predicted Disease Percentage')\n",
    "plt.ylabel('Count')\n",
    "plt.title('Distribution of Test Set Predictions')\n",
    "plt.show()"
   ]
  },
  {
   "cell_type": "code",
   "execution_count": null,
   "id": "674e8d2b",
   "metadata": {},
   "outputs": [
    {
     "data": {
      "image/png": "[encoded data removed]",
      "text/plain": [
       "<Figure size 640x480 with 1 Axes>"
      ]
     },
     "metadata": {},
     "output_type": "display_data"
    }
   ],
   "source": [
    "# ====================================================\n",
    "#                Train Dataset Distribution     \n",
    "# ====================================================\n",
    "\n",
    "df_pred = pd.read_csv('C:/IIUM/AI Note IIUM/Deep_Learning/Project/Data/train.csv')\n",
    "df_pred['label'] = df_pred['label'].astype(float)\n",
    "\n",
    "plt.hist(df_pred['label'], bins=30,)\n",
    "plt.xlabel('train Disease Percentage')\n",
    "plt.ylabel('Count')\n",
    "plt.title('Distribution of Train Set')\n",
    "plt.show()"
   ]
  },
  {
   "cell_type": "code",
   "execution_count": null,
   "id": "5d086f62",
   "metadata": {},
   "outputs": [],
   "source": []
  }
 ],
 "metadata": {
  "kernelspec": {
   "display_name": "venv",
   "language": "python",
   "name": "python3"
  },
  "language_info": {
   "codemirror_mode": {
    "name": "ipython",
    "version": 3
   },
   "file_extension": ".py",
   "mimetype": "text/x-python",
   "name": "python",
   "nbconvert_exporter": "python",
   "pygments_lexer": "ipython3",
   "version": "3.10.0"
  }
 },
 "nbformat": 4,
 "nbformat_minor": 5
}
